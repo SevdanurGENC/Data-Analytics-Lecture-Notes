{
 "cells": [
  {
   "cell_type": "markdown",
   "metadata": {
    "colab_type": "text",
    "id": "view-in-github"
   },
   "source": [
    "<a href=\"https://colab.research.google.com/github/kaanberke/python3_101/blob/master/Python3%20101.ipynb\" target=\"_parent\"><img src=\"https://colab.research.google.com/assets/colab-badge.svg\" alt=\"Open In Colab\"/></a>"
   ]
  },
  {
   "cell_type": "markdown",
   "metadata": {
    "colab_type": "text",
    "id": "xBq8uEszJkqw"
   },
   "source": [
    "# Python 101"
   ]
  },
  {
   "cell_type": "markdown",
   "metadata": {
    "colab_type": "text",
    "id": "HMUDlnzZJkqx"
   },
   "source": [
    "![image](https://media.geeksforgeeks.org/wp-content/uploads/20191023173512/Python-data-structure.jpg)\n",
    "\n",
    "credit: https://www.geeksforgeeks.org/"
   ]
  },
  {
   "cell_type": "markdown",
   "metadata": {},
   "source": [
    "![mutable/immutable objects](https://miro.medium.com/max/1316/1*uFlTNY4W3czywyU18zxl8w.png)\n",
    "\n",
    "credit: https://medium.com/@meghamohan/mutable-and-immutable-side-of-python-c2145cf72747"
   ]
  },
  {
   "cell_type": "markdown",
   "metadata": {
    "colab_type": "text",
    "id": "WF0c72S0Jkqy"
   },
   "source": [
    "___\n",
    "## Karakter Dizileri ( Strings )"
   ]
  },
  {
   "cell_type": "code",
   "execution_count": 1,
   "metadata": {
    "colab": {
     "base_uri": "https://localhost:8080/",
     "height": 34
    },
    "colab_type": "code",
    "id": "WK9Tyo8qJkqz",
    "outputId": "ae2e270b-aec3-4557-f5eb-21ef680e7718"
   },
   "outputs": [
    {
     "data": {
      "text/plain": [
       "'c'"
      ]
     },
     "execution_count": 1,
     "metadata": {},
     "output_type": "execute_result"
    }
   ],
   "source": [
    "'c'"
   ]
  },
  {
   "cell_type": "code",
   "execution_count": null,
   "metadata": {
    "colab": {},
    "colab_type": "code",
    "id": "2u69GOy6Jkq5"
   },
   "outputs": [],
   "source": [
    "' '\n",
    "\n",
    "\" \"\n",
    "\n",
    "\"\"\" \"\"\""
   ]
  },
  {
   "cell_type": "code",
   "execution_count": null,
   "metadata": {
    "colab": {},
    "colab_type": "code",
    "id": "bB2TZmfXJkq7"
   },
   "outputs": [],
   "source": [
    "\"Hello World\""
   ]
  },
  {
   "cell_type": "code",
   "execution_count": null,
   "metadata": {
    "colab": {},
    "colab_type": "code",
    "id": "2x4g3wh6Jkq9"
   },
   "outputs": [],
   "source": [
    "\"\"\"\n",
    "Lorem \n",
    "ipsum\n",
    "\"\"\""
   ]
  },
  {
   "cell_type": "code",
   "execution_count": 2,
   "metadata": {
    "colab": {},
    "colab_type": "code",
    "id": "aYSkdveQJkq_"
   },
   "outputs": [
    {
     "data": {
      "text/plain": [
       "str"
      ]
     },
     "execution_count": 2,
     "metadata": {},
     "output_type": "execute_result"
    }
   ],
   "source": [
    "type('Lorem ipsum')"
   ]
  },
  {
   "cell_type": "code",
   "execution_count": 3,
   "metadata": {
    "colab": {},
    "colab_type": "code",
    "id": "f3hIC_cTJkrB"
   },
   "outputs": [
    {
     "data": {
      "text/plain": [
       "'Lorem ipsum'"
      ]
     },
     "execution_count": 3,
     "metadata": {},
     "output_type": "execute_result"
    }
   ],
   "source": [
    "\"Lorem\" +  \" \" + \"ipsum\""
   ]
  },
  {
   "cell_type": "code",
   "execution_count": 4,
   "metadata": {
    "colab": {},
    "colab_type": "code",
    "id": "wFsjpwIsJkrE"
   },
   "outputs": [
    {
     "data": {
      "text/plain": [
       "'Python bir proglama dilidir.'"
      ]
     },
     "execution_count": 4,
     "metadata": {},
     "output_type": "execute_result"
    }
   ],
   "source": [
    "\"Python\" \" \" \"bir\" \" \" \"proglama\" \" \" \"dilidir.\""
   ]
  },
  {
   "cell_type": "markdown",
   "metadata": {
    "colab_type": "text",
    "id": "vQse1DFIJkrI"
   },
   "source": [
    "___\n",
    "## Sayılar ( Numbers )"
   ]
  },
  {
   "cell_type": "code",
   "execution_count": 5,
   "metadata": {
    "colab": {},
    "colab_type": "code",
    "id": "vHy6mIU1JkrI"
   },
   "outputs": [
    {
     "data": {
      "text/plain": [
       "int"
      ]
     },
     "execution_count": 5,
     "metadata": {},
     "output_type": "execute_result"
    }
   ],
   "source": [
    "type(123)"
   ]
  },
  {
   "cell_type": "code",
   "execution_count": 6,
   "metadata": {
    "colab": {},
    "colab_type": "code",
    "id": "quas3r0gJkrK"
   },
   "outputs": [
    {
     "data": {
      "text/plain": [
       "float"
      ]
     },
     "execution_count": 6,
     "metadata": {},
     "output_type": "execute_result"
    }
   ],
   "source": [
    "type(22.3)"
   ]
  },
  {
   "cell_type": "code",
   "execution_count": 7,
   "metadata": {
    "colab": {},
    "colab_type": "code",
    "id": "Ah4oWZ2QJkrM"
   },
   "outputs": [
    {
     "data": {
      "text/plain": [
       "complex"
      ]
     },
     "execution_count": 7,
     "metadata": {},
     "output_type": "execute_result"
    }
   ],
   "source": [
    "type(7+2j)"
   ]
  },
  {
   "cell_type": "markdown",
   "metadata": {
    "colab_type": "text",
    "id": "LC5-o1chJkrO"
   },
   "source": [
    "___\n",
    "## Aritmetik Oparatörler ( Arithmetic Operators )"
   ]
  },
  {
   "cell_type": "code",
   "execution_count": 8,
   "metadata": {
    "colab": {},
    "colab_type": "code",
    "id": "ECFbr1XuJkrO"
   },
   "outputs": [
    {
     "data": {
      "text/plain": [
       "45"
      ]
     },
     "execution_count": 8,
     "metadata": {},
     "output_type": "execute_result"
    }
   ],
   "source": [
    "100 - 55"
   ]
  },
  {
   "cell_type": "code",
   "execution_count": 9,
   "metadata": {
    "colab": {},
    "colab_type": "code",
    "id": "wZsYupFqJkrQ"
   },
   "outputs": [
    {
     "data": {
      "text/plain": [
       "3.3"
      ]
     },
     "execution_count": 9,
     "metadata": {},
     "output_type": "execute_result"
    }
   ],
   "source": [
    "4.5 - 1.2"
   ]
  },
  {
   "cell_type": "code",
   "execution_count": 10,
   "metadata": {
    "colab": {},
    "colab_type": "code",
    "id": "gKx04jX5JkrS"
   },
   "outputs": [
    {
     "data": {
      "text/plain": [
       "9.0"
      ]
     },
     "execution_count": 10,
     "metadata": {},
     "output_type": "execute_result"
    }
   ],
   "source": [
    "4.5 * 2"
   ]
  },
  {
   "cell_type": "code",
   "execution_count": 11,
   "metadata": {
    "colab": {},
    "colab_type": "code",
    "id": "3m1dbTPRJkrU"
   },
   "outputs": [
    {
     "data": {
      "text/plain": [
       "5.0"
      ]
     },
     "execution_count": 11,
     "metadata": {},
     "output_type": "execute_result"
    }
   ],
   "source": [
    "10 / 2"
   ]
  },
  {
   "cell_type": "code",
   "execution_count": 12,
   "metadata": {
    "colab": {},
    "colab_type": "code",
    "id": "GkaKS_zyJkrW"
   },
   "outputs": [
    {
     "data": {
      "text/plain": [
       "16"
      ]
     },
     "execution_count": 12,
     "metadata": {},
     "output_type": "execute_result"
    }
   ],
   "source": [
    "4**2"
   ]
  },
  {
   "cell_type": "code",
   "execution_count": 13,
   "metadata": {
    "colab": {},
    "colab_type": "code",
    "id": "x8nFQ7-2JkrY"
   },
   "outputs": [
    {
     "data": {
      "text/plain": [
       "1"
      ]
     },
     "execution_count": 13,
     "metadata": {},
     "output_type": "execute_result"
    }
   ],
   "source": [
    "10 % 3"
   ]
  },
  {
   "cell_type": "code",
   "execution_count": 14,
   "metadata": {
    "colab": {},
    "colab_type": "code",
    "id": "GkuRzYdiJkra"
   },
   "outputs": [
    {
     "data": {
      "text/plain": [
       "3"
      ]
     },
     "execution_count": 14,
     "metadata": {},
     "output_type": "execute_result"
    }
   ],
   "source": [
    "10 // 3"
   ]
  },
  {
   "cell_type": "code",
   "execution_count": 15,
   "metadata": {
    "colab": {},
    "colab_type": "code",
    "id": "HiVV2JdBJkrc"
   },
   "outputs": [
    {
     "data": {
      "text/plain": [
       "25"
      ]
     },
     "execution_count": 15,
     "metadata": {},
     "output_type": "execute_result"
    }
   ],
   "source": [
    "pow(5, 2)"
   ]
  },
  {
   "cell_type": "code",
   "execution_count": 16,
   "metadata": {
    "colab": {},
    "colab_type": "code",
    "id": "pvzE9wvCJkre"
   },
   "outputs": [
    {
     "data": {
      "text/plain": [
       "int"
      ]
     },
     "execution_count": 16,
     "metadata": {},
     "output_type": "execute_result"
    }
   ],
   "source": [
    "type(2020)"
   ]
  },
  {
   "cell_type": "code",
   "execution_count": 17,
   "metadata": {
    "colab": {},
    "colab_type": "code",
    "id": "j2O1BKgfJkrG"
   },
   "outputs": [
    {
     "data": {
      "text/plain": [
       "'PythonPython'"
      ]
     },
     "execution_count": 17,
     "metadata": {},
     "output_type": "execute_result"
    }
   ],
   "source": [
    "\"Python\"*2"
   ]
  },
  {
   "cell_type": "markdown",
   "metadata": {
    "colab_type": "text",
    "id": "OS_gd-AjJkry"
   },
   "source": [
    "___\n",
    "## Değişkenler ( Variables )"
   ]
  },
  {
   "cell_type": "code",
   "execution_count": 18,
   "metadata": {
    "colab": {},
    "colab_type": "code",
    "id": "NVU2uRsKJkry"
   },
   "outputs": [],
   "source": [
    "değişken1 = 112\n",
    "değişken2 = 155"
   ]
  },
  {
   "cell_type": "code",
   "execution_count": 19,
   "metadata": {
    "colab": {},
    "colab_type": "code",
    "id": "YtzLclPYJkr0"
   },
   "outputs": [
    {
     "data": {
      "text/plain": [
       "112"
      ]
     },
     "execution_count": 19,
     "metadata": {},
     "output_type": "execute_result"
    }
   ],
   "source": [
    "değişken1"
   ]
  },
  {
   "cell_type": "code",
   "execution_count": 20,
   "metadata": {
    "colab": {},
    "colab_type": "code",
    "id": "S_l93AIwJkr2"
   },
   "outputs": [],
   "source": [
    "değişken1, değişken2 = değişken2, değişken1"
   ]
  },
  {
   "cell_type": "code",
   "execution_count": 21,
   "metadata": {
    "colab": {},
    "colab_type": "code",
    "id": "rjy2dTpmJkr3"
   },
   "outputs": [
    {
     "data": {
      "text/plain": [
       "155"
      ]
     },
     "execution_count": 21,
     "metadata": {},
     "output_type": "execute_result"
    }
   ],
   "source": [
    "değişken1"
   ]
  },
  {
   "cell_type": "code",
   "execution_count": 22,
   "metadata": {
    "colab": {},
    "colab_type": "code",
    "id": "blSdUaiwJkrh"
   },
   "outputs": [],
   "source": [
    "saatlik_ücret = 10\n",
    "haftalık_çalışma_saati = 40"
   ]
  },
  {
   "cell_type": "code",
   "execution_count": 23,
   "metadata": {
    "colab": {},
    "colab_type": "code",
    "id": "w84b9N1iJkrj"
   },
   "outputs": [
    {
     "data": {
      "text/plain": [
       "400"
      ]
     },
     "execution_count": 23,
     "metadata": {},
     "output_type": "execute_result"
    }
   ],
   "source": [
    "maaş = haftalık_çalışma_saati * saatlik_ücret\n",
    "maaş"
   ]
  },
  {
   "cell_type": "code",
   "execution_count": 24,
   "metadata": {
    "colab": {},
    "colab_type": "code",
    "id": "ipZ5R5XpJkrk"
   },
   "outputs": [],
   "source": [
    "username = \"admin\""
   ]
  },
  {
   "cell_type": "code",
   "execution_count": 25,
   "metadata": {
    "colab": {},
    "colab_type": "code",
    "id": "RWhzoaoNJkrn"
   },
   "outputs": [],
   "source": [
    "password = \"password\""
   ]
  },
  {
   "cell_type": "code",
   "execution_count": 26,
   "metadata": {
    "colab": {},
    "colab_type": "code",
    "id": "bJ-h6zLIJkrp"
   },
   "outputs": [
    {
     "data": {
      "text/plain": [
       "5"
      ]
     },
     "execution_count": 26,
     "metadata": {},
     "output_type": "execute_result"
    }
   ],
   "source": [
    "len(username)"
   ]
  },
  {
   "cell_type": "code",
   "execution_count": 27,
   "metadata": {
    "colab": {},
    "colab_type": "code",
    "id": "bhiKQN4QJkrr"
   },
   "outputs": [
    {
     "data": {
      "text/plain": [
       "13"
      ]
     },
     "execution_count": 27,
     "metadata": {},
     "output_type": "execute_result"
    }
   ],
   "source": [
    "len(username) + len(password)"
   ]
  },
  {
   "cell_type": "code",
   "execution_count": null,
   "metadata": {
    "colab": {},
    "colab_type": "code",
    "id": "0h-Svli1Jkrt"
   },
   "outputs": [],
   "source": [
    "sayı = 5\n",
    "# 5\n",
    "\n",
    "sayı += 5\n",
    "print(sayı)\n",
    "# 10\n",
    "\n",
    "sayı -= 5\n",
    "print(sayı)\n",
    "# 5\n",
    "\n",
    "sayı *= 5\n",
    "print(sayı)\n",
    "# 25\n",
    "\n",
    "sayı /= 5\n",
    "print(sayı)\n",
    "# 5.0\n",
    "\n",
    "sayı **= 2\n",
    "print(sayı)\n",
    "# 25.0\n",
    "\n",
    "sayı //= 4\n",
    "print(sayı)\n",
    "# 6.0\n",
    "\n",
    "sayı %= 5\n",
    "print(sayı)\n",
    "# 1.0"
   ]
  },
  {
   "cell_type": "code",
   "execution_count": 28,
   "metadata": {
    "colab": {},
    "colab_type": "code",
    "id": "XZ3euUGuJkru"
   },
   "outputs": [
    {
     "data": {
      "text/plain": [
       "['False',\n",
       " 'None',\n",
       " 'True',\n",
       " 'and',\n",
       " 'as',\n",
       " 'assert',\n",
       " 'async',\n",
       " 'await',\n",
       " 'break',\n",
       " 'class',\n",
       " 'continue',\n",
       " 'def',\n",
       " 'del',\n",
       " 'elif',\n",
       " 'else',\n",
       " 'except',\n",
       " 'finally',\n",
       " 'for',\n",
       " 'from',\n",
       " 'global',\n",
       " 'if',\n",
       " 'import',\n",
       " 'in',\n",
       " 'is',\n",
       " 'lambda',\n",
       " 'nonlocal',\n",
       " 'not',\n",
       " 'or',\n",
       " 'pass',\n",
       " 'raise',\n",
       " 'return',\n",
       " 'try',\n",
       " 'while',\n",
       " 'with',\n",
       " 'yield']"
      ]
     },
     "execution_count": 28,
     "metadata": {},
     "output_type": "execute_result"
    }
   ],
   "source": [
    "#anahtar kelimeler\n",
    "import keyword\n",
    "keyword.kwlist"
   ]
  },
  {
   "cell_type": "code",
   "execution_count": 30,
   "metadata": {
    "colab": {},
    "colab_type": "code",
    "id": "n-5-YeXNJkrw"
   },
   "outputs": [],
   "source": [
    "del maaş"
   ]
  },
  {
   "cell_type": "code",
   "execution_count": 31,
   "metadata": {},
   "outputs": [
    {
     "ename": "NameError",
     "evalue": "name 'maaş' is not defined",
     "output_type": "error",
     "traceback": [
      "\u001b[0;31m---------------------------------------------------------------------------\u001b[0m",
      "\u001b[0;31mNameError\u001b[0m                                 Traceback (most recent call last)",
      "\u001b[0;32m<ipython-input-31-3588e5a5f8fd>\u001b[0m in \u001b[0;36m<module>\u001b[0;34m\u001b[0m\n\u001b[0;32m----> 1\u001b[0;31m \u001b[0mmaaş\u001b[0m\u001b[0;34m\u001b[0m\u001b[0;34m\u001b[0m\u001b[0m\n\u001b[0m",
      "\u001b[0;31mNameError\u001b[0m: name 'maaş' is not defined"
     ]
    }
   ],
   "source": [
    "maaş"
   ]
  },
  {
   "cell_type": "markdown",
   "metadata": {
    "colab_type": "text",
    "id": "oXefclbtJkr5"
   },
   "source": [
    "___\n",
    "## Print Fonksiyonu"
   ]
  },
  {
   "cell_type": "code",
   "execution_count": 32,
   "metadata": {},
   "outputs": [
    {
     "name": "stdout",
     "output_type": "stream",
     "text": [
      "Hello World\n"
     ]
    }
   ],
   "source": [
    "print(\"Hello World\")"
   ]
  },
  {
   "cell_type": "code",
   "execution_count": 33,
   "metadata": {
    "colab": {},
    "colab_type": "code",
    "id": "zMyB-Ss8Jkr5"
   },
   "outputs": [
    {
     "name": "stdout",
     "output_type": "stream",
     "text": [
      "Lorem Ipsum is simply dummy text\n"
     ]
    }
   ],
   "source": [
    "print(\"Lorem\", \"Ipsum\", \"is\", \"simply\", \"dummy\", \"text\")"
   ]
  },
  {
   "cell_type": "code",
   "execution_count": null,
   "metadata": {
    "colab": {},
    "colab_type": "code",
    "id": "WjIT8y4NJkr7"
   },
   "outputs": [],
   "source": [
    "print(\"Lorem Ipsum is simply dummy text\", sep=\" \", end=\"\\n\")"
   ]
  },
  {
   "cell_type": "code",
   "execution_count": 34,
   "metadata": {
    "colab": {},
    "colab_type": "code",
    "id": "zzrxTH1xJkr9"
   },
   "outputs": [
    {
     "name": "stdout",
     "output_type": "stream",
     "text": [
      "Lorem-Ipsum-is-simply-dummy-text\n"
     ]
    }
   ],
   "source": [
    "print(\"Lorem\", \"Ipsum\", \"is\", \"simply\", \"dummy\", \"text\", sep=\"-\", end=\"\\n\")"
   ]
  },
  {
   "cell_type": "code",
   "execution_count": 35,
   "metadata": {
    "colab": {},
    "colab_type": "code",
    "id": "PXC2avEeJkr-"
   },
   "outputs": [
    {
     "name": "stdout",
     "output_type": "stream",
     "text": [
      "Lorem-py-Ipsum-py-is-py-simply-py-dummy-py-text!!"
     ]
    }
   ],
   "source": [
    "print(\"Lorem\", \"Ipsum\", \"is\", \"simply\", \"dummy\", \"text\", sep=\"-py-\", end=\"!!\")"
   ]
  },
  {
   "cell_type": "code",
   "execution_count": 36,
   "metadata": {
    "colab": {},
    "colab_type": "code",
    "id": "ReIClT58JksB"
   },
   "outputs": [
    {
     "name": "stdout",
     "output_type": "stream",
     "text": [
      "L-o-r-e-m- -i-p-s-u-m\n"
     ]
    }
   ],
   "source": [
    "print(*\"Lorem ipsum\", sep=\"-\")"
   ]
  },
  {
   "cell_type": "code",
   "execution_count": 37,
   "metadata": {
    "colab": {},
    "colab_type": "code",
    "id": "1bWuHVxxJksD"
   },
   "outputs": [
    {
     "name": "stdout",
     "output_type": "stream",
     "text": [
      "Ölü Ozanlar Derneği 1989\n"
     ]
    }
   ],
   "source": [
    "print(\"Ölü\", \"Ozanlar\", \"Derneği\", 1989)"
   ]
  },
  {
   "cell_type": "code",
   "execution_count": 38,
   "metadata": {
    "colab": {},
    "colab_type": "code",
    "id": "W2Qxkm6DJksF"
   },
   "outputs": [
    {
     "name": "stdout",
     "output_type": "stream",
     "text": [
      "Python is an interpreted, high-level, general-purpose programming language. Created by Guido van Rossum and first released in 1991, Python has a design philosophy that emphasizes code readability, notably using significant whitespace. It provides constructs that enable clear programming on both small and large scales. \n"
     ]
    }
   ],
   "source": [
    "print(\"Python is an interpreted, high-level, general-purpose programming language. Created by Guido van Rossum and first released in 1991, Python has a design philosophy that emphasizes code readability, notably using significant whitespace. It provides constructs that enable clear programming on both small and large scales. \")"
   ]
  },
  {
   "cell_type": "code",
   "execution_count": 39,
   "metadata": {
    "colab": {},
    "colab_type": "code",
    "id": "4O1dUaSLJksH"
   },
   "outputs": [
    {
     "ename": "SyntaxError",
     "evalue": "EOL while scanning string literal (<ipython-input-39-87d73e5ebdc7>, line 1)",
     "output_type": "error",
     "traceback": [
      "\u001b[0;36m  File \u001b[0;32m\"<ipython-input-39-87d73e5ebdc7>\"\u001b[0;36m, line \u001b[0;32m1\u001b[0m\n\u001b[0;31m    print(\"Ölü\u001b[0m\n\u001b[0m               ^\u001b[0m\n\u001b[0;31mSyntaxError\u001b[0m\u001b[0;31m:\u001b[0m EOL while scanning string literal\n"
     ]
    }
   ],
   "source": [
    "print(\"Ölü \n",
    "      Ozanlar \n",
    "      Derneği\")"
   ]
  },
  {
   "cell_type": "code",
   "execution_count": 40,
   "metadata": {
    "colab": {},
    "colab_type": "code",
    "id": "Whp0QyTfJksJ"
   },
   "outputs": [
    {
     "name": "stdout",
     "output_type": "stream",
     "text": [
      "Ölü \n",
      "Ozanlar \n",
      "Derneği\n"
     ]
    }
   ],
   "source": [
    "print(\"\"\"Ölü \n",
    "Ozanlar \n",
    "Derneği\"\"\")"
   ]
  },
  {
   "cell_type": "code",
   "execution_count": 42,
   "metadata": {
    "colab": {},
    "colab_type": "code",
    "id": "c0pdZlIWJksM"
   },
   "outputs": [
    {
     "name": "stdout",
     "output_type": "stream",
     "text": [
      "\"Dünya Güneş Venüs Mars\"\n"
     ]
    }
   ],
   "source": [
    "print(\"\\\"Dünya Güneş Venüs Mars\\\"\")"
   ]
  },
  {
   "cell_type": "code",
   "execution_count": 43,
   "metadata": {
    "colab": {},
    "colab_type": "code",
    "id": "n1ItmqInJksO"
   },
   "outputs": [
    {
     "name": "stdout",
     "output_type": "stream",
     "text": [
      "Gül sokak 10\\7 Merkez\\Niğde\n"
     ]
    }
   ],
   "source": [
    "print(\"Gül sokak 10\\\\7 Merkez\\\\Niğde\")"
   ]
  },
  {
   "cell_type": "code",
   "execution_count": 45,
   "metadata": {
    "colab": {},
    "colab_type": "code",
    "id": "VvH7DFFsJksP"
   },
   "outputs": [
    {
     "name": "stdout",
     "output_type": "stream",
     "text": [
      "Yeni Satırbaşı\n"
     ]
    }
   ],
   "source": [
    "print(\"Eski Satırbaşı\\rYeni\")"
   ]
  },
  {
   "cell_type": "code",
   "execution_count": 46,
   "metadata": {
    "colab": {},
    "colab_type": "code",
    "id": "Kcdy2EF8JksQ"
   },
   "outputs": [
    {
     "name": "stdout",
     "output_type": "stream",
     "text": [
      "Birkaç boşluk\taralık\n"
     ]
    }
   ],
   "source": [
    "print(\"Birkaç boşluk\\taralık\")"
   ]
  },
  {
   "cell_type": "code",
   "execution_count": 47,
   "metadata": {},
   "outputs": [
    {
     "name": "stdout",
     "output_type": "stream",
     "text": [
      "\\nMerhaba\\tDünya\\r\\\\\n"
     ]
    }
   ],
   "source": [
    "print(r\"\\nMerhaba\\tDünya\\r\\\\\")"
   ]
  },
  {
   "cell_type": "markdown",
   "metadata": {
    "colab_type": "text",
    "id": "3B7tlffyJksS"
   },
   "source": [
    "___\n",
    "## Kullanıcıdan Veri Almak ( input() )"
   ]
  },
  {
   "cell_type": "code",
   "execution_count": 49,
   "metadata": {
    "colab": {},
    "colab_type": "code",
    "id": "dkLi7oGXJksS"
   },
   "outputs": [
    {
     "name": "stdin",
     "output_type": "stream",
     "text": [
      "İsminiz:  John Doe\n",
      "Yaşınız:  33\n"
     ]
    },
    {
     "name": "stdout",
     "output_type": "stream",
     "text": [
      "John Doe 33\n"
     ]
    }
   ],
   "source": [
    "isim = input(\"İsminiz: \")\n",
    "yaş = input(\"Yaşınız: \")\n",
    "print(isim, yaş)"
   ]
  },
  {
   "cell_type": "code",
   "execution_count": 50,
   "metadata": {
    "colab": {},
    "colab_type": "code",
    "id": "rn36GmZeJksT"
   },
   "outputs": [
    {
     "ename": "TypeError",
     "evalue": "can only concatenate str (not \"int\") to str",
     "output_type": "error",
     "traceback": [
      "\u001b[0;31m---------------------------------------------------------------------------\u001b[0m",
      "\u001b[0;31mTypeError\u001b[0m                                 Traceback (most recent call last)",
      "\u001b[0;32m<ipython-input-50-140bed50b6ad>\u001b[0m in \u001b[0;36m<module>\u001b[0;34m\u001b[0m\n\u001b[0;32m----> 1\u001b[0;31m \u001b[0myaş\u001b[0m \u001b[0;34m+\u001b[0m \u001b[0;36m10\u001b[0m\u001b[0;34m\u001b[0m\u001b[0;34m\u001b[0m\u001b[0m\n\u001b[0m",
      "\u001b[0;31mTypeError\u001b[0m: can only concatenate str (not \"int\") to str"
     ]
    }
   ],
   "source": [
    "yaş + 10"
   ]
  },
  {
   "cell_type": "code",
   "execution_count": 51,
   "metadata": {
    "colab": {},
    "colab_type": "code",
    "id": "khSPjLXwJksV"
   },
   "outputs": [
    {
     "data": {
      "text/plain": [
       "str"
      ]
     },
     "execution_count": 51,
     "metadata": {},
     "output_type": "execute_result"
    }
   ],
   "source": [
    "type(yaş)"
   ]
  },
  {
   "cell_type": "markdown",
   "metadata": {
    "colab_type": "text",
    "id": "mq-btx0zJksY"
   },
   "source": [
    "___\n",
    "## Tip Dönüşümleri ( Type Casting )"
   ]
  },
  {
   "cell_type": "code",
   "execution_count": 52,
   "metadata": {
    "colab": {},
    "colab_type": "code",
    "id": "pl9GcoiSJksY"
   },
   "outputs": [
    {
     "name": "stdout",
     "output_type": "stream",
     "text": [
      "43\n",
      "<class 'int'>\n"
     ]
    }
   ],
   "source": [
    "yaş = int(yaş) + 10\n",
    "print(yaş)\n",
    "print(type(yaş))"
   ]
  },
  {
   "cell_type": "code",
   "execution_count": 55,
   "metadata": {
    "colab": {},
    "colab_type": "code",
    "id": "GT0_jzMIJksb"
   },
   "outputs": [
    {
     "name": "stdout",
     "output_type": "stream",
     "text": [
      "58.5\n",
      "<class 'float'>\n"
     ]
    }
   ],
   "source": [
    "yaş = float(yaş) + 5.5\n",
    "print(yaş)\n",
    "print(type(yaş))"
   ]
  },
  {
   "cell_type": "code",
   "execution_count": 56,
   "metadata": {
    "colab": {},
    "colab_type": "code",
    "id": "tM7yyV_pJksd"
   },
   "outputs": [
    {
     "name": "stdout",
     "output_type": "stream",
     "text": [
      "John Doe 58.5 yaşında!\n"
     ]
    }
   ],
   "source": [
    "print(isim + \" \" + str(yaş) + \" yaşında!\")"
   ]
  },
  {
   "cell_type": "code",
   "execution_count": 57,
   "metadata": {
    "colab": {},
    "colab_type": "code",
    "id": "A968qrVFJksf"
   },
   "outputs": [
    {
     "name": "stdout",
     "output_type": "stream",
     "text": [
      "Üs hesaplamak için\n"
     ]
    },
    {
     "name": "stdin",
     "output_type": "stream",
     "text": [
      "Taban sayıyı girin:  5\n",
      "Üs sayıyı girin:  2\n"
     ]
    },
    {
     "name": "stdout",
     "output_type": "stream",
     "text": [
      "5 ** 2 = 25\n"
     ]
    }
   ],
   "source": [
    "print(\"Üs hesaplamak için\")\n",
    "sayı1 = int(input(\"Taban sayıyı girin: \"))\n",
    "sayı2 = int(input(\"Üs sayıyı girin: \"))\n",
    "print(sayı1, \"**\", sayı2, \"=\", pow(sayı1,sayı2))"
   ]
  },
  {
   "cell_type": "markdown",
   "metadata": {},
   "source": [
    "___\n",
    "## Karakter Dizisi Biçimlendirme ( String Formatting )"
   ]
  },
  {
   "cell_type": "code",
   "execution_count": 60,
   "metadata": {
    "colab": {},
    "colab_type": "code",
    "id": "xLAdbedkJksh"
   },
   "outputs": [
    {
     "name": "stdout",
     "output_type": "stream",
     "text": [
      "Selam, benim adım 33 ve John Doe yaşındayım!\n"
     ]
    }
   ],
   "source": [
    "print(\"Selam, benim adım {1} ve {0} yaşındayım!\".format(isim, 33))"
   ]
  },
  {
   "cell_type": "code",
   "execution_count": 62,
   "metadata": {
    "colab": {},
    "colab_type": "code",
    "id": "TQgVS2PPJksi"
   },
   "outputs": [
    {
     "name": "stdout",
     "output_type": "stream",
     "text": [
      "Selam, benim adım John Doe ve 48.5 yaşındayım!\n"
     ]
    }
   ],
   "source": [
    "print(f\"Selam, benim adım {isim} ve {yaş-10} yaşındayım!\")"
   ]
  },
  {
   "cell_type": "markdown",
   "metadata": {
    "colab_type": "text",
    "id": "rInHfh0wJksj"
   },
   "source": [
    "___\n",
    "## Koşullu Durumlar ( Condition Statements )"
   ]
  },
  {
   "cell_type": "code",
   "execution_count": 63,
   "metadata": {
    "colab": {},
    "colab_type": "code",
    "id": "AKf1VB6EJksk",
    "scrolled": true
   },
   "outputs": [
    {
     "data": {
      "text/plain": [
       "True"
      ]
     },
     "execution_count": 63,
     "metadata": {},
     "output_type": "execute_result"
    }
   ],
   "source": [
    "bool(1)"
   ]
  },
  {
   "cell_type": "code",
   "execution_count": 64,
   "metadata": {},
   "outputs": [
    {
     "data": {
      "text/plain": [
       "False"
      ]
     },
     "execution_count": 64,
     "metadata": {},
     "output_type": "execute_result"
    }
   ],
   "source": [
    "bool(0)"
   ]
  },
  {
   "cell_type": "code",
   "execution_count": 67,
   "metadata": {
    "colab": {},
    "colab_type": "code",
    "id": "jFCUE4R0Jksm"
   },
   "outputs": [
    {
     "data": {
      "text/plain": [
       "False"
      ]
     },
     "execution_count": 67,
     "metadata": {},
     "output_type": "execute_result"
    }
   ],
   "source": [
    "bool(\"\")"
   ]
  },
  {
   "cell_type": "code",
   "execution_count": 69,
   "metadata": {
    "colab": {},
    "colab_type": "code",
    "id": "8LiNhp5DJksn"
   },
   "outputs": [
    {
     "data": {
      "text/plain": [
       "11"
      ]
     },
     "execution_count": 69,
     "metadata": {},
     "output_type": "execute_result"
    }
   ],
   "source": [
    "bool(\"Lorem ipsum\")"
   ]
  },
  {
   "cell_type": "code",
   "execution_count": 72,
   "metadata": {
    "colab": {},
    "colab_type": "code",
    "id": "-LXjzNywJksp"
   },
   "outputs": [
    {
     "data": {
      "text/plain": [
       "False"
      ]
     },
     "execution_count": 72,
     "metadata": {},
     "output_type": "execute_result"
    }
   ],
   "source": [
    "bool(1234)"
   ]
  },
  {
   "cell_type": "markdown",
   "metadata": {
    "colab_type": "text",
    "id": "mxpEep9qJksq"
   },
   "source": [
    "```\n",
    "==   Eşittir\n",
    "!=   Eşit Değildir\n",
    ">    Büyüktür\n",
    "<    Küçüktür\n",
    ">=   Büyük Eşittir\n",
    "<=   Küçük Eşittir\n",
    "```"
   ]
  },
  {
   "cell_type": "code",
   "execution_count": 74,
   "metadata": {
    "colab": {},
    "colab_type": "code",
    "id": "sYyNRA_kJksr"
   },
   "outputs": [
    {
     "name": "stdout",
     "output_type": "stream",
     "text": [
      "(50 > 30) : True\n",
      "(20 > 30) : False\n",
      "(50 > 30) and (20 > 30) : False\n",
      "(50 > 30) or (20 > 30) : True\n"
     ]
    }
   ],
   "source": [
    "print(\"(50 > 30) :\", (50 > 30))\n",
    "print(\"(20 > 30) :\", (20 > 30))\n",
    "print(\"(50 > 30) and (20 > 30) :\", (50 > 30) and (20 > 30))\n",
    "print(\"(50 > 30) or (20 > 30) :\", (50 > 30) or (20 > 30))"
   ]
  },
  {
   "cell_type": "code",
   "execution_count": 75,
   "metadata": {
    "colab": {},
    "colab_type": "code",
    "id": "zsJgyfC0Jkss"
   },
   "outputs": [
    {
     "name": "stdout",
     "output_type": "stream",
     "text": [
      "False\n"
     ]
    }
   ],
   "source": [
    "print(True and False)"
   ]
  },
  {
   "cell_type": "code",
   "execution_count": 76,
   "metadata": {
    "colab": {},
    "colab_type": "code",
    "id": "FMVLr_PWJkst"
   },
   "outputs": [
    {
     "name": "stdout",
     "output_type": "stream",
     "text": [
      "True\n"
     ]
    }
   ],
   "source": [
    "print(True and True)"
   ]
  },
  {
   "cell_type": "code",
   "execution_count": 78,
   "metadata": {
    "colab": {},
    "colab_type": "code",
    "id": "AOgWL1PUJksu"
   },
   "outputs": [
    {
     "name": "stdout",
     "output_type": "stream",
     "text": [
      "True\n"
     ]
    }
   ],
   "source": [
    "print(not False)"
   ]
  },
  {
   "cell_type": "code",
   "execution_count": 82,
   "metadata": {
    "colab": {},
    "colab_type": "code",
    "id": "MFQ3lI0ZJksv"
   },
   "outputs": [
    {
     "name": "stdin",
     "output_type": "stream",
     "text": [
      "Sayı giriniz: 678\n"
     ]
    },
    {
     "name": "stdout",
     "output_type": "stream",
     "text": [
      "25'ten büyük!\n"
     ]
    }
   ],
   "source": [
    "a = int(input(\"Sayı giriniz:\"))\n",
    "\n",
    "if a < 10:\n",
    "    print(\"10'dan küçük!\")\n",
    "elif a < 15:\n",
    "    print(\"15'ten küçük!\")\n",
    "elif a <= 25:\n",
    "    print(\"25'ten küçük veya 25'e eşit!\")\n",
    "else:\n",
    "    print(\"25'ten büyük!\")"
   ]
  },
  {
   "cell_type": "code",
   "execution_count": 86,
   "metadata": {
    "colab": {},
    "colab_type": "code",
    "id": "cqrX-afxJksx"
   },
   "outputs": [
    {
     "name": "stdin",
     "output_type": "stream",
     "text": [
      "Kullanıcı adınız: test\n",
      "Şifreniz: test2\n"
     ]
    },
    {
     "name": "stdout",
     "output_type": "stream",
     "text": [
      "Kullanıcı adı veya şifre yanlış!\n"
     ]
    }
   ],
   "source": [
    "gerçek_kullanıcı = \"test\"\n",
    "gerçek_şifre = \"test\"\n",
    "\n",
    "sorulan_kullanıcı = input(\"Kullanıcı adınız:\")\n",
    "sorulan_şifre = input(\"Şifreniz:\")\n",
    "\n",
    "if gerçek_şifre == sorulan_şifre and gerçek_kullanıcı == sorulan_kullanıcı:\n",
    "    print(\"Giriş başarılı!\")\n",
    "elif not sorulan_kullanıcı:\n",
    "    print(\"Kullanıcı adı alanı boş olamaz!\")\n",
    "elif not sorulan_şifre:\n",
    "    print(\"Şifre alanı boş olamaz!\")\n",
    "else:\n",
    "    print(\"Kullanıcı adı veya şifre yanlış!\")"
   ]
  },
  {
   "cell_type": "code",
   "execution_count": 88,
   "metadata": {
    "colab": {},
    "colab_type": "code",
    "id": "dSJOWv7cJksy"
   },
   "outputs": [
    {
     "name": "stdin",
     "output_type": "stream",
     "text": [
      "Sözcüğü giriniz: sözcük\n"
     ]
    },
    {
     "name": "stdout",
     "output_type": "stream",
     "text": [
      "Cümlede öyle bir sözcük yok!\n"
     ]
    }
   ],
   "source": [
    "cümle = \"\"\"Python, nesne yönelimli, yorumlamalı, \n",
    "birimsel ve etkileşimli yüksek seviyeli bir programlama dilidir.\"\"\"\n",
    "\n",
    "aranacak_sözcük = input(\"Sözcüğü giriniz:\")\n",
    "\n",
    "if aranacak_sözcük in cümle:\n",
    "    print(\"Aranan sözcük cümlede mevcut!\")\n",
    "else:\n",
    "    print(\"Cümlede öyle bir sözcük yok!\")"
   ]
  },
  {
   "cell_type": "markdown",
   "metadata": {
    "colab_type": "text",
    "id": "h3tDa46CJksz"
   },
   "source": [
    "### Walrus Operator"
   ]
  },
  {
   "cell_type": "code",
   "execution_count": 91,
   "metadata": {
    "colab": {
     "base_uri": "https://localhost:8080/",
     "height": 130
    },
    "colab_type": "code",
    "id": "9FvOoOzHJksz",
    "outputId": "3aa17a5d-d7d6-4edb-b69b-de32fa1680fd"
   },
   "outputs": [
    {
     "name": "stdin",
     "output_type": "stream",
     "text": [
      "Yaşınız:  21\n"
     ]
    },
    {
     "name": "stdout",
     "output_type": "stream",
     "text": [
      "21 yaşındasınız, girebilirsiniz!\n",
      "21\n"
     ]
    }
   ],
   "source": [
    "# yaş = int(input(\"Yaşınız: \"))\n",
    "if (yaş := int(input(\"Yaşınız: \"))) >= 18:\n",
    "    print(f\"{yaş} yaşındasınız, girebilirsiniz!\")\n",
    "else:\n",
    "    print(f\"{yaş} yaşındasınız, henüz giremezsiniz!\")\n",
    "    \n",
    "print(yaş)"
   ]
  },
  {
   "cell_type": "markdown",
   "metadata": {
    "colab_type": "text",
    "id": "keNFEmgLJks1"
   },
   "source": [
    "### Dosya İşlemleri ( File Operations )"
   ]
  },
  {
   "cell_type": "code",
   "execution_count": 100,
   "metadata": {
    "colab": {},
    "colab_type": "code",
    "id": "bLCRVYjGJks1"
   },
   "outputs": [],
   "source": [
    "f = open('test.txt', 'w')\n",
    "print(\"Deneme0\", file=f, flush=False)"
   ]
  },
  {
   "cell_type": "code",
   "execution_count": 93,
   "metadata": {
    "colab": {},
    "colab_type": "code",
    "id": "uNR6hGxDJks3"
   },
   "outputs": [
    {
     "data": {
      "text/plain": [
       "28"
      ]
     },
     "execution_count": 93,
     "metadata": {},
     "output_type": "execute_result"
    }
   ],
   "source": [
    "print(\"Deneme1\", file=f, flush=True)\n",
    "print(\"Deneme2\", file=f, flush=True)\n",
    "f.write('Deneme3 f.write() kullanarak')"
   ]
  },
  {
   "cell_type": "code",
   "execution_count": 101,
   "metadata": {
    "colab": {},
    "colab_type": "code",
    "id": "75k8V0ERJks4"
   },
   "outputs": [],
   "source": [
    "f.close()"
   ]
  },
  {
   "cell_type": "code",
   "execution_count": 95,
   "metadata": {
    "colab": {},
    "colab_type": "code",
    "id": "c48LOC3LJks5"
   },
   "outputs": [
    {
     "name": "stdout",
     "output_type": "stream",
     "text": [
      "Deneme0\n",
      "Deneme1\n",
      "Deneme2\n",
      "Deneme3 f.write() kullanarak\n"
     ]
    }
   ],
   "source": [
    "f = open('test.txt', 'r')\n",
    "print(f.read())"
   ]
  },
  {
   "cell_type": "code",
   "execution_count": 97,
   "metadata": {
    "colab": {},
    "colab_type": "code",
    "id": "0Bo2io9aJks6"
   },
   "outputs": [
    {
     "name": "stdout",
     "output_type": "stream",
     "text": [
      "Deneme0\n",
      "Deneme1\n",
      "Deneme2\n",
      "Deneme3 f.write() kullanarak\n"
     ]
    }
   ],
   "source": [
    "f.seek(0)\n",
    "print(f.read())"
   ]
  },
  {
   "cell_type": "code",
   "execution_count": 98,
   "metadata": {
    "colab": {},
    "colab_type": "code",
    "id": "gcz3wDZ9Jks7"
   },
   "outputs": [
    {
     "name": "stdout",
     "output_type": "stream",
     "text": [
      "Deneme0\n",
      "\n",
      "Deneme1\n",
      "\n",
      "['Deneme0\\n', 'Deneme1\\n', 'Deneme2\\n', 'Deneme3 f.write() kullanarak']\n"
     ]
    }
   ],
   "source": [
    "f.seek(0)\n",
    "print(f.readline())\n",
    "print(f.readline())\n",
    "\n",
    "f.seek(0)\n",
    "print(f.readlines())\n",
    "\n",
    "f.close()"
   ]
  },
  {
   "cell_type": "code",
   "execution_count": 99,
   "metadata": {
    "colab": {},
    "colab_type": "code",
    "id": "qDy-qComJks8"
   },
   "outputs": [
    {
     "name": "stdout",
     "output_type": "stream",
     "text": [
      "Deneme0\n",
      "Deneme1\n",
      "Deneme2\n",
      "Deneme3 f.write() kullanarak\n"
     ]
    }
   ],
   "source": [
    "with open('test.txt', 'a') as f:\n",
    "    print(f.read())\n",
    "    f.write('\\nDeneme 4 with open() kullanarak')\n",
    "    \n",
    "    \"\"\"\n",
    "    w = Write\n",
    "    r = Read\n",
    "    a = Append\n",
    "    \"\"\""
   ]
  },
  {
   "cell_type": "markdown",
   "metadata": {
    "colab_type": "text",
    "id": "XTtGXdC8Jks9"
   },
   "source": [
    "___\n",
    "## Döngüler ( Loops )"
   ]
  },
  {
   "cell_type": "code",
   "execution_count": 102,
   "metadata": {
    "colab": {},
    "colab_type": "code",
    "id": "zSxVMO7dJks9"
   },
   "outputs": [
    {
     "name": "stdout",
     "output_type": "stream",
     "text": [
      "5\n",
      "6\n",
      "7\n",
      "8\n",
      "9\n"
     ]
    }
   ],
   "source": [
    "a = 5\n",
    "\n",
    "while a < 10:\n",
    "    print(a)\n",
    "    a += 1"
   ]
  },
  {
   "cell_type": "code",
   "execution_count": 103,
   "metadata": {
    "colab": {},
    "colab_type": "code",
    "id": "GETqbjwpJks-"
   },
   "outputs": [
    {
     "name": "stdout",
     "output_type": "stream",
     "text": [
      "O\n",
      "ğ\n",
      "u\n",
      "z\n",
      " \n",
      "A\n",
      "T\n",
      "A\n",
      "Y\n"
     ]
    }
   ],
   "source": [
    "isim = \"Oğuz ATAY\"\n",
    "for harf in isim:\n",
    "    print(harf)"
   ]
  },
  {
   "cell_type": "markdown",
   "metadata": {
    "colab_type": "text",
    "id": "DSTZe9HZJks_"
   },
   "source": [
    "___\n",
    "#### range, break, continue, pass statements\n",
    "___"
   ]
  },
  {
   "cell_type": "code",
   "execution_count": 105,
   "metadata": {
    "colab": {},
    "colab_type": "code",
    "id": "9VaEuTCTJks_"
   },
   "outputs": [
    {
     "name": "stdout",
     "output_type": "stream",
     "text": [
      "2\n",
      "4\n",
      "6\n",
      "8\n"
     ]
    }
   ],
   "source": [
    "for i in range(2, 10, 2):\n",
    "    print(i, end=\"\\n\")"
   ]
  },
  {
   "cell_type": "code",
   "execution_count": 106,
   "metadata": {
    "colab": {},
    "colab_type": "code",
    "id": "0siOxWwaJktB"
   },
   "outputs": [
    {
     "name": "stdout",
     "output_type": "stream",
     "text": [
      "0 1 2 3 4 5 "
     ]
    }
   ],
   "source": [
    "for i in range(10):\n",
    "    print(i, end=\" \")\n",
    "    if i == 5:\n",
    "        break"
   ]
  },
  {
   "cell_type": "code",
   "execution_count": 107,
   "metadata": {
    "colab": {},
    "colab_type": "code",
    "id": "M0V6IR9pJktE"
   },
   "outputs": [
    {
     "name": "stdout",
     "output_type": "stream",
     "text": [
      "0 1 2 3 4 6 7 8 9 "
     ]
    }
   ],
   "source": [
    "for i in range(10):\n",
    "    if i == 5:\n",
    "        continue\n",
    "    print(i, end=\" \")"
   ]
  },
  {
   "cell_type": "code",
   "execution_count": 110,
   "metadata": {
    "colab": {},
    "colab_type": "code",
    "id": "g0v7IX64JktG"
   },
   "outputs": [
    {
     "name": "stdout",
     "output_type": "stream",
     "text": [
      "0 1 2 3 4 5 6 7 8 9 "
     ]
    }
   ],
   "source": [
    "for i in range(10):\n",
    "    if i == 5:\n",
    "        pass\n",
    "    print(i, end=\" \")"
   ]
  },
  {
   "cell_type": "code",
   "execution_count": 113,
   "metadata": {
    "colab": {},
    "colab_type": "code",
    "id": "ZDm4QzVxJktH"
   },
   "outputs": [
    {
     "name": "stdin",
     "output_type": "stream",
     "text": [
      "Kullanıcı adınız: \n",
      "Şifreniz: test\n"
     ]
    },
    {
     "name": "stdout",
     "output_type": "stream",
     "text": [
      "Kullanıcı adı alanı boş olamaz!\n",
      "******************************\n"
     ]
    },
    {
     "name": "stdin",
     "output_type": "stream",
     "text": [
      "Kullanıcı adınız: test\n",
      "Şifreniz: \n"
     ]
    },
    {
     "name": "stdout",
     "output_type": "stream",
     "text": [
      "Şifre alanı boş olamaz!\n",
      "******************************\n"
     ]
    },
    {
     "name": "stdin",
     "output_type": "stream",
     "text": [
      "Kullanıcı adınız: a\n",
      "Şifreniz: a\n"
     ]
    },
    {
     "name": "stdout",
     "output_type": "stream",
     "text": [
      "Kullanıcı adı veya şifre yanlış!\n",
      "******************************\n"
     ]
    },
    {
     "name": "stdin",
     "output_type": "stream",
     "text": [
      "Kullanıcı adınız: break\n",
      "Şifreniz: break\n"
     ]
    },
    {
     "name": "stdout",
     "output_type": "stream",
     "text": [
      "Kullanıcı adı veya şifre yanlış!\n",
      "******************************\n"
     ]
    },
    {
     "name": "stdin",
     "output_type": "stream",
     "text": [
      "Kullanıcı adınız: test\n",
      "Şifreniz: test\n"
     ]
    },
    {
     "name": "stdout",
     "output_type": "stream",
     "text": [
      "Giriş başarılı!\n"
     ]
    }
   ],
   "source": [
    "gerçek_kullanıcı = \"test\"\n",
    "gerçek_şifre = \"test\"\n",
    "\n",
    "while True:\n",
    "    sorulan_kullanıcı = input(\"Kullanıcı adınız:\")\n",
    "    sorulan_şifre = input(\"Şifreniz:\")\n",
    "    \n",
    "    if gerçek_şifre == sorulan_şifre and gerçek_kullanıcı == sorulan_kullanıcı:\n",
    "        print(\"Giriş başarılı!\")\n",
    "        break\n",
    "    elif not sorulan_kullanıcı:\n",
    "        print(\"Kullanıcı adı alanı boş olamaz!\")\n",
    "    elif not sorulan_şifre:\n",
    "        print(\"Şifre alanı boş olamaz!\")\n",
    "    else:\n",
    "        print(\"Kullanıcı adı veya şifre yanlış!\")\n",
    "    \n",
    "    print(\"*\"*30)"
   ]
  },
  {
   "cell_type": "markdown",
   "metadata": {
    "colab_type": "text",
    "id": "ybZhmq0MJktI"
   },
   "source": [
    "___\n",
    "## Hata Yakalama Try/Except/Finally ( Exception Handling )"
   ]
  },
  {
   "cell_type": "markdown",
   "metadata": {
    "colab_type": "text",
    "id": "73JXTr5QJktI"
   },
   "source": [
    "|Error Name| Description|\n",
    "| --------------------------------------|:----------------------:|\n",
    "|AssertionError|Raised when the assert statement fails.|\n",
    "|AttributeError|Raised on the attribute assignment or reference fails.|\n",
    "|EOFError|Raised when the input() function hits the end-of-file condition.|\n",
    "|FloatingPointError|Raised when a floating point operation fails.|\n",
    "|GeneratorExit|Raised when a generator's close() method is called.|\n",
    "|ImportError|Raised when the imported module is not found.|\n",
    "|IndexError|Raised when the index of a sequence is out of range.|\n",
    "|KeyError|Raised when a key is not found in a dictionary.|\n",
    "|KeyboardInterrupt|Raised when the user hits the interrupt key (Ctrl+c or delete).|\n",
    "|MemoryError|Raised when an operation runs out of memory.|\n",
    "|NameError|Raised when a variable is not found in the local or global scope.|\n",
    "|NotImplementedError|Raised by abstract methods.|\n",
    "|OSError|Raised when a system operation causes a system-related error.|\n",
    "|OverflowError|Raised when the result of an arithmetic operation is too large to be represented.|\n",
    "|ReferenceError|Raised when a weak reference proxy is used to access a garbage collected referent.|\n",
    "|RuntimeError|Raised when an error does not fall under any other category.|\n",
    "|StopIteration|Raised by the next() function to indicate that there is no further item to be returned by the iterator.|\n",
    "|SyntaxError|Raised by the parser when a syntax error is encountered.|\n",
    "|IndentationError|Raised when there is an incorrect indentation.|\n",
    "|TabError|Raised when the indentation consists of inconsistent tabs and spaces.|\n",
    "|SystemError|Raised when the interpreter detects internal error.|\n",
    "|SystemExit|Raised by the sys.exit() function.|\n",
    "|TypeError|Raised when a function or operation is applied to an object of an incorrect type.|\n",
    "|UnboundLocalError|Raised when a reference is made to a local variable in a function or method, but no value has been bound to that variable.|\n",
    "|UnicodeError|Raised when a Unicode-related encoding or decoding error occurs.|\n",
    "|UnicodeEncodeError|Raised when a Unicode-related error occurs during encoding.|\n",
    "|UnicodeDecodeError|Raised when a Unicode-related error occurs during decoding.|\n",
    "|UnicodeTranslateError|Raised when a Unicode-related error occurs during translation.|\n",
    "|ValueError|Raised when a function gets an argument of correct type but improper value.|\n",
    "|ZeroDivisionError|Raised when the second operand of a division or module operation is zero.|"
   ]
  },
  {
   "cell_type": "code",
   "execution_count": 119,
   "metadata": {
    "colab": {},
    "colab_type": "code",
    "id": "p0ldUImfJktJ"
   },
   "outputs": [
    {
     "name": "stdout",
     "output_type": "stream",
     "text": [
      "Bir hata meydana geldi!\n"
     ]
    }
   ],
   "source": [
    "try:\n",
    "    sayı1 = int(input(\"Bölünecek sayıyı giriniz:\"))\n",
    "    sayı2 = int(input(\"Bölecek sayıyı giriniz:\"))\n",
    "    sonuc = sayı1 / sayı2\n",
    "    print(sonuc)\n",
    "    \n",
    "except:\n",
    "    print(\"Bir hata meydana geldi!\")"
   ]
  },
  {
   "cell_type": "code",
   "execution_count": 121,
   "metadata": {
    "colab": {},
    "colab_type": "code",
    "id": "_29AMcL4JktK"
   },
   "outputs": [
    {
     "name": "stdin",
     "output_type": "stream",
     "text": [
      "Yaşınızı girin: -10\n"
     ]
    },
    {
     "ename": "Exception",
     "evalue": "Yaşınız negatif bir sayı olamaz!",
     "output_type": "error",
     "traceback": [
      "\u001b[0;31m---------------------------------------------------------------------------\u001b[0m",
      "\u001b[0;31mException\u001b[0m                                 Traceback (most recent call last)",
      "\u001b[0;32m<ipython-input-121-514347576ca1>\u001b[0m in \u001b[0;36m<module>\u001b[0;34m\u001b[0m\n\u001b[1;32m      1\u001b[0m \u001b[0myaş\u001b[0m \u001b[0;34m=\u001b[0m \u001b[0mint\u001b[0m\u001b[0;34m(\u001b[0m\u001b[0minput\u001b[0m\u001b[0;34m(\u001b[0m\u001b[0;34m\"Yaşınızı girin:\"\u001b[0m\u001b[0;34m)\u001b[0m\u001b[0;34m)\u001b[0m\u001b[0;34m\u001b[0m\u001b[0;34m\u001b[0m\u001b[0m\n\u001b[1;32m      2\u001b[0m \u001b[0;32mif\u001b[0m \u001b[0myaş\u001b[0m \u001b[0;34m<\u001b[0m \u001b[0;36m0\u001b[0m\u001b[0;34m:\u001b[0m\u001b[0;34m\u001b[0m\u001b[0;34m\u001b[0m\u001b[0m\n\u001b[0;32m----> 3\u001b[0;31m     \u001b[0;32mraise\u001b[0m \u001b[0mException\u001b[0m\u001b[0;34m(\u001b[0m\u001b[0;34m\"Yaşınız negatif bir sayı olamaz!\"\u001b[0m\u001b[0;34m)\u001b[0m\u001b[0;34m\u001b[0m\u001b[0;34m\u001b[0m\u001b[0m\n\u001b[0m\u001b[1;32m      4\u001b[0m \u001b[0mprint\u001b[0m\u001b[0;34m(\u001b[0m\u001b[0myaş\u001b[0m\u001b[0;34m)\u001b[0m\u001b[0;34m\u001b[0m\u001b[0;34m\u001b[0m\u001b[0m\n",
      "\u001b[0;31mException\u001b[0m: Yaşınız negatif bir sayı olamaz!"
     ]
    }
   ],
   "source": [
    "yaş = int(input(\"Yaşınızı girin:\"))\n",
    "if yaş < 0:\n",
    "    raise Exception(\"Yaşınız negatif bir sayı olamaz!\")\n",
    "print(yaş)"
   ]
  },
  {
   "cell_type": "markdown",
   "metadata": {
    "colab_type": "text",
    "id": "R2cdGsXhJktM"
   },
   "source": [
    "## Listeler ve Demetler ( Lists and Tuples )"
   ]
  },
  {
   "cell_type": "code",
   "execution_count": 122,
   "metadata": {
    "colab": {},
    "colab_type": "code",
    "id": "0c-YarJsJktM",
    "scrolled": true
   },
   "outputs": [
    {
     "name": "stdout",
     "output_type": "stream",
     "text": [
      "[] 0\n",
      "[10] 1\n",
      "[10, 20, 30, 40] 4\n"
     ]
    }
   ],
   "source": [
    "liste1 = []\n",
    "liste1 = list()\n",
    "print(liste1, len(liste1))\n",
    "\n",
    "liste1.append(10)\n",
    "print(liste1, len(liste1))\n",
    "\n",
    "liste1.append(20)\n",
    "liste1.append(30)\n",
    "liste1.append(40)\n",
    "print(liste1, len(liste1))"
   ]
  },
  {
   "cell_type": "code",
   "execution_count": 125,
   "metadata": {
    "colab": {},
    "colab_type": "code",
    "id": "85ZD6NSGJktN"
   },
   "outputs": [
    {
     "name": "stdout",
     "output_type": "stream",
     "text": [
      "10\n",
      "30\n",
      "40\n",
      "[40, 30, 20, 10]\n"
     ]
    }
   ],
   "source": [
    "print(liste1[0])\n",
    "print(liste1[2])\n",
    "print(liste1[-1])\n",
    "\n",
    "#liste[başlangıç: bitiş: artış]\n",
    "print(liste1[::-1])"
   ]
  },
  {
   "cell_type": "code",
   "execution_count": 127,
   "metadata": {
    "colab": {},
    "colab_type": "code",
    "id": "GV9zQUhzJktO"
   },
   "outputs": [
    {
     "name": "stdout",
     "output_type": "stream",
     "text": [
      "[99, 10, 20, 30, 40, 100]\n"
     ]
    }
   ],
   "source": [
    "liste1.insert(5, 100)\n",
    "print(liste1)"
   ]
  },
  {
   "cell_type": "code",
   "execution_count": 128,
   "metadata": {
    "colab": {},
    "colab_type": "code",
    "id": "iswTCZO_JktP"
   },
   "outputs": [
    {
     "name": "stdout",
     "output_type": "stream",
     "text": [
      "[99, 10, 20, 30, 40]\n"
     ]
    }
   ],
   "source": [
    "liste1.pop()\n",
    "print(liste1)"
   ]
  },
  {
   "cell_type": "code",
   "execution_count": 129,
   "metadata": {
    "colab": {},
    "colab_type": "code",
    "id": "qmDW_vdVJktR"
   },
   "outputs": [
    {
     "name": "stdout",
     "output_type": "stream",
     "text": [
      "[10, 20, 30, 40] 99\n"
     ]
    }
   ],
   "source": [
    "silinen = liste1.pop(0)\n",
    "print(liste1, silinen)"
   ]
  },
  {
   "cell_type": "code",
   "execution_count": 130,
   "metadata": {
    "colab": {},
    "colab_type": "code",
    "id": "Blji52wAJktR"
   },
   "outputs": [
    {
     "name": "stdout",
     "output_type": "stream",
     "text": [
      "[10, 20, 40]\n"
     ]
    }
   ],
   "source": [
    "liste1.remove(30)\n",
    "print(liste1)"
   ]
  },
  {
   "cell_type": "code",
   "execution_count": 131,
   "metadata": {
    "colab": {},
    "colab_type": "code",
    "id": "nFIyZkc6JktS"
   },
   "outputs": [
    {
     "name": "stdout",
     "output_type": "stream",
     "text": [
      "[2, 0, 1, 7] [4, 3, 2, 8]\n",
      "[2, 0, 1, 7, 4, 3, 2, 8]\n"
     ]
    }
   ],
   "source": [
    "liste1 = [2, 0, 1, 7]\n",
    "liste2 = [4, 3, 2, 8]\n",
    "print(liste1, liste2)\n",
    "\n",
    "liste1.extend(liste2)\n",
    "print(liste1)"
   ]
  },
  {
   "cell_type": "code",
   "execution_count": 133,
   "metadata": {
    "colab": {},
    "colab_type": "code",
    "id": "mtY-opU2JktT"
   },
   "outputs": [
    {
     "name": "stdout",
     "output_type": "stream",
     "text": [
      "[0, 1, 2, 2, 3, 4, 7, 8]\n"
     ]
    }
   ],
   "source": [
    "liste1 = sorted(liste1)\n",
    "print(liste1)"
   ]
  },
  {
   "cell_type": "code",
   "execution_count": null,
   "metadata": {
    "colab": {},
    "colab_type": "code",
    "id": "iWKGSMNrJktX"
   },
   "outputs": [],
   "source": [
    "liste1.sort()\n",
    "print(liste1)"
   ]
  },
  {
   "cell_type": "code",
   "execution_count": 134,
   "metadata": {
    "colab": {},
    "colab_type": "code",
    "id": "ZiU2q5dkJktY"
   },
   "outputs": [
    {
     "name": "stdin",
     "output_type": "stream",
     "text": [
      "Aranacak kelime: Tilki\n"
     ]
    },
    {
     "name": "stdout",
     "output_type": "stream",
     "text": [
      "2\n"
     ]
    }
   ],
   "source": [
    "liste1 = [\"Elma\", \"Armut\", \"Tilki\", \"Kuş\", \"Armut\", \"Çiçek\"]\n",
    "index = liste1.index(input(\"Aranacak kelime:\"))\n",
    "print(index)"
   ]
  },
  {
   "cell_type": "code",
   "execution_count": 136,
   "metadata": {
    "colab": {},
    "colab_type": "code",
    "id": "7NIlPY-fJktZ"
   },
   "outputs": [
    {
     "name": "stdin",
     "output_type": "stream",
     "text": [
      "Sayısını bulunacak kelime: Armut\n"
     ]
    },
    {
     "name": "stdout",
     "output_type": "stream",
     "text": [
      "2\n"
     ]
    }
   ],
   "source": [
    "liste1 = [\"Elma\", \"Armut\", \"Tilki\", \"Kuş\", \"Armut\", \"Çiçek\"]\n",
    "sayaç = liste1.count(input(\"Sayısını bulunacak kelime:\"))\n",
    "print(sayaç)"
   ]
  },
  {
   "cell_type": "code",
   "execution_count": 137,
   "metadata": {
    "colab": {},
    "colab_type": "code",
    "id": "P73rgRh5Jkta"
   },
   "outputs": [
    {
     "name": "stdout",
     "output_type": "stream",
     "text": [
      "['Elma', 'Armut', 'Tilki', 'Kuş', 'Armut', 'Çiçek']\n"
     ]
    }
   ],
   "source": [
    "yeni_liste = liste1\n",
    "print(yeni_liste)"
   ]
  },
  {
   "cell_type": "code",
   "execution_count": 138,
   "metadata": {
    "colab": {},
    "colab_type": "code",
    "id": "G3pXgkgfJktb"
   },
   "outputs": [
    {
     "name": "stdout",
     "output_type": "stream",
     "text": [
      "['Muz', 'Armut', 'Tilki', 'Kuş', 'Armut', 'Çiçek']\n",
      "['Muz', 'Armut', 'Tilki', 'Kuş', 'Armut', 'Çiçek']\n",
      "4608013312\n",
      "4608013312\n"
     ]
    }
   ],
   "source": [
    "yeni_liste[0] = \"Muz\"\n",
    "print(yeni_liste)\n",
    "print(liste1)\n",
    "\n",
    "print(id(yeni_liste))\n",
    "print(id(liste1))"
   ]
  },
  {
   "cell_type": "code",
   "execution_count": 139,
   "metadata": {
    "colab": {},
    "colab_type": "code",
    "id": "OfbK-RcJJktc"
   },
   "outputs": [],
   "source": [
    "liste1 = [\"Elma\", \"Armut\", \"Tilki\", \"Kuş\", \"Armut\", \"Çiçek\"]\n",
    "yeni_liste = liste1.copy()"
   ]
  },
  {
   "cell_type": "code",
   "execution_count": 140,
   "metadata": {
    "colab": {},
    "colab_type": "code",
    "id": "82GNZr_pJktd"
   },
   "outputs": [
    {
     "name": "stdout",
     "output_type": "stream",
     "text": [
      "['Muz', 'Armut', 'Tilki', 'Kuş', 'Armut', 'Çiçek']\n",
      "['Elma', 'Armut', 'Tilki', 'Kuş', 'Armut', 'Çiçek']\n",
      "4608034880\n",
      "4582043264\n"
     ]
    }
   ],
   "source": [
    "yeni_liste[0] = \"Muz\"\n",
    "print(yeni_liste)\n",
    "print(liste1)\n",
    "\n",
    "print(id(yeni_liste))\n",
    "print(id(liste1))"
   ]
  },
  {
   "cell_type": "code",
   "execution_count": 141,
   "metadata": {
    "colab": {},
    "colab_type": "code",
    "id": "Gwn-FJsGJkte"
   },
   "outputs": [],
   "source": [
    "liste3 = [\"John\", 1, \"Doe\", 2.56, \"Oğuz\", (55+5j), \"ATAY\"]"
   ]
  },
  {
   "cell_type": "code",
   "execution_count": 142,
   "metadata": {
    "colab": {},
    "colab_type": "code",
    "id": "llU04U0DJktf"
   },
   "outputs": [
    {
     "name": "stdout",
     "output_type": "stream",
     "text": [
      "John <class 'str'>\n",
      "1 <class 'int'>\n",
      "Doe <class 'str'>\n",
      "2.56 <class 'float'>\n",
      "Oğuz <class 'str'>\n",
      "(55+5j) <class 'complex'>\n",
      "ATAY <class 'str'>\n"
     ]
    }
   ],
   "source": [
    "for i in liste3:\n",
    "    print(i, type(i))"
   ]
  },
  {
   "cell_type": "code",
   "execution_count": 144,
   "metadata": {
    "colab": {},
    "colab_type": "code",
    "id": "LPNLqjqJJktg"
   },
   "outputs": [
    {
     "name": "stdout",
     "output_type": "stream",
     "text": [
      "1 2 3 4 \n",
      "9 8 7 6 \n",
      "0 6 5 2 \n"
     ]
    }
   ],
   "source": [
    "matrix = [\n",
    "    [1, 2, 3, 4],\n",
    "    [9, 8, 7, 6],\n",
    "    [0, 6, 5, 2]\n",
    "]\n",
    "\n",
    "for satır in matrix:\n",
    "    for sütun in satır:\n",
    "        print(sütun, end=\" \")\n",
    "    print()"
   ]
  },
  {
   "cell_type": "code",
   "execution_count": 145,
   "metadata": {
    "colab": {},
    "colab_type": "code",
    "id": "5DymGnTAJkth",
    "scrolled": true
   },
   "outputs": [
    {
     "name": "stdout",
     "output_type": "stream",
     "text": [
      "2\n",
      "1\n",
      "Help on tuple object:\n",
      "\n",
      "class tuple(object)\n",
      " |  tuple(iterable=(), /)\n",
      " |  \n",
      " |  Built-in immutable sequence.\n",
      " |  \n",
      " |  If no argument is given, the constructor returns an empty tuple.\n",
      " |  If iterable is specified the tuple is initialized from iterable's items.\n",
      " |  \n",
      " |  If the argument is a tuple, the return value is the same object.\n",
      " |  \n",
      " |  Built-in subclasses:\n",
      " |      asyncgen_hooks\n",
      " |      UnraisableHookArgs\n",
      " |  \n",
      " |  Methods defined here:\n",
      " |  \n",
      " |  __add__(self, value, /)\n",
      " |      Return self+value.\n",
      " |  \n",
      " |  __contains__(self, key, /)\n",
      " |      Return key in self.\n",
      " |  \n",
      " |  __eq__(self, value, /)\n",
      " |      Return self==value.\n",
      " |  \n",
      " |  __ge__(self, value, /)\n",
      " |      Return self>=value.\n",
      " |  \n",
      " |  __getattribute__(self, name, /)\n",
      " |      Return getattr(self, name).\n",
      " |  \n",
      " |  __getitem__(self, key, /)\n",
      " |      Return self[key].\n",
      " |  \n",
      " |  __getnewargs__(self, /)\n",
      " |  \n",
      " |  __gt__(self, value, /)\n",
      " |      Return self>value.\n",
      " |  \n",
      " |  __hash__(self, /)\n",
      " |      Return hash(self).\n",
      " |  \n",
      " |  __iter__(self, /)\n",
      " |      Implement iter(self).\n",
      " |  \n",
      " |  __le__(self, value, /)\n",
      " |      Return self<=value.\n",
      " |  \n",
      " |  __len__(self, /)\n",
      " |      Return len(self).\n",
      " |  \n",
      " |  __lt__(self, value, /)\n",
      " |      Return self<value.\n",
      " |  \n",
      " |  __mul__(self, value, /)\n",
      " |      Return self*value.\n",
      " |  \n",
      " |  __ne__(self, value, /)\n",
      " |      Return self!=value.\n",
      " |  \n",
      " |  __repr__(self, /)\n",
      " |      Return repr(self).\n",
      " |  \n",
      " |  __rmul__(self, value, /)\n",
      " |      Return value*self.\n",
      " |  \n",
      " |  count(self, value, /)\n",
      " |      Return number of occurrences of value.\n",
      " |  \n",
      " |  index(self, value, start=0, stop=9223372036854775807, /)\n",
      " |      Return first index of value.\n",
      " |      \n",
      " |      Raises ValueError if the value is not present.\n",
      " |  \n",
      " |  ----------------------------------------------------------------------\n",
      " |  Static methods defined here:\n",
      " |  \n",
      " |  __new__(*args, **kwargs) from builtins.type\n",
      " |      Create and return a new object.  See help(type) for accurate signature.\n",
      "\n"
     ]
    }
   ],
   "source": [
    "demet = ()\n",
    "demet = tuple()\n",
    "demet = (10, 20, 25, 30, 35, 40, 35)\n",
    "\n",
    "index = demet.index(25)\n",
    "print(index)\n",
    "\n",
    "sayaç = demet.count(20)\n",
    "print(sayaç)\n",
    "\n",
    "help(tuple())"
   ]
  },
  {
   "cell_type": "markdown",
   "metadata": {
    "colab_type": "text",
    "id": "sip1s0KPJkth"
   },
   "source": [
    "### Matematiksel Fonksiyonlar ( Mathematical Functions ) "
   ]
  },
  {
   "cell_type": "code",
   "execution_count": 146,
   "metadata": {
    "colab": {},
    "colab_type": "code",
    "id": "lAbjCA7PJkti"
   },
   "outputs": [
    {
     "name": "stdout",
     "output_type": "stream",
     "text": [
      "10\n",
      "(2, 6)\n"
     ]
    }
   ],
   "source": [
    "abs_number = abs(-10)\n",
    "print(abs_number)\n",
    "\n",
    "divmod_number = divmod(20, 7)\n",
    "print(divmod_number)\n",
    "# 20 // 7, 20 % 7"
   ]
  },
  {
   "cell_type": "code",
   "execution_count": 147,
   "metadata": {
    "colab": {},
    "colab_type": "code",
    "id": "kFV9DgO5Jktk"
   },
   "outputs": [
    {
     "name": "stdout",
     "output_type": "stream",
     "text": [
      "[1, 3, -1, -9, 6, -3, -6, -5, -8, 9, -9, -10, 1, -4, 10]\n"
     ]
    }
   ],
   "source": [
    "from random import randint\n",
    "\n",
    "sayı_listesi = []\n",
    "for i in range(15):\n",
    "    sayı_listesi.append(randint(-10, 10))\n",
    "\n",
    "print(sayı_listesi)"
   ]
  },
  {
   "cell_type": "code",
   "execution_count": 148,
   "metadata": {
    "colab": {},
    "colab_type": "code",
    "id": "-GV1Uph2Jktl"
   },
   "outputs": [
    {
     "name": "stdout",
     "output_type": "stream",
     "text": [
      "Liste: [1, 3, -1, -9, 6, -3, -6, -5, -8, 9, -9, -10, 1, -4, 10]\n",
      "max() fonksiyonunun çıktısı => 10\n",
      "min() fonksiyonunun çıktısı => -10\n",
      "sum() fonksiyonunun çıktısı => -25\n"
     ]
    }
   ],
   "source": [
    "string = \"{} fonksiyonunun çıktısı => {}\"\n",
    "\n",
    "print(\"Liste: {}\".format(sayı_listesi))\n",
    "print(string.format(\"max()\", max(sayı_listesi)))\n",
    "print(string.format(\"min()\", min(sayı_listesi)))\n",
    "print(string.format(\"sum()\", sum(sayı_listesi)))"
   ]
  },
  {
   "cell_type": "markdown",
   "metadata": {
    "colab_type": "text",
    "id": "9whjWWUdJktn"
   },
   "source": [
    "## Sözlükler ( Dictionaries )"
   ]
  },
  {
   "cell_type": "code",
   "execution_count": 149,
   "metadata": {
    "colab": {},
    "colab_type": "code",
    "id": "X6fvhH0_Jktn"
   },
   "outputs": [
    {
     "name": "stdout",
     "output_type": "stream",
     "text": [
      "{'Elma': 'Apple', 'Armut': 'Pear', 'Tilki': 'Fox'}\n"
     ]
    }
   ],
   "source": [
    "sozluk = {}\n",
    "sozluk = dict()\n",
    "\n",
    "sozluk['Elma'] = 'Apple'\n",
    "sozluk['Armut'] = 'Pear'\n",
    "sozluk['Tilki'] = 'Fox'\n",
    "\n",
    "print(sozluk)"
   ]
  },
  {
   "cell_type": "code",
   "execution_count": 150,
   "metadata": {
    "colab": {},
    "colab_type": "code",
    "id": "YxJd-yx4Jktp"
   },
   "outputs": [
    {
     "name": "stdout",
     "output_type": "stream",
     "text": [
      "dict_keys(['Elma', 'Armut', 'Tilki'])\n",
      "dict_values(['Apple', 'Pear', 'Fox'])\n"
     ]
    }
   ],
   "source": [
    "sozluk_keys = sozluk.keys()\n",
    "print(sozluk_keys)\n",
    "\n",
    "sozluk_values = sozluk.values()\n",
    "print(sozluk_values)"
   ]
  },
  {
   "cell_type": "code",
   "execution_count": 151,
   "metadata": {
    "colab": {},
    "colab_type": "code",
    "id": "eLn08kZQJktq"
   },
   "outputs": [
    {
     "name": "stdout",
     "output_type": "stream",
     "text": [
      "dict_items([('Elma', 'Apple'), ('Armut', 'Pear'), ('Tilki', 'Fox')])\n",
      "Elma Apple\n",
      "Armut Pear\n",
      "Tilki Fox\n"
     ]
    }
   ],
   "source": [
    "\"\"\"\n",
    "for key in sozluk.keys():\n",
    "    pass\n",
    "    \n",
    "for value in sozluk.values():\n",
    "    pass\n",
    "\"\"\"\n",
    "print(sozluk.items())\n",
    "for key, value in sozluk.items():\n",
    "    print(key, value)"
   ]
  },
  {
   "cell_type": "code",
   "execution_count": 153,
   "metadata": {
    "colab": {},
    "colab_type": "code",
    "id": "lXG5JnSTJktr"
   },
   "outputs": [
    {
     "name": "stdout",
     "output_type": "stream",
     "text": [
      "Pear\n"
     ]
    },
    {
     "ename": "KeyError",
     "evalue": "'Üzüm'",
     "output_type": "error",
     "traceback": [
      "\u001b[0;31m---------------------------------------------------------------------------\u001b[0m",
      "\u001b[0;31mKeyError\u001b[0m                                  Traceback (most recent call last)",
      "\u001b[0;32m<ipython-input-153-7a29f718c7cd>\u001b[0m in \u001b[0;36m<module>\u001b[0;34m\u001b[0m\n\u001b[1;32m      1\u001b[0m \u001b[0mprint\u001b[0m\u001b[0;34m(\u001b[0m\u001b[0msozluk\u001b[0m\u001b[0;34m[\u001b[0m\u001b[0;34m'Armut'\u001b[0m\u001b[0;34m]\u001b[0m\u001b[0;34m)\u001b[0m\u001b[0;34m\u001b[0m\u001b[0;34m\u001b[0m\u001b[0m\n\u001b[0;32m----> 2\u001b[0;31m \u001b[0mprint\u001b[0m\u001b[0;34m(\u001b[0m\u001b[0msozluk\u001b[0m\u001b[0;34m[\u001b[0m\u001b[0;34m'Üzüm'\u001b[0m\u001b[0;34m]\u001b[0m\u001b[0;34m)\u001b[0m\u001b[0;34m\u001b[0m\u001b[0;34m\u001b[0m\u001b[0m\n\u001b[0m",
      "\u001b[0;31mKeyError\u001b[0m: 'Üzüm'"
     ]
    }
   ],
   "source": [
    "print(sozluk['Armut'])\n",
    "print(sozluk['Üzüm'])"
   ]
  },
  {
   "cell_type": "code",
   "execution_count": 155,
   "metadata": {
    "colab": {},
    "colab_type": "code",
    "id": "zuETRKKKJktr"
   },
   "outputs": [
    {
     "name": "stdout",
     "output_type": "stream",
     "text": [
      "None\n"
     ]
    }
   ],
   "source": [
    "print(sozluk.get('ÜzümÜ'))"
   ]
  },
  {
   "cell_type": "code",
   "execution_count": 156,
   "metadata": {
    "colab": {},
    "colab_type": "code",
    "id": "vq5Nm1vMJktt"
   },
   "outputs": [
    {
     "data": {
      "text/plain": [
       "'Apple'"
      ]
     },
     "execution_count": 156,
     "metadata": {},
     "output_type": "execute_result"
    }
   ],
   "source": [
    "sozluk.setdefault('Elma', 'Malus')"
   ]
  },
  {
   "cell_type": "code",
   "execution_count": 159,
   "metadata": {
    "colab": {},
    "colab_type": "code",
    "id": "pRETlCp_Jktt"
   },
   "outputs": [
    {
     "data": {
      "text/plain": [
       "'Grape'"
      ]
     },
     "execution_count": 159,
     "metadata": {},
     "output_type": "execute_result"
    }
   ],
   "source": [
    "sozluk.setdefault('Üzüm', 'Grape')\n"
   ]
  },
  {
   "cell_type": "markdown",
   "metadata": {
    "colab_type": "text",
    "id": "vcwht9vhJktw"
   },
   "source": [
    "## Kümeler ve Dondurulmuş Kümeler ( Sets and Frozensets )"
   ]
  },
  {
   "cell_type": "code",
   "execution_count": 160,
   "metadata": {
    "colab": {},
    "colab_type": "code",
    "id": "ADdrGsvcJktw"
   },
   "outputs": [
    {
     "name": "stdout",
     "output_type": "stream",
     "text": [
      "{1, 2, 3}\n"
     ]
    }
   ],
   "source": [
    "küme = set()\n",
    "\n",
    "küme.add(1)\n",
    "küme.add(2)\n",
    "küme.add(3)\n",
    "küme.add(3)\n",
    "küme.add(3)\n",
    "küme.add(2)\n",
    "\n",
    "print(küme)"
   ]
  },
  {
   "cell_type": "code",
   "execution_count": 161,
   "metadata": {
    "colab": {},
    "colab_type": "code",
    "id": "g0IqVQc0Jktx"
   },
   "outputs": [
    {
     "name": "stdout",
     "output_type": "stream",
     "text": [
      "{0, 1, 2, 3, 4, 5, 10, 12}\n"
     ]
    }
   ],
   "source": [
    "liste = [10, 12, 1, 0, 2, 3, 4, 4, 2, 3, 0, 2, 1, 5]\n",
    "küme = set(liste)\n",
    "\n",
    "print(küme)"
   ]
  },
  {
   "cell_type": "code",
   "execution_count": 162,
   "metadata": {
    "colab": {},
    "colab_type": "code",
    "id": "BG4yCaSjJkty"
   },
   "outputs": [
    {
     "name": "stdout",
     "output_type": "stream",
     "text": [
      "{0, 1, 2, 3, 4, 5, 12}\n"
     ]
    }
   ],
   "source": [
    "küme.remove(10)\n",
    "print(küme)"
   ]
  },
  {
   "cell_type": "code",
   "execution_count": 163,
   "metadata": {
    "colab": {},
    "colab_type": "code",
    "id": "mEKKQxVdJktz"
   },
   "outputs": [
    {
     "name": "stdout",
     "output_type": "stream",
     "text": [
      "Kesişim kümesi:  {50, 30}\n",
      "Birleşim kümesi:  {100, 10, 50, 20, 90, 30}\n",
      "Küme1:  {10, 100, 50, 30}\n"
     ]
    }
   ],
   "source": [
    "liste1 = [10, 100, 50, 30]\n",
    "liste2 = [20, 50, 90, 30]\n",
    "\n",
    "küme1 = set(liste1)\n",
    "küme2 = set(liste2)\n",
    "\n",
    "print(\"Kesişim kümesi: \", küme1.intersection(küme2))\n",
    "print(\"Birleşim kümesi: \", küme1.union(küme2))\n",
    "print(\"Küme1: \", küme1)"
   ]
  },
  {
   "cell_type": "markdown",
   "metadata": {
    "colab_type": "text",
    "id": "K8mNVP1ZJkt0"
   },
   "source": [
    "## Üç büyükler"
   ]
  },
  {
   "cell_type": "code",
   "execution_count": 164,
   "metadata": {
    "colab": {},
    "colab_type": "code",
    "id": "gl-dAUtPJkt0"
   },
   "outputs": [
    {
     "name": "stdout",
     "output_type": "stream",
     "text": [
      "Help on class list in module builtins:\n",
      "\n",
      "class list(object)\n",
      " |  list(iterable=(), /)\n",
      " |  \n",
      " |  Built-in mutable sequence.\n",
      " |  \n",
      " |  If no argument is given, the constructor creates a new empty list.\n",
      " |  The argument must be an iterable if specified.\n",
      " |  \n",
      " |  Methods defined here:\n",
      " |  \n",
      " |  __add__(self, value, /)\n",
      " |      Return self+value.\n",
      " |  \n",
      " |  __contains__(self, key, /)\n",
      " |      Return key in self.\n",
      " |  \n",
      " |  __delitem__(self, key, /)\n",
      " |      Delete self[key].\n",
      " |  \n",
      " |  __eq__(self, value, /)\n",
      " |      Return self==value.\n",
      " |  \n",
      " |  __ge__(self, value, /)\n",
      " |      Return self>=value.\n",
      " |  \n",
      " |  __getattribute__(self, name, /)\n",
      " |      Return getattr(self, name).\n",
      " |  \n",
      " |  __getitem__(...)\n",
      " |      x.__getitem__(y) <==> x[y]\n",
      " |  \n",
      " |  __gt__(self, value, /)\n",
      " |      Return self>value.\n",
      " |  \n",
      " |  __iadd__(self, value, /)\n",
      " |      Implement self+=value.\n",
      " |  \n",
      " |  __imul__(self, value, /)\n",
      " |      Implement self*=value.\n",
      " |  \n",
      " |  __init__(self, /, *args, **kwargs)\n",
      " |      Initialize self.  See help(type(self)) for accurate signature.\n",
      " |  \n",
      " |  __iter__(self, /)\n",
      " |      Implement iter(self).\n",
      " |  \n",
      " |  __le__(self, value, /)\n",
      " |      Return self<=value.\n",
      " |  \n",
      " |  __len__(self, /)\n",
      " |      Return len(self).\n",
      " |  \n",
      " |  __lt__(self, value, /)\n",
      " |      Return self<value.\n",
      " |  \n",
      " |  __mul__(self, value, /)\n",
      " |      Return self*value.\n",
      " |  \n",
      " |  __ne__(self, value, /)\n",
      " |      Return self!=value.\n",
      " |  \n",
      " |  __repr__(self, /)\n",
      " |      Return repr(self).\n",
      " |  \n",
      " |  __reversed__(self, /)\n",
      " |      Return a reverse iterator over the list.\n",
      " |  \n",
      " |  __rmul__(self, value, /)\n",
      " |      Return value*self.\n",
      " |  \n",
      " |  __setitem__(self, key, value, /)\n",
      " |      Set self[key] to value.\n",
      " |  \n",
      " |  __sizeof__(self, /)\n",
      " |      Return the size of the list in memory, in bytes.\n",
      " |  \n",
      " |  append(self, object, /)\n",
      " |      Append object to the end of the list.\n",
      " |  \n",
      " |  clear(self, /)\n",
      " |      Remove all items from list.\n",
      " |  \n",
      " |  copy(self, /)\n",
      " |      Return a shallow copy of the list.\n",
      " |  \n",
      " |  count(self, value, /)\n",
      " |      Return number of occurrences of value.\n",
      " |  \n",
      " |  extend(self, iterable, /)\n",
      " |      Extend list by appending elements from the iterable.\n",
      " |  \n",
      " |  index(self, value, start=0, stop=9223372036854775807, /)\n",
      " |      Return first index of value.\n",
      " |      \n",
      " |      Raises ValueError if the value is not present.\n",
      " |  \n",
      " |  insert(self, index, object, /)\n",
      " |      Insert object before index.\n",
      " |  \n",
      " |  pop(self, index=-1, /)\n",
      " |      Remove and return item at index (default last).\n",
      " |      \n",
      " |      Raises IndexError if list is empty or index is out of range.\n",
      " |  \n",
      " |  remove(self, value, /)\n",
      " |      Remove first occurrence of value.\n",
      " |      \n",
      " |      Raises ValueError if the value is not present.\n",
      " |  \n",
      " |  reverse(self, /)\n",
      " |      Reverse *IN PLACE*.\n",
      " |  \n",
      " |  sort(self, /, *, key=None, reverse=False)\n",
      " |      Sort the list in ascending order and return None.\n",
      " |      \n",
      " |      The sort is in-place (i.e. the list itself is modified) and stable (i.e. the\n",
      " |      order of two equal elements is maintained).\n",
      " |      \n",
      " |      If a key function is given, apply it once to each list item and sort them,\n",
      " |      ascending or descending, according to their function values.\n",
      " |      \n",
      " |      The reverse flag can be set to sort in descending order.\n",
      " |  \n",
      " |  ----------------------------------------------------------------------\n",
      " |  Static methods defined here:\n",
      " |  \n",
      " |  __new__(*args, **kwargs) from builtins.type\n",
      " |      Create and return a new object.  See help(type) for accurate signature.\n",
      " |  \n",
      " |  ----------------------------------------------------------------------\n",
      " |  Data and other attributes defined here:\n",
      " |  \n",
      " |  __hash__ = None\n",
      "\n"
     ]
    }
   ],
   "source": [
    "help(list)"
   ]
  },
  {
   "cell_type": "code",
   "execution_count": 165,
   "metadata": {
    "colab": {},
    "colab_type": "code",
    "id": "jD6ExYi1Jkt1"
   },
   "outputs": [
    {
     "name": "stdout",
     "output_type": "stream",
     "text": [
      "(0, 'Ahmet') (1, 'Ayşe') (2, 'Binnur') (3, 'Fatma') (4, 'Mehmet') (5, 'Nuri')\n"
     ]
    }
   ],
   "source": [
    "liste = sorted([\"Ayşe\", \"Ahmet\",\"Mehmet\", \"Nuri\", \"Fatma\", \"Binnur\"])\n",
    "print(*enumerate(liste))"
   ]
  },
  {
   "cell_type": "code",
   "execution_count": 167,
   "metadata": {
    "colab": {},
    "colab_type": "code",
    "id": "gAvms22GJkt3"
   },
   "outputs": [
    {
     "name": "stdout",
     "output_type": "stream",
     "text": [
      "-5 Ahmet\n",
      "-4 Ayşe\n",
      "-3 Binnur\n",
      "-2 Fatma\n",
      "-1 Mehmet\n",
      "0 Nuri\n"
     ]
    }
   ],
   "source": [
    "for no, isim in enumerate(liste, -5):\n",
    "    print(no, isim)"
   ]
  },
  {
   "cell_type": "code",
   "execution_count": 169,
   "metadata": {
    "colab": {},
    "colab_type": "code",
    "id": "PUxB59PtJkt4"
   },
   "outputs": [
    {
     "data": {
      "text/plain": [
       "['In',\n",
       " 'Out',\n",
       " '_',\n",
       " '_1',\n",
       " '_10',\n",
       " '_11',\n",
       " '_12',\n",
       " '_13',\n",
       " '_14',\n",
       " '_15',\n",
       " '_156',\n",
       " '_157',\n",
       " '_158',\n",
       " '_159',\n",
       " '_16',\n",
       " '_168',\n",
       " '_17',\n",
       " '_19',\n",
       " '_2',\n",
       " '_21',\n",
       " '_23',\n",
       " '_26',\n",
       " '_27',\n",
       " '_28',\n",
       " '_29',\n",
       " '_3',\n",
       " '_4',\n",
       " '_5',\n",
       " '_51',\n",
       " '_6',\n",
       " '_63',\n",
       " '_64',\n",
       " '_65',\n",
       " '_66',\n",
       " '_67',\n",
       " '_68',\n",
       " '_69',\n",
       " '_7',\n",
       " '_70',\n",
       " '_71',\n",
       " '_72',\n",
       " '_8',\n",
       " '_9',\n",
       " '_93',\n",
       " '__',\n",
       " '___',\n",
       " '__builtin__',\n",
       " '__builtins__',\n",
       " '__doc__',\n",
       " '__loader__',\n",
       " '__name__',\n",
       " '__package__',\n",
       " '__spec__',\n",
       " '_dh',\n",
       " '_i',\n",
       " '_i1',\n",
       " '_i10',\n",
       " '_i100',\n",
       " '_i101',\n",
       " '_i102',\n",
       " '_i103',\n",
       " '_i104',\n",
       " '_i105',\n",
       " '_i106',\n",
       " '_i107',\n",
       " '_i108',\n",
       " '_i109',\n",
       " '_i11',\n",
       " '_i110',\n",
       " '_i111',\n",
       " '_i112',\n",
       " '_i113',\n",
       " '_i114',\n",
       " '_i115',\n",
       " '_i116',\n",
       " '_i117',\n",
       " '_i118',\n",
       " '_i119',\n",
       " '_i12',\n",
       " '_i120',\n",
       " '_i121',\n",
       " '_i122',\n",
       " '_i123',\n",
       " '_i124',\n",
       " '_i125',\n",
       " '_i126',\n",
       " '_i127',\n",
       " '_i128',\n",
       " '_i129',\n",
       " '_i13',\n",
       " '_i130',\n",
       " '_i131',\n",
       " '_i132',\n",
       " '_i133',\n",
       " '_i134',\n",
       " '_i135',\n",
       " '_i136',\n",
       " '_i137',\n",
       " '_i138',\n",
       " '_i139',\n",
       " '_i14',\n",
       " '_i140',\n",
       " '_i141',\n",
       " '_i142',\n",
       " '_i143',\n",
       " '_i144',\n",
       " '_i145',\n",
       " '_i146',\n",
       " '_i147',\n",
       " '_i148',\n",
       " '_i149',\n",
       " '_i15',\n",
       " '_i150',\n",
       " '_i151',\n",
       " '_i152',\n",
       " '_i153',\n",
       " '_i154',\n",
       " '_i155',\n",
       " '_i156',\n",
       " '_i157',\n",
       " '_i158',\n",
       " '_i159',\n",
       " '_i16',\n",
       " '_i160',\n",
       " '_i161',\n",
       " '_i162',\n",
       " '_i163',\n",
       " '_i164',\n",
       " '_i165',\n",
       " '_i166',\n",
       " '_i167',\n",
       " '_i168',\n",
       " '_i169',\n",
       " '_i17',\n",
       " '_i18',\n",
       " '_i19',\n",
       " '_i2',\n",
       " '_i20',\n",
       " '_i21',\n",
       " '_i22',\n",
       " '_i23',\n",
       " '_i24',\n",
       " '_i25',\n",
       " '_i26',\n",
       " '_i27',\n",
       " '_i28',\n",
       " '_i29',\n",
       " '_i3',\n",
       " '_i30',\n",
       " '_i31',\n",
       " '_i32',\n",
       " '_i33',\n",
       " '_i34',\n",
       " '_i35',\n",
       " '_i36',\n",
       " '_i37',\n",
       " '_i38',\n",
       " '_i39',\n",
       " '_i4',\n",
       " '_i40',\n",
       " '_i41',\n",
       " '_i42',\n",
       " '_i43',\n",
       " '_i44',\n",
       " '_i45',\n",
       " '_i46',\n",
       " '_i47',\n",
       " '_i48',\n",
       " '_i49',\n",
       " '_i5',\n",
       " '_i50',\n",
       " '_i51',\n",
       " '_i52',\n",
       " '_i53',\n",
       " '_i54',\n",
       " '_i55',\n",
       " '_i56',\n",
       " '_i57',\n",
       " '_i58',\n",
       " '_i59',\n",
       " '_i6',\n",
       " '_i60',\n",
       " '_i61',\n",
       " '_i62',\n",
       " '_i63',\n",
       " '_i64',\n",
       " '_i65',\n",
       " '_i66',\n",
       " '_i67',\n",
       " '_i68',\n",
       " '_i69',\n",
       " '_i7',\n",
       " '_i70',\n",
       " '_i71',\n",
       " '_i72',\n",
       " '_i73',\n",
       " '_i74',\n",
       " '_i75',\n",
       " '_i76',\n",
       " '_i77',\n",
       " '_i78',\n",
       " '_i79',\n",
       " '_i8',\n",
       " '_i80',\n",
       " '_i81',\n",
       " '_i82',\n",
       " '_i83',\n",
       " '_i84',\n",
       " '_i85',\n",
       " '_i86',\n",
       " '_i87',\n",
       " '_i88',\n",
       " '_i89',\n",
       " '_i9',\n",
       " '_i90',\n",
       " '_i91',\n",
       " '_i92',\n",
       " '_i93',\n",
       " '_i94',\n",
       " '_i95',\n",
       " '_i96',\n",
       " '_i97',\n",
       " '_i98',\n",
       " '_i99',\n",
       " '_ih',\n",
       " '_ii',\n",
       " '_iii',\n",
       " '_oh',\n",
       " 'a',\n",
       " 'abs_number',\n",
       " 'aranacak_sözcük',\n",
       " 'cümle',\n",
       " 'demet',\n",
       " 'değişken1',\n",
       " 'değişken2',\n",
       " 'divmod_number',\n",
       " 'exit',\n",
       " 'f',\n",
       " 'gerçek_kullanıcı',\n",
       " 'gerçek_şifre',\n",
       " 'get_ipython',\n",
       " 'haftalık_çalışma_saati',\n",
       " 'harf',\n",
       " 'i',\n",
       " 'index',\n",
       " 'isim',\n",
       " 'key',\n",
       " 'keyword',\n",
       " 'küme',\n",
       " 'küme1',\n",
       " 'küme2',\n",
       " 'liste',\n",
       " 'liste1',\n",
       " 'liste2',\n",
       " 'liste3',\n",
       " 'matrix',\n",
       " 'no',\n",
       " 'password',\n",
       " 'quit',\n",
       " 'randint',\n",
       " 'saatlik_ücret',\n",
       " 'satır',\n",
       " 'sayaç',\n",
       " 'sayı1',\n",
       " 'sayı2',\n",
       " 'sayı_listesi',\n",
       " 'silinen',\n",
       " 'sorulan_kullanıcı',\n",
       " 'sorulan_şifre',\n",
       " 'sozluk',\n",
       " 'sozluk_keys',\n",
       " 'sozluk_values',\n",
       " 'string',\n",
       " 'sütun',\n",
       " 'username',\n",
       " 'value',\n",
       " 'yaş',\n",
       " 'yeni_liste']"
      ]
     },
     "execution_count": 169,
     "metadata": {},
     "output_type": "execute_result"
    }
   ],
   "source": [
    "dir()"
   ]
  },
  {
   "cell_type": "markdown",
   "metadata": {
    "colab_type": "text",
    "id": "9xfzMHebJkt4"
   },
   "source": [
    "## Karakter Dizilerinin Methotları ( String Methods )"
   ]
  },
  {
   "cell_type": "code",
   "execution_count": 170,
   "metadata": {
    "colab": {},
    "colab_type": "code",
    "id": "RbUcubFiJkt5"
   },
   "outputs": [],
   "source": [
    "string = 'Hikmet ÖZBEN'"
   ]
  },
  {
   "cell_type": "code",
   "execution_count": 171,
   "metadata": {
    "colab": {},
    "colab_type": "code",
    "id": "11EJ2W5xJkt6"
   },
   "outputs": [
    {
     "name": "stdout",
     "output_type": "stream",
     "text": [
      "H\n"
     ]
    }
   ],
   "source": [
    "print(string[0])"
   ]
  },
  {
   "cell_type": "code",
   "execution_count": 172,
   "metadata": {
    "colab": {},
    "colab_type": "code",
    "id": "QHzrJbz-Jkt7"
   },
   "outputs": [
    {
     "name": "stdout",
     "output_type": "stream",
     "text": [
      "Hikm\n",
      "Hikmet ÖZBEN\n",
      "Hke ZE\n"
     ]
    }
   ],
   "source": [
    "print(string[0:4])\n",
    "print(string[0:len(string)])\n",
    "print(string[0:len(string):2])"
   ]
  },
  {
   "cell_type": "code",
   "execution_count": 173,
   "metadata": {
    "colab": {},
    "colab_type": "code",
    "id": "blONGE1PJkt_"
   },
   "outputs": [
    {
     "name": "stdout",
     "output_type": "stream",
     "text": [
      "hikmet özben\n",
      "HIKMET ÖZBEN\n"
     ]
    }
   ],
   "source": [
    "print(string.lower())\n",
    "print(string.upper())"
   ]
  },
  {
   "cell_type": "code",
   "execution_count": 174,
   "metadata": {
    "colab": {},
    "colab_type": "code",
    "id": "5W0OEZHhJkuA"
   },
   "outputs": [
    {
     "name": "stdout",
     "output_type": "stream",
     "text": [
      "Hikmet ÖZBEN\n",
      "Hikmet BENOL\n",
      "Turgut BENOL\n"
     ]
    }
   ],
   "source": [
    "print(string)\n",
    "\n",
    "string = string.replace('ÖZBEN', 'BENOL')\n",
    "print(string)\n",
    "\n",
    "string = string.replace('Hikmet', 'Turgut')\n",
    "print(string)"
   ]
  },
  {
   "cell_type": "code",
   "execution_count": 175,
   "metadata": {
    "colab": {},
    "colab_type": "code",
    "id": "7e5Q7Q-pJkuB"
   },
   "outputs": [
    {
     "name": "stdout",
     "output_type": "stream",
     "text": [
      "False\n",
      "True\n"
     ]
    }
   ],
   "source": [
    "print(\"A\".islower())\n",
    "print(\"A\".isupper())"
   ]
  },
  {
   "cell_type": "code",
   "execution_count": 176,
   "metadata": {
    "colab": {},
    "colab_type": "code",
    "id": "R5eCZqgcJkuD"
   },
   "outputs": [
    {
     "name": "stdout",
     "output_type": "stream",
     "text": [
      "False\n",
      "True\n"
     ]
    }
   ],
   "source": [
    "print(string.startswith('Hikmet'))\n",
    "print(string.endswith('OL'))"
   ]
  },
  {
   "cell_type": "code",
   "execution_count": 180,
   "metadata": {
    "colab": {},
    "colab_type": "code",
    "id": "xgXTiG3nJkuE"
   },
   "outputs": [
    {
     "data": {
      "text/plain": [
       "['Turgut', 'BENOL']"
      ]
     },
     "execution_count": 180,
     "metadata": {},
     "output_type": "execute_result"
    }
   ],
   "source": [
    "string.split(\" \")"
   ]
  },
  {
   "cell_type": "code",
   "execution_count": 181,
   "metadata": {
    "colab": {},
    "colab_type": "code",
    "id": "vkHYejIQJkuG"
   },
   "outputs": [
    {
     "name": "stdout",
     "output_type": "stream",
     "text": [
      "Turgutcum BENOL\n"
     ]
    }
   ],
   "source": [
    "string = string.split()\n",
    "string = \"cum \".join(string)\n",
    "print(string)"
   ]
  },
  {
   "cell_type": "code",
   "execution_count": 186,
   "metadata": {
    "colab": {},
    "colab_type": "code",
    "id": "uKzCcZ03JkuH"
   },
   "outputs": [
    {
     "name": "stdout",
     "output_type": "stream",
     "text": [
      "['Merkür', 'Venüs', 'Dünya', 'Mars', 'Jüpiter', 'Satürn', 'Uranüs', 'Neptün']\n",
      "Venüs - Uranüs - Satürn - Neptün - Merkür - Mars - Jüpiter - Dünya\n"
     ]
    }
   ],
   "source": [
    "gezegenler = \"Merkür,Venüs,Dünya,Mars,Jüpiter,Satürn,Uranüs,Neptün\"\n",
    "gezegenler = gezegenler.split(\",\")\n",
    "print(gezegenler)\n",
    "\n",
    "sıralanmış_gezegenler = \" - \".join(sorted(gezegenler, reverse=True))\n",
    "\"\"\"\n",
    "sıralanmış_gezegenler = sorted(gezegenler)\n",
    "sıralanmış_gezegenler = sıralanmış_gezegenler[::-1]\n",
    "sıralanmış_gezgenler = \" - \".join(sıralanmış_gezegenler)\n",
    "print(sıralanmış_gezegenler)\n",
    "\"\"\"\n",
    "print(sıralanmış_gezegenler)\n"
   ]
  },
  {
   "cell_type": "code",
   "execution_count": 187,
   "metadata": {
    "colab": {},
    "colab_type": "code",
    "id": "LTBL28HTJkuI"
   },
   "outputs": [
    {
     "data": {
      "text/plain": [
       "'Merkür Venüs Dünya Mars Jüpiter Satürn Uranüs Neptün'"
      ]
     },
     "execution_count": 187,
     "metadata": {},
     "output_type": "execute_result"
    }
   ],
   "source": [
    "gezegenler = \"     Merkür Venüs Dünya Mars Jüpiter Satürn Uranüs Neptün       \"\n",
    "gezegenler.strip()"
   ]
  },
  {
   "cell_type": "code",
   "execution_count": 189,
   "metadata": {
    "colab": {},
    "colab_type": "code",
    "id": "PJqqFF7OJkuJ"
   },
   "outputs": [
    {
     "data": {
      "text/plain": [
       "'     Merkür Venüs Dünya Mars Jüpiter Satürn Uranüs Neptün'"
      ]
     },
     "execution_count": 189,
     "metadata": {},
     "output_type": "execute_result"
    }
   ],
   "source": [
    "gezegenler = \"     Merkür Venüs Dünya Mars Jüpiter Satürn Uranüs Neptün       \"\n",
    "gezegenler.rstrip()"
   ]
  },
  {
   "cell_type": "markdown",
   "metadata": {
    "colab_type": "text",
    "id": "V0B2QkdWJkuK"
   },
   "source": [
    "## Fonksiyonlar ( Functions )"
   ]
  },
  {
   "cell_type": "code",
   "execution_count": 190,
   "metadata": {
    "colab": {},
    "colab_type": "code",
    "id": "msp6-4AjJkuK"
   },
   "outputs": [
    {
     "name": "stdout",
     "output_type": "stream",
     "text": [
      "\n",
      "İsim: Ahmet DENİZ\n",
      "Ortalama: 78.33\n",
      "Harf notu: C\n",
      "--------------------\n",
      "İsim: Aylin TÜRK\n",
      "Ortalama: 45.00\n",
      "Harf notu: F\n",
      "--------------------\n",
      "İsim: Murat YILMAZ\n",
      "Ortalama: 95.00\n",
      "Harf notu: A\n",
      "--------------------"
     ]
    }
   ],
   "source": [
    "def not_hesaplama(ad, puanlar):\n",
    "    ortalama = sum(puanlar) / len(puanlar)\n",
    "    \n",
    "    if ortalama > 90:\n",
    "        harf = 'A'\n",
    "    elif ortalama > 80:\n",
    "        harf = 'B'\n",
    "    elif ortalama > 60:\n",
    "        harf = 'C'\n",
    "    elif ortalama > 50:\n",
    "        harf = 'D'\n",
    "    else:\n",
    "        harf = 'F'\n",
    "    \n",
    "    print(f'\\nİsim: {ad}\\nOrtalama: {ortalama:.2f}\\nHarf notu: {harf}\\n', end=\"-\"*20)\n",
    "\n",
    "not_hesaplama('Ahmet DENİZ', (60, 100, 75))\n",
    "not_hesaplama('Aylin TÜRK', (20, 50, 65))\n",
    "not_hesaplama('Murat YILMAZ', (100, 100, 85))"
   ]
  },
  {
   "cell_type": "code",
   "execution_count": 191,
   "metadata": {
    "colab": {},
    "colab_type": "code",
    "id": "0S3WZf4kJkuL"
   },
   "outputs": [
    {
     "name": "stdout",
     "output_type": "stream",
     "text": [
      "100\n",
      "20\n",
      "64\n"
     ]
    }
   ],
   "source": [
    "def carp(a=10, b=10):\n",
    "    sonuc = a * b\n",
    "    return sonuc\n",
    "\n",
    "sonuc = carp()\n",
    "print(sonuc)\n",
    "\n",
    "print(carp(5, 4))\n",
    "print(carp(b=32, a=2))"
   ]
  },
  {
   "cell_type": "code",
   "execution_count": 192,
   "metadata": {
    "colab": {},
    "colab_type": "code",
    "id": "Il7Fjz8jJkuQ"
   },
   "outputs": [
    {
     "name": "stdout",
     "output_type": "stream",
     "text": [
      "10\n",
      "5\n"
     ]
    }
   ],
   "source": [
    "a = 5\n",
    "def a_degistirme():\n",
    "    a = 10\n",
    "    print(a)\n",
    "a_degistirme()\n",
    "print(a)"
   ]
  },
  {
   "cell_type": "code",
   "execution_count": 193,
   "metadata": {
    "colab": {},
    "colab_type": "code",
    "id": "Ea_sU_BGJkuR"
   },
   "outputs": [
    {
     "name": "stdout",
     "output_type": "stream",
     "text": [
      "10\n",
      "10\n"
     ]
    }
   ],
   "source": [
    "a = 5\n",
    "def a_degistirme():\n",
    "    global a\n",
    "    a = 10\n",
    "    print(a)\n",
    "a_degistirme()\n",
    "print(a)"
   ]
  },
  {
   "cell_type": "markdown",
   "metadata": {
    "colab_type": "text",
    "id": "rGfUR7zJJkuS"
   },
   "source": [
    "## Nesne Yönelimli Programlama GİRİŞ ( Beginning OOP )"
   ]
  },
  {
   "cell_type": "code",
   "execution_count": 194,
   "metadata": {
    "colab": {},
    "colab_type": "code",
    "id": "dx6d34ekJkuS"
   },
   "outputs": [
    {
     "name": "stdout",
     "output_type": "stream",
     "text": [
      "Araba gidiyor..\n",
      "Araba duruyor..\n",
      "Araba gidiyor..\n"
     ]
    }
   ],
   "source": [
    "class Araba:\n",
    "    def sür(self):\n",
    "        print('Araba gidiyor..')\n",
    "    \n",
    "    def dur(self):\n",
    "        print('Araba duruyor..')\n",
    "        \n",
    "\n",
    "araba = Araba()\n",
    "araba.sür()\n",
    "araba.dur()\n",
    "araba.sür()"
   ]
  },
  {
   "cell_type": "code",
   "execution_count": 195,
   "metadata": {
    "colab": {},
    "colab_type": "code",
    "id": "oo_b3X7UJkuT"
   },
   "outputs": [],
   "source": [
    "class Araba:\n",
    "    \"\"\"\n",
    "    Python dersi için tanımladığımız araba sınıfımız.\n",
    "    -------------------------------------------------\n",
    "    Sınıf içerisinde arabanın yapmasını istediğimiz \n",
    "    ve yapabileceği fonksiyonları barındırıyor.\n",
    "    \"\"\"\n",
    "    def __init__(self, marka, model, yıl, renk):\n",
    "        \"\"\"\n",
    "        Bir nesne oluştururken aşağıdaki parametreleri\n",
    "        vermeyi unutmayın!\n",
    "        => Marka, Model, Yıl ve Renk\n",
    "        \"\"\"\n",
    "        self.marka = marka\n",
    "        self.model = model\n",
    "        self.yıl = yıl\n",
    "        self.renk = renk\n",
    "        self.durum = 0\n",
    "        \"\"\"\n",
    "        0: Kapalı\n",
    "        1: Çalışır halde duruyor\n",
    "        2: Gidiyor\n",
    "        \"\"\"\n",
    "        \n",
    "    def çalıştır(self):\n",
    "        self.durum = 1 \n",
    "    \n",
    "    def durdur(self):\n",
    "        self.durum = 0 \n",
    "        \n",
    "    def sür(self):\n",
    "        if self.durum:\n",
    "            print('{} gidiyor'.format(self.model))\n",
    "            self.durum = 2\n",
    "        else:\n",
    "            print('Önce arabayı çalıştır')\n",
    "    \n",
    "    def dur(self):\n",
    "        if self.durum:\n",
    "            print('{} duruyor'.format(self.model))\n",
    "            self.durum = 1\n",
    "        else:\n",
    "            print('Önce arabayı çalıştır')\n",
    "            \n",
    "    def özellikleri_yazdır(self):\n",
    "        print(f\"Marka: {self.marka:<10}\\\n",
    "        Model: {self.model:<10}\\\n",
    "        Yıl: {self.yıl:<10}\\\n",
    "        Renk: {self.renk:<10}\")"
   ]
  },
  {
   "cell_type": "code",
   "execution_count": 197,
   "metadata": {
    "colab": {},
    "colab_type": "code",
    "id": "fNQfyFq2JkuU"
   },
   "outputs": [
    {
     "name": "stdout",
     "output_type": "stream",
     "text": [
      "Önce arabayı çalıştır\n",
      "Challenger gidiyor\n",
      "Marka: Dodge             Model: Challenger        Yıl: 2016              Renk: Siyah     \n",
      "Challenger duruyor\n"
     ]
    }
   ],
   "source": [
    "\n",
    "araba1 = Araba('Dodge', 'Challenger', '2016', 'Siyah')\n",
    "araba1.sür()\n",
    "araba1.çalıştır()\n",
    "araba1.sür()\n",
    "araba1.özellikleri_yazdır()\n",
    "araba1.dur()"
   ]
  },
  {
   "cell_type": "code",
   "execution_count": null,
   "metadata": {
    "colab": {},
    "colab_type": "code",
    "id": "iXoLgEdTJkuV"
   },
   "outputs": [],
   "source": [
    "araba2 = Araba('Ford', 'Mustang', '1971', 'Sarı-Siyah')\n",
    "araba2.sür()\n",
    "araba2.çalıştır()\n",
    "araba2.sür()\n",
    "araba2.özellikleri_yazdır()\n",
    "araba2.dur()"
   ]
  },
  {
   "cell_type": "code",
   "execution_count": null,
   "metadata": {
    "colab": {},
    "colab_type": "code",
    "id": "VeA3fllZJkuW"
   },
   "outputs": [],
   "source": []
  },
  {
   "cell_type": "code",
   "execution_count": null,
   "metadata": {
    "colab": {},
    "colab_type": "code",
    "id": "GC4xL7T2JkuX"
   },
   "outputs": [],
   "source": []
  },
  {
   "cell_type": "code",
   "execution_count": null,
   "metadata": {
    "colab": {},
    "colab_type": "code",
    "id": "_nduNsrIJkuX"
   },
   "outputs": [],
   "source": []
  },
  {
   "cell_type": "code",
   "execution_count": null,
   "metadata": {
    "colab": {},
    "colab_type": "code",
    "id": "R2a8KdLPJkuZ"
   },
   "outputs": [],
   "source": []
  },
  {
   "cell_type": "code",
   "execution_count": null,
   "metadata": {
    "colab": {},
    "colab_type": "code",
    "id": "SYyLUCibJkua"
   },
   "outputs": [],
   "source": []
  },
  {
   "cell_type": "code",
   "execution_count": null,
   "metadata": {
    "colab": {},
    "colab_type": "code",
    "id": "ltYFce7KJkub"
   },
   "outputs": [],
   "source": []
  }
 ],
 "metadata": {
  "colab": {
   "include_colab_link": true,
   "name": "Python3 101.ipynb",
   "provenance": []
  },
  "kernelspec": {
   "display_name": "Python 3.8.1 64-bit ('3.8.1': pyenv)",
   "language": "python",
   "name": "python38164bit381pyenvf307e63da0224bf8a7246253ff8d7272"
  },
  "language_info": {
   "codemirror_mode": {
    "name": "ipython",
    "version": 3
   },
   "file_extension": ".py",
   "mimetype": "text/x-python",
   "name": "python",
   "nbconvert_exporter": "python",
   "pygments_lexer": "ipython3",
   "version": "3.8.1"
  }
 },
 "nbformat": 4,
 "nbformat_minor": 4
}

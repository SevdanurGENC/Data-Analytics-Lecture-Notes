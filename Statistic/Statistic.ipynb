{
 "cells": [
  {
   "cell_type": "markdown",
   "metadata": {
    "colab_type": "text",
    "id": "7KaajwArByFW"
   },
   "source": [
    "# **Veri Bilimi İçin İstatistik**\n",
    "## Örnek Teorisi!"
   ]
  },
  {
   "cell_type": "markdown",
   "metadata": {
    "colab_type": "text",
    "id": "VkRSVbXMByFX"
   },
   "source": [
    "Varsayalım ki bir ilçedeki kişilerin yaşlarına ilişkin bir çıkarımda bulunmak istiyoruz.  \n",
    "Bu ilçedeki kişilerin yaş ortalamasını merak ediyoruz.  \n",
    "Ama bu ilçede 10.000 kişi yaşıyor ve her birisiyle tek tek görüşmek çok da mümkün değil.  \n",
    "Bu sebeple 10.000 kişinin hepsiyle görüşmek yerine bunun içerisinden 100 kişilik  \n",
    "bir örneklem çekip, bu 100 kişinin yaş ortalamasını inceleyip, bu ilçenin yaş ortalamasının  \n",
    "kaç olabileceğini tahmin etmek istiyoruz."
   ]
  },
  {
   "cell_type": "code",
   "execution_count": null,
   "metadata": {
    "colab": {},
    "colab_type": "code",
    "id": "99d0GJ3yByFX"
   },
   "outputs": [],
   "source": [
    "import numpy as np"
   ]
  },
  {
   "cell_type": "code",
   "execution_count": null,
   "metadata": {
    "colab": {},
    "colab_type": "code",
    "id": "RDb9znc-ByFa"
   },
   "outputs": [],
   "source": [
    "populasyon = np.random.randint(0, 80, 10000)\n",
    "#0-80 yas araliginda 10.000 kisi"
   ]
  },
  {
   "cell_type": "code",
   "execution_count": null,
   "metadata": {
    "colab": {},
    "colab_type": "code",
    "id": "0uyZMD3wByFd",
    "outputId": "57249fbf-5a5b-49e7-8354-9a730e442cbf"
   },
   "outputs": [
    {
     "data": {
      "text/plain": [
       "array([33, 29, 57, 68, 44, 74, 79, 26, 43,  9])"
      ]
     },
     "execution_count": 3,
     "metadata": {
      "tags": []
     },
     "output_type": "execute_result"
    }
   ],
   "source": [
    "populasyon[:10] # ilk 10 kisinin yasi"
   ]
  },
  {
   "cell_type": "markdown",
   "metadata": {
    "colab_type": "text",
    "id": "J9WkUOZPByFh"
   },
   "source": [
    "#### Örneklem Çekimi"
   ]
  },
  {
   "cell_type": "markdown",
   "metadata": {
    "colab_type": "text",
    "id": "JCbfz-R3ByFi"
   },
   "source": [
    "Öncelikle **seed** ayarı yapmamız lazım.  \n",
    "**seed** ayarı ne demek?  \n",
    "Yapılacak olan işlemlerin her tekrar edildiğinde aynı sonuçların getirilmesini  \n",
    "garanti altına alan bir işlem.  \n",
    "random.seed()'i eklemezsek, fonksiyonu her çalıştırdığımda farklı örneklemler çekmiş olacak."
   ]
  },
  {
   "cell_type": "code",
   "execution_count": null,
   "metadata": {
    "colab": {},
    "colab_type": "code",
    "id": "874A5ksLByFi",
    "outputId": "e5992b8f-35ea-434e-9ca9-73ca3c323169"
   },
   "outputs": [
    {
     "data": {
      "text/plain": [
       "array([65,  0, 60, 11, 16, 35, 16, 26, 15,  6, 36, 32, 20, 63, 43, 12, 36,\n",
       "       60, 33, 28, 79, 53, 28, 12, 29, 19, 27, 14, 45, 72, 73,  9, 64, 70,\n",
       "       64, 24, 53,  2, 20, 44, 20,  2, 22, 60, 22, 34, 66, 12, 40, 22,  1,\n",
       "       51, 53, 73, 24, 56, 66, 47, 38, 11, 34,  4, 14, 14, 11, 40, 74, 60,\n",
       "       54, 32, 52, 20, 23, 48, 25, 73, 37, 25, 32, 17,  5,  0, 37, 25, 13,\n",
       "       27,  4, 74, 63, 33,  4, 62,  0,  1, 19,  1,  6, 59, 50, 67])"
      ]
     },
     "execution_count": 4,
     "metadata": {
      "tags": []
     },
     "output_type": "execute_result"
    }
   ],
   "source": [
    "np.random.seed(115) #herhangi bir sayi verebilirsiniz.\n",
    "\n",
    "orneklem = np.random.choice(a = populasyon, size=100)\n",
    "#populasyon icerisinden 100 tane ornek cekme islemi.\n",
    "\n",
    "orneklem"
   ]
  },
  {
   "cell_type": "markdown",
   "metadata": {
    "colab_type": "text",
    "id": "MxqQVP7LByFl"
   },
   "source": [
    "Ana kitlemiz olan populasyon'da 10.000 gözlem vardı.  \n",
    "Rastgele 100 gözlem çekerek örneklem oluşturduk."
   ]
  },
  {
   "cell_type": "code",
   "execution_count": null,
   "metadata": {
    "colab": {},
    "colab_type": "code",
    "id": "iZIOoK2BByFl",
    "outputId": "2a9452f9-9963-4aa3-ba93-9fc089421e42"
   },
   "outputs": [
    {
     "data": {
      "text/plain": [
       "33.73"
      ]
     },
     "execution_count": 5,
     "metadata": {
      "tags": []
     },
     "output_type": "execute_result"
    }
   ],
   "source": [
    "orneklem.mean()"
   ]
  },
  {
   "cell_type": "code",
   "execution_count": null,
   "metadata": {
    "colab": {},
    "colab_type": "code",
    "id": "CYNQPB3-ByFo",
    "outputId": "2178ae02-ac4d-49af-c5f9-b7dccf3d07b6"
   },
   "outputs": [
    {
     "data": {
      "text/plain": [
       "39.2186"
      ]
     },
     "execution_count": 6,
     "metadata": {
      "tags": []
     },
     "output_type": "execute_result"
    }
   ],
   "source": [
    "populasyon.mean()"
   ]
  },
  {
   "cell_type": "markdown",
   "metadata": {
    "colab_type": "text",
    "id": "LYdtDP39ByFr"
   },
   "source": [
    "Örneklemin gücü burada çok açık bir şekilde dikkatimizi çekiyor."
   ]
  },
  {
   "cell_type": "markdown",
   "metadata": {
    "colab_type": "text",
    "id": "4vB4k24UByFs"
   },
   "source": [
    "#### Örneklem Dağılımı"
   ]
  },
  {
   "cell_type": "code",
   "execution_count": null,
   "metadata": {
    "colab": {},
    "colab_type": "code",
    "id": "9OXWVOGnByFt"
   },
   "outputs": [],
   "source": [
    "np.random.seed(10)\n",
    "orneklem1 = np.random.choice(a = populasyon, size = 100)\n",
    "orneklem2 = np.random.choice(a = populasyon, size = 100)\n",
    "orneklem3 = np.random.choice(a = populasyon, size = 100)\n",
    "orneklem4 = np.random.choice(a = populasyon, size = 100)\n",
    "orneklem5 = np.random.choice(a = populasyon, size = 100)\n",
    "orneklem6 = np.random.choice(a = populasyon, size = 100)\n",
    "orneklem7 = np.random.choice(a = populasyon, size = 100)\n",
    "orneklem8 = np.random.choice(a = populasyon, size = 100)\n",
    "orneklem9 = np.random.choice(a = populasyon, size = 100)\n",
    "orneklem10 = np.random.choice(a = populasyon, size = 100)"
   ]
  },
  {
   "cell_type": "markdown",
   "metadata": {
    "colab_type": "text",
    "id": "-EVgvhXOByFv"
   },
   "source": [
    "Birbirinden farklı 10 tane örneklem çekmiş olduk."
   ]
  },
  {
   "cell_type": "markdown",
   "metadata": {
    "colab_type": "text",
    "id": "Mc_F29tUByFv"
   },
   "source": [
    "Örneklemlerin ortalamalarının, ortalamasını alıyoruz."
   ]
  },
  {
   "cell_type": "code",
   "execution_count": null,
   "metadata": {
    "colab": {},
    "colab_type": "code",
    "id": "-cWpsrLYByFw",
    "outputId": "ed00629e-2318-4ef3-e6bd-89387bb6a8db"
   },
   "outputs": [
    {
     "data": {
      "text/plain": [
       "38.422"
      ]
     },
     "execution_count": 16,
     "metadata": {
      "tags": []
     },
     "output_type": "execute_result"
    }
   ],
   "source": [
    "(orneklem1.mean() + orneklem2.mean() + orneklem3.mean() + orneklem4.mean() + orneklem5.mean() \n",
    "+ orneklem6.mean() + orneklem7.mean() + orneklem8.mean() + orneklem9.mean() + orneklem10.mean() )  / 10"
   ]
  },
  {
   "cell_type": "markdown",
   "metadata": {
    "colab_type": "text",
    "id": "OOirv4THByFy"
   },
   "source": [
    "Normal şartlarda, daha fazla örneklem çekildiğinde, örneklemlerin ortalamasının ana kitle ortalamasına daha yakın olmasını bekleriz."
   ]
  },
  {
   "cell_type": "markdown",
   "metadata": {
    "colab_type": "text",
    "id": "8eBV1vaMByFy"
   },
   "source": [
    "Merkezi limit teoremi aracılığı ile ana kitle ortalamasına gitmiş oluyoruz."
   ]
  },
  {
   "cell_type": "markdown",
   "metadata": {
    "colab_type": "text",
    "id": "Z0CqOtd7ByFz"
   },
   "source": [
    "## Betimsel İstatistikler"
   ]
  },
  {
   "cell_type": "markdown",
   "metadata": {
    "colab_type": "text",
    "id": "8uvYvt59ByFz"
   },
   "source": [
    "Örneklerimizde Tips datasetini kullanacağız."
   ]
  },
  {
   "cell_type": "code",
   "execution_count": null,
   "metadata": {
    "colab": {},
    "colab_type": "code",
    "id": "dpMNli6UByFz",
    "outputId": "bdb98421-7b66-4a10-cdfe-7e81092da468"
   },
   "outputs": [
    {
     "data": {
      "text/html": [
       "<div>\n",
       "<style scoped>\n",
       "    .dataframe tbody tr th:only-of-type {\n",
       "        vertical-align: middle;\n",
       "    }\n",
       "\n",
       "    .dataframe tbody tr th {\n",
       "        vertical-align: top;\n",
       "    }\n",
       "\n",
       "    .dataframe thead th {\n",
       "        text-align: right;\n",
       "    }\n",
       "</style>\n",
       "<table border=\"1\" class=\"dataframe\">\n",
       "  <thead>\n",
       "    <tr style=\"text-align: right;\">\n",
       "      <th></th>\n",
       "      <th>total_bill</th>\n",
       "      <th>tip</th>\n",
       "      <th>sex</th>\n",
       "      <th>smoker</th>\n",
       "      <th>day</th>\n",
       "      <th>time</th>\n",
       "      <th>size</th>\n",
       "    </tr>\n",
       "  </thead>\n",
       "  <tbody>\n",
       "    <tr>\n",
       "      <th>0</th>\n",
       "      <td>16.99</td>\n",
       "      <td>1.01</td>\n",
       "      <td>Female</td>\n",
       "      <td>No</td>\n",
       "      <td>Sun</td>\n",
       "      <td>Dinner</td>\n",
       "      <td>2</td>\n",
       "    </tr>\n",
       "    <tr>\n",
       "      <th>1</th>\n",
       "      <td>10.34</td>\n",
       "      <td>1.66</td>\n",
       "      <td>Male</td>\n",
       "      <td>No</td>\n",
       "      <td>Sun</td>\n",
       "      <td>Dinner</td>\n",
       "      <td>3</td>\n",
       "    </tr>\n",
       "    <tr>\n",
       "      <th>2</th>\n",
       "      <td>21.01</td>\n",
       "      <td>3.50</td>\n",
       "      <td>Male</td>\n",
       "      <td>No</td>\n",
       "      <td>Sun</td>\n",
       "      <td>Dinner</td>\n",
       "      <td>3</td>\n",
       "    </tr>\n",
       "    <tr>\n",
       "      <th>3</th>\n",
       "      <td>23.68</td>\n",
       "      <td>3.31</td>\n",
       "      <td>Male</td>\n",
       "      <td>No</td>\n",
       "      <td>Sun</td>\n",
       "      <td>Dinner</td>\n",
       "      <td>2</td>\n",
       "    </tr>\n",
       "    <tr>\n",
       "      <th>4</th>\n",
       "      <td>24.59</td>\n",
       "      <td>3.61</td>\n",
       "      <td>Female</td>\n",
       "      <td>No</td>\n",
       "      <td>Sun</td>\n",
       "      <td>Dinner</td>\n",
       "      <td>4</td>\n",
       "    </tr>\n",
       "  </tbody>\n",
       "</table>\n",
       "</div>"
      ],
      "text/plain": [
       "   total_bill   tip     sex smoker  day    time  size\n",
       "0       16.99  1.01  Female     No  Sun  Dinner     2\n",
       "1       10.34  1.66    Male     No  Sun  Dinner     3\n",
       "2       21.01  3.50    Male     No  Sun  Dinner     3\n",
       "3       23.68  3.31    Male     No  Sun  Dinner     2\n",
       "4       24.59  3.61  Female     No  Sun  Dinner     4"
      ]
     },
     "execution_count": 1,
     "metadata": {
      "tags": []
     },
     "output_type": "execute_result"
    }
   ],
   "source": [
    "#tips datasetini kullanacagiz.\n",
    "import seaborn as sns\n",
    "tips = sns.load_dataset(\"tips\")\n",
    "df = tips.copy()\n",
    "df.head()"
   ]
  },
  {
   "cell_type": "code",
   "execution_count": null,
   "metadata": {
    "colab": {},
    "colab_type": "code",
    "id": "dyB63ZUsByF1",
    "outputId": "76c2eaba-1398-4d92-f32c-8093ce834f5a"
   },
   "outputs": [
    {
     "data": {
      "text/html": [
       "<div>\n",
       "<style scoped>\n",
       "    .dataframe tbody tr th:only-of-type {\n",
       "        vertical-align: middle;\n",
       "    }\n",
       "\n",
       "    .dataframe tbody tr th {\n",
       "        vertical-align: top;\n",
       "    }\n",
       "\n",
       "    .dataframe thead th {\n",
       "        text-align: right;\n",
       "    }\n",
       "</style>\n",
       "<table border=\"1\" class=\"dataframe\">\n",
       "  <thead>\n",
       "    <tr style=\"text-align: right;\">\n",
       "      <th></th>\n",
       "      <th>count</th>\n",
       "      <th>mean</th>\n",
       "      <th>std</th>\n",
       "      <th>min</th>\n",
       "      <th>25%</th>\n",
       "      <th>50%</th>\n",
       "      <th>75%</th>\n",
       "      <th>max</th>\n",
       "    </tr>\n",
       "  </thead>\n",
       "  <tbody>\n",
       "    <tr>\n",
       "      <th>total_bill</th>\n",
       "      <td>244.0</td>\n",
       "      <td>19.785943</td>\n",
       "      <td>8.902412</td>\n",
       "      <td>3.07</td>\n",
       "      <td>13.3475</td>\n",
       "      <td>17.795</td>\n",
       "      <td>24.1275</td>\n",
       "      <td>50.81</td>\n",
       "    </tr>\n",
       "    <tr>\n",
       "      <th>tip</th>\n",
       "      <td>244.0</td>\n",
       "      <td>2.998279</td>\n",
       "      <td>1.383638</td>\n",
       "      <td>1.00</td>\n",
       "      <td>2.0000</td>\n",
       "      <td>2.900</td>\n",
       "      <td>3.5625</td>\n",
       "      <td>10.00</td>\n",
       "    </tr>\n",
       "    <tr>\n",
       "      <th>size</th>\n",
       "      <td>244.0</td>\n",
       "      <td>2.569672</td>\n",
       "      <td>0.951100</td>\n",
       "      <td>1.00</td>\n",
       "      <td>2.0000</td>\n",
       "      <td>2.000</td>\n",
       "      <td>3.0000</td>\n",
       "      <td>6.00</td>\n",
       "    </tr>\n",
       "  </tbody>\n",
       "</table>\n",
       "</div>"
      ],
      "text/plain": [
       "            count       mean       std   min      25%     50%      75%    max\n",
       "total_bill  244.0  19.785943  8.902412  3.07  13.3475  17.795  24.1275  50.81\n",
       "tip         244.0   2.998279  1.383638  1.00   2.0000   2.900   3.5625  10.00\n",
       "size        244.0   2.569672  0.951100  1.00   2.0000   2.000   3.0000   6.00"
      ]
     },
     "execution_count": 4,
     "metadata": {
      "tags": []
     },
     "output_type": "execute_result"
    }
   ],
   "source": [
    "df.describe().T"
   ]
  },
  {
   "cell_type": "code",
   "execution_count": null,
   "metadata": {
    "colab": {},
    "colab_type": "code",
    "id": "cAk25Z2VByF4"
   },
   "outputs": [],
   "source": [
    "#yeni bir kütüphane kullanacağız.\n",
    "import researchpy as rp"
   ]
  },
  {
   "cell_type": "markdown",
   "metadata": {
    "colab_type": "text",
    "id": "DbEJ1630ByF6"
   },
   "source": [
    "Yukarıda yapmış olduğumuz işlemi bir de benzer şekilde _researchpy_ kütüphanesi ile yapalım.  \n",
    "_summary_cont_ işlevi ile sayısal değişkenleri seçeceğiz."
   ]
  },
  {
   "cell_type": "code",
   "execution_count": null,
   "metadata": {
    "colab": {},
    "colab_type": "code",
    "id": "sh92FDifByF6",
    "outputId": "f9d0d6a3-fe42-40cb-afea-b0db8c56b877"
   },
   "outputs": [
    {
     "name": "stdout",
     "output_type": "stream",
     "text": [
      "\n",
      "\n"
     ]
    },
    {
     "data": {
      "text/html": [
       "<div>\n",
       "<style scoped>\n",
       "    .dataframe tbody tr th:only-of-type {\n",
       "        vertical-align: middle;\n",
       "    }\n",
       "\n",
       "    .dataframe tbody tr th {\n",
       "        vertical-align: top;\n",
       "    }\n",
       "\n",
       "    .dataframe thead th {\n",
       "        text-align: right;\n",
       "    }\n",
       "</style>\n",
       "<table border=\"1\" class=\"dataframe\">\n",
       "  <thead>\n",
       "    <tr style=\"text-align: right;\">\n",
       "      <th></th>\n",
       "      <th>Variable</th>\n",
       "      <th>N</th>\n",
       "      <th>Mean</th>\n",
       "      <th>SD</th>\n",
       "      <th>SE</th>\n",
       "      <th>95% Conf.</th>\n",
       "      <th>Interval</th>\n",
       "    </tr>\n",
       "  </thead>\n",
       "  <tbody>\n",
       "    <tr>\n",
       "      <th>0</th>\n",
       "      <td>total_bill</td>\n",
       "      <td>244.0</td>\n",
       "      <td>19.7859</td>\n",
       "      <td>8.9024</td>\n",
       "      <td>0.5699</td>\n",
       "      <td>18.6633</td>\n",
       "      <td>20.9086</td>\n",
       "    </tr>\n",
       "    <tr>\n",
       "      <th>1</th>\n",
       "      <td>tip</td>\n",
       "      <td>244.0</td>\n",
       "      <td>2.9983</td>\n",
       "      <td>1.3836</td>\n",
       "      <td>0.0886</td>\n",
       "      <td>2.8238</td>\n",
       "      <td>3.1728</td>\n",
       "    </tr>\n",
       "    <tr>\n",
       "      <th>2</th>\n",
       "      <td>size</td>\n",
       "      <td>244.0</td>\n",
       "      <td>2.5697</td>\n",
       "      <td>0.9511</td>\n",
       "      <td>0.0609</td>\n",
       "      <td>2.4497</td>\n",
       "      <td>2.6896</td>\n",
       "    </tr>\n",
       "  </tbody>\n",
       "</table>\n",
       "</div>"
      ],
      "text/plain": [
       "     Variable      N     Mean      SD      SE  95% Conf.  Interval\n",
       "0  total_bill  244.0  19.7859  8.9024  0.5699    18.6633   20.9086\n",
       "1         tip  244.0   2.9983  1.3836  0.0886     2.8238    3.1728\n",
       "2        size  244.0   2.5697  0.9511  0.0609     2.4497    2.6896"
      ]
     },
     "execution_count": 7,
     "metadata": {
      "tags": []
     },
     "output_type": "execute_result"
    }
   ],
   "source": [
    "rp.summary_cont(df[[\"total_bill\", \"tip\", \"size\"]])"
   ]
  },
  {
   "cell_type": "markdown",
   "metadata": {
    "colab_type": "text",
    "id": "bYEcWsYJByF8"
   },
   "source": [
    "describe() ile benzer olsa da bizim için belki daha anlamlı olabilecek bazı değerler verdi.  \n",
    "**N**: Gözlem sayıları  \n",
    "**Mean**: Ortalama  \n",
    "**SD**: Standart Sapma  \n",
    "**95% Conf. Interval** Güven Aralıkları"
   ]
  },
  {
   "cell_type": "markdown",
   "metadata": {
    "colab_type": "text",
    "id": "c9247aVFByF9"
   },
   "source": [
    "Bir de bu işlemi categoric değişkenler için inceleyelim."
   ]
  },
  {
   "cell_type": "code",
   "execution_count": null,
   "metadata": {
    "colab": {},
    "colab_type": "code",
    "id": "DpyHxrw9ByF-",
    "outputId": "79161e5d-3f48-433a-e3ff-06b571300fed"
   },
   "outputs": [
    {
     "data": {
      "text/html": [
       "<div>\n",
       "<style scoped>\n",
       "    .dataframe tbody tr th:only-of-type {\n",
       "        vertical-align: middle;\n",
       "    }\n",
       "\n",
       "    .dataframe tbody tr th {\n",
       "        vertical-align: top;\n",
       "    }\n",
       "\n",
       "    .dataframe thead th {\n",
       "        text-align: right;\n",
       "    }\n",
       "</style>\n",
       "<table border=\"1\" class=\"dataframe\">\n",
       "  <thead>\n",
       "    <tr style=\"text-align: right;\">\n",
       "      <th></th>\n",
       "      <th>0</th>\n",
       "      <th>1</th>\n",
       "      <th>2</th>\n",
       "      <th>3</th>\n",
       "      <th>4</th>\n",
       "      <th>5</th>\n",
       "      <th>6</th>\n",
       "      <th>7</th>\n",
       "    </tr>\n",
       "  </thead>\n",
       "  <tbody>\n",
       "    <tr>\n",
       "      <th>Variable</th>\n",
       "      <td>sex</td>\n",
       "      <td></td>\n",
       "      <td>smoker</td>\n",
       "      <td></td>\n",
       "      <td>day</td>\n",
       "      <td></td>\n",
       "      <td></td>\n",
       "      <td></td>\n",
       "    </tr>\n",
       "    <tr>\n",
       "      <th>Outcome</th>\n",
       "      <td>Male</td>\n",
       "      <td>Female</td>\n",
       "      <td>No</td>\n",
       "      <td>Yes</td>\n",
       "      <td>Sat</td>\n",
       "      <td>Sun</td>\n",
       "      <td>Thur</td>\n",
       "      <td>Fri</td>\n",
       "    </tr>\n",
       "    <tr>\n",
       "      <th>Count</th>\n",
       "      <td>157</td>\n",
       "      <td>87</td>\n",
       "      <td>151</td>\n",
       "      <td>93</td>\n",
       "      <td>87</td>\n",
       "      <td>76</td>\n",
       "      <td>62</td>\n",
       "      <td>19</td>\n",
       "    </tr>\n",
       "    <tr>\n",
       "      <th>Percent</th>\n",
       "      <td>64.34</td>\n",
       "      <td>35.66</td>\n",
       "      <td>61.89</td>\n",
       "      <td>38.11</td>\n",
       "      <td>35.66</td>\n",
       "      <td>31.15</td>\n",
       "      <td>25.41</td>\n",
       "      <td>7.79</td>\n",
       "    </tr>\n",
       "  </tbody>\n",
       "</table>\n",
       "</div>"
      ],
      "text/plain": [
       "              0       1       2      3      4      5      6     7\n",
       "Variable    sex          smoker           day                    \n",
       "Outcome    Male  Female      No    Yes    Sat    Sun   Thur   Fri\n",
       "Count       157      87     151     93     87     76     62    19\n",
       "Percent   64.34   35.66   61.89  38.11  35.66  31.15  25.41  7.79"
      ]
     },
     "execution_count": 11,
     "metadata": {
      "tags": []
     },
     "output_type": "execute_result"
    }
   ],
   "source": [
    "rp.summary_cat(df[[\"sex\", \"smoker\", \"day\"]]).T"
   ]
  },
  {
   "cell_type": "markdown",
   "metadata": {
    "colab_type": "text",
    "id": "5CvbNhdVByGA"
   },
   "source": [
    "Veri okuryazarlığından biraz daha farklı olarak betimsel istatistikleri farklı bir kütüphane ile ele almış olduk.  \n",
    "Bu bölümün asıl farklılaştığı nokta olan **kovaryans** ve **korelasyon**'u da hızlıca bir ele alalım."
   ]
  },
  {
   "cell_type": "markdown",
   "metadata": {
    "colab_type": "text",
    "id": "G6NC2wSpByGB"
   },
   "source": [
    "**Kovaryans**: Değişkenlerin ilişkilerine ilişkin bir değişkenlik ölçüsü."
   ]
  },
  {
   "cell_type": "markdown",
   "metadata": {
    "colab_type": "text",
    "id": "ewFqSW_PByGB"
   },
   "source": [
    "**cov()** ile kovaryans hesaplaması yapabiliriz."
   ]
  },
  {
   "cell_type": "code",
   "execution_count": null,
   "metadata": {
    "colab": {},
    "colab_type": "code",
    "id": "NTsWmxplByGB",
    "outputId": "89c43125-5ee9-4179-a222-ca4bff91f678"
   },
   "outputs": [
    {
     "data": {
      "text/html": [
       "<div>\n",
       "<style scoped>\n",
       "    .dataframe tbody tr th:only-of-type {\n",
       "        vertical-align: middle;\n",
       "    }\n",
       "\n",
       "    .dataframe tbody tr th {\n",
       "        vertical-align: top;\n",
       "    }\n",
       "\n",
       "    .dataframe thead th {\n",
       "        text-align: right;\n",
       "    }\n",
       "</style>\n",
       "<table border=\"1\" class=\"dataframe\">\n",
       "  <thead>\n",
       "    <tr style=\"text-align: right;\">\n",
       "      <th></th>\n",
       "      <th>tip</th>\n",
       "      <th>total_bill</th>\n",
       "    </tr>\n",
       "  </thead>\n",
       "  <tbody>\n",
       "    <tr>\n",
       "      <th>tip</th>\n",
       "      <td>1.914455</td>\n",
       "      <td>8.323502</td>\n",
       "    </tr>\n",
       "    <tr>\n",
       "      <th>total_bill</th>\n",
       "      <td>8.323502</td>\n",
       "      <td>79.252939</td>\n",
       "    </tr>\n",
       "  </tbody>\n",
       "</table>\n",
       "</div>"
      ],
      "text/plain": [
       "                 tip  total_bill\n",
       "tip         1.914455    8.323502\n",
       "total_bill  8.323502   79.252939"
      ]
     },
     "execution_count": 13,
     "metadata": {
      "tags": []
     },
     "output_type": "execute_result"
    }
   ],
   "source": [
    "df[[\"tip\", \"total_bill\"]].cov()"
   ]
  },
  {
   "cell_type": "markdown",
   "metadata": {
    "colab_type": "text",
    "id": "J6gSLWB6ByGE"
   },
   "source": [
    "**Korelasyon**: İki değişken arasındaki ilişki hakkında bilgi verici ölçü."
   ]
  },
  {
   "cell_type": "markdown",
   "metadata": {
    "colab_type": "text",
    "id": "JfK18jZLByGE"
   },
   "source": [
    "**corr()** ile korelasyon hesaplaması yapabiliriz."
   ]
  },
  {
   "cell_type": "code",
   "execution_count": null,
   "metadata": {
    "colab": {},
    "colab_type": "code",
    "id": "dtbp4cXLByGF",
    "outputId": "6a3e9b83-fa14-417d-e7fd-0a1bda231679"
   },
   "outputs": [
    {
     "data": {
      "text/html": [
       "<div>\n",
       "<style scoped>\n",
       "    .dataframe tbody tr th:only-of-type {\n",
       "        vertical-align: middle;\n",
       "    }\n",
       "\n",
       "    .dataframe tbody tr th {\n",
       "        vertical-align: top;\n",
       "    }\n",
       "\n",
       "    .dataframe thead th {\n",
       "        text-align: right;\n",
       "    }\n",
       "</style>\n",
       "<table border=\"1\" class=\"dataframe\">\n",
       "  <thead>\n",
       "    <tr style=\"text-align: right;\">\n",
       "      <th></th>\n",
       "      <th>tip</th>\n",
       "      <th>total_bill</th>\n",
       "    </tr>\n",
       "  </thead>\n",
       "  <tbody>\n",
       "    <tr>\n",
       "      <th>tip</th>\n",
       "      <td>1.000000</td>\n",
       "      <td>0.675734</td>\n",
       "    </tr>\n",
       "    <tr>\n",
       "      <th>total_bill</th>\n",
       "      <td>0.675734</td>\n",
       "      <td>1.000000</td>\n",
       "    </tr>\n",
       "  </tbody>\n",
       "</table>\n",
       "</div>"
      ],
      "text/plain": [
       "                 tip  total_bill\n",
       "tip         1.000000    0.675734\n",
       "total_bill  0.675734    1.000000"
      ]
     },
     "execution_count": 14,
     "metadata": {
      "tags": []
     },
     "output_type": "execute_result"
    }
   ],
   "source": [
    "df[[\"tip\", \"total_bill\"]].corr()"
   ]
  },
  {
   "cell_type": "markdown",
   "metadata": {
    "colab_type": "text",
    "id": "rys0S1TqByGJ"
   },
   "source": [
    "## İş Uygulaması: Fiyat Stratejisi Karar Destek Sistemi"
   ]
  },
  {
   "cell_type": "markdown",
   "metadata": {
    "colab_type": "text",
    "id": "ACroGImfByGK"
   },
   "source": [
    "Ürüne gelen fiyat teklifleri için veri toplandığını farzedelim.  \n",
    "Şimdilik bu verileri kendimiz oluşturacağız."
   ]
  },
  {
   "cell_type": "code",
   "execution_count": null,
   "metadata": {
    "colab": {},
    "colab_type": "code",
    "id": "PFvrYrDPByGK"
   },
   "outputs": [],
   "source": [
    "import numpy as np\n",
    "# 10 ve 110 TL araliginde 1000 adet teklif\n",
    "fiyatlar = np.random.randint(10, 110, 1000)"
   ]
  },
  {
   "cell_type": "code",
   "execution_count": null,
   "metadata": {
    "colab": {},
    "colab_type": "code",
    "id": "R7MIyry6ByGM",
    "outputId": "daa99a2b-cf9e-446a-9597-dfc4d4be4561"
   },
   "outputs": [
    {
     "data": {
      "text/plain": [
       "59.294"
      ]
     },
     "execution_count": 25,
     "metadata": {
      "tags": []
     },
     "output_type": "execute_result"
    }
   ],
   "source": [
    "fiyatlar.mean()\n",
    "#Ortalama ödenmesi göze alınan miktar"
   ]
  },
  {
   "cell_type": "markdown",
   "metadata": {
    "colab_type": "text",
    "id": "TiUqIboyByGP"
   },
   "source": [
    "Bunun etrafına bir güven aralığı koyarak çok daha zengin bir karar mekanizması oluşturmuş olacağız.  \n",
    "Şimdi bunun için yeni bir kütüphane import edeceğiz."
   ]
  },
  {
   "cell_type": "code",
   "execution_count": null,
   "metadata": {
    "colab": {},
    "colab_type": "code",
    "id": "YyeVKpD8ByGQ"
   },
   "outputs": [],
   "source": [
    "import statsmodels.stats.api as sms"
   ]
  },
  {
   "cell_type": "code",
   "execution_count": null,
   "metadata": {
    "colab": {},
    "colab_type": "code",
    "id": "6dc-hL6QByGS",
    "outputId": "ae23d4ca-8002-4354-b4ee-a9adaf1e90c6"
   },
   "outputs": [
    {
     "data": {
      "text/plain": [
       "(57.55186321697051, 61.036136783029484)"
      ]
     },
     "execution_count": 28,
     "metadata": {
      "tags": []
     },
     "output_type": "execute_result"
    }
   ],
   "source": [
    "sms.DescrStatsW(fiyatlar).tconfint_mean()"
   ]
  },
  {
   "cell_type": "markdown",
   "metadata": {
    "colab_type": "text",
    "id": "Kh9UMXEhByGT"
   },
   "source": [
    "Müşterilerin %95'i 57-61 TL aralığında bedel ödemeyi göze almıştır."
   ]
  },
  {
   "cell_type": "markdown",
   "metadata": {},
   "source": [
    "# Olasılık Dağılımları"
   ]
  },
  {
   "cell_type": "markdown",
   "metadata": {
    "colab": {},
    "colab_type": "code",
    "id": "SHN_WXHIByGU"
   },
   "source": [
    "## Bernoulli Dağılımı"
   ]
  },
  {
   "cell_type": "markdown",
   "metadata": {},
   "source": [
    "${\\displaystyle f(k;p)=p^{k}(1-p)^{1-k}\\quad {\\text{for }}k\\in \\{0,1\\}}$\n",
    "\n",
    "\n",
    "${\\displaystyle \\operatorname {E} \\left(X\\right)=p}$\n",
    "\n",
    "$\\operatorname {Var} [X]=pq=p(1-p)$"
   ]
  },
  {
   "cell_type": "markdown",
   "metadata": {},
   "source": [
    "Olasılık dağılımları ile ilgili işlemler için _scipy_ ismi verilen kütüphaneyi kullanıyoruz."
   ]
  },
  {
   "cell_type": "code",
   "execution_count": 1,
   "metadata": {},
   "outputs": [],
   "source": [
    "from scipy.stats import bernoulli"
   ]
  },
  {
   "cell_type": "code",
   "execution_count": 2,
   "metadata": {},
   "outputs": [],
   "source": [
    "#p -> 2 sonuçlu bir olayı ifade ediyor. (Yazı Tura gibi)\n",
    "p = 0.6 #Tura gelme olasılığı"
   ]
  },
  {
   "cell_type": "code",
   "execution_count": 3,
   "metadata": {},
   "outputs": [],
   "source": [
    "rv = bernoulli(p)"
   ]
  },
  {
   "cell_type": "code",
   "execution_count": 4,
   "metadata": {},
   "outputs": [
    {
     "data": {
      "text/plain": [
       "0.6"
      ]
     },
     "execution_count": 4,
     "metadata": {},
     "output_type": "execute_result"
    }
   ],
   "source": [
    "rv.pmf(k = 1) #pmf -> probability mass function(olasılık kütle fonksiyonu)\n",
    "# k = 1 -> Tura gelme olasılığını hesaplar"
   ]
  },
  {
   "cell_type": "code",
   "execution_count": 5,
   "metadata": {},
   "outputs": [
    {
     "data": {
      "text/plain": [
       "0.4"
      ]
     },
     "execution_count": 5,
     "metadata": {},
     "output_type": "execute_result"
    }
   ],
   "source": [
    "rv.pmf(k = 0) #yazı gelme olasılığını hesaplar"
   ]
  },
  {
   "cell_type": "markdown",
   "metadata": {},
   "source": [
    "## Büyük Sayılar Yasası"
   ]
  },
  {
   "cell_type": "markdown",
   "metadata": {},
   "source": [
    "Bir rassal değişkenin uzun vadeli kararlılığını tanımlayan olasılık teoremidir."
   ]
  },
  {
   "cell_type": "markdown",
   "metadata": {},
   "source": [
    "Düşünelim ki bir para atıyoruz, yazı yada tura gelme olasılığı %50'dir.  \n",
    "Ancak 5 kez para attığımızı düşünelim 4 kez yazı 1 kez tura geldi.  \n",
    "Tura gelme olasılığı %20 çıktı."
   ]
  },
  {
   "cell_type": "markdown",
   "metadata": {},
   "source": [
    "Biz bu deneyi sürekli atış sayısını arttırarak yapsaydık görmüş olacaktık ki,  \n",
    "atış sayısı arttıkça oranlar %50'ye daha da yaklaşacaktı."
   ]
  },
  {
   "cell_type": "markdown",
   "metadata": {},
   "source": [
    "Şimdi biz bu durumu kendi yazdığımız küçük bir döngü aracılığıyla gözlemlemiş olacağız."
   ]
  },
  {
   "cell_type": "code",
   "execution_count": 15,
   "metadata": {},
   "outputs": [
    {
     "name": "stdout",
     "output_type": "stream",
     "text": [
      "Atış Sayısı: 2 --- Yazı Olasılığı: 50.00\n",
      "Atış Sayısı: 4 --- Yazı Olasılığı: 0.00\n",
      "Atış Sayısı: 8 --- Yazı Olasılığı: 62.50\n",
      "Atış Sayısı: 16 --- Yazı Olasılığı: 43.75\n",
      "Atış Sayısı: 32 --- Yazı Olasılığı: 46.88\n",
      "Atış Sayısı: 64 --- Yazı Olasılığı: 56.25\n",
      "Atış Sayısı: 128 --- Yazı Olasılığı: 50.78\n",
      "Atış Sayısı: 256 --- Yazı Olasılığı: 52.73\n",
      "Atış Sayısı: 512 --- Yazı Olasılığı: 52.93\n",
      "Atış Sayısı: 1024 --- Yazı Olasılığı: 50.20\n",
      "Atış Sayısı: 2048 --- Yazı Olasılığı: 48.58\n",
      "Atış Sayısı: 4096 --- Yazı Olasılığı: 49.49\n",
      "Atış Sayısı: 8192 --- Yazı Olasılığı: 49.58\n",
      "Atış Sayısı: 16384 --- Yazı Olasılığı: 49.96\n",
      "Atış Sayısı: 32768 --- Yazı Olasılığı: 50.00\n",
      "Atış Sayısı: 65536 --- Yazı Olasılığı: 49.68\n",
      "Atış Sayısı: 131072 --- Yazı Olasılığı: 49.97\n",
      "Atış Sayısı: 262144 --- Yazı Olasılığı: 50.13\n",
      "Atış Sayısı: 524288 --- Yazı Olasılığı: 50.01\n",
      "Atış Sayısı: 1048576 --- Yazı Olasılığı: 50.09\n"
     ]
    }
   ],
   "source": [
    "import numpy as np\n",
    "rng = np.random.RandomState(123) # Yapılacak işlemleri sabitlemek için random state kullandik.\n",
    "for i in np.arange(1,21): #1-20 arasinda gez\n",
    "    deney_sayisi = 2**i\n",
    "    yazi_turalar = rng.randint(0, 2, size=deney_sayisi)\n",
    "    yazi_olasiliklari = np.mean(yazi_turalar)\n",
    "    print(\"Atış Sayısı:\", deney_sayisi, \"---\", \"Yazı Olasılığı: %.2f\"%(yazi_olasiliklari*100))"
   ]
  },
  {
   "cell_type": "markdown",
   "metadata": {},
   "source": [
    "## Binom Dağılımı"
   ]
  },
  {
   "cell_type": "markdown",
   "metadata": {},
   "source": [
    "Binom dağılımı, bağımsız **n** deneme sonucu **k** başarılı olma olasılığı ile ilgilenildiğinde kullanılan dağılımdır."
   ]
  },
  {
   "cell_type": "markdown",
   "metadata": {},
   "source": [
    "${\\displaystyle f(k;n,p)={n \\choose k}p^{k}(1-p)^{n-k}}$, k = 0, 1, 2, ...,n\n",
    "\n",
    "\n",
    "${\\displaystyle \\operatorname {E} (X)=np}$\n",
    "\n",
    "\n",
    "${\\displaystyle \\operatorname {Var} (X)=np(1-p)}$"
   ]
  },
  {
   "cell_type": "markdown",
   "metadata": {},
   "source": [
    "## İş Uygulaması: Reklam Harcaması Optimizasyonu"
   ]
  },
  {
   "cell_type": "code",
   "execution_count": 16,
   "metadata": {},
   "outputs": [],
   "source": [
    "from scipy.stats import binom"
   ]
  },
  {
   "cell_type": "code",
   "execution_count": 18,
   "metadata": {},
   "outputs": [
    {
     "name": "stdout",
     "output_type": "stream",
     "text": [
      "0.36972963764971983\n",
      "0.0028977871237616114\n",
      "7.006035693977161e-08\n"
     ]
    }
   ],
   "source": [
    "p = 0.01 #bildiğimiz olasılık değerimiz\n",
    "n = 100 #deneme sayısı\n",
    "rv = binom(n, p)\n",
    "print(rv.pmf(1)) #pmf=probability mass function. 1 kişinin tıklama olasılığı\n",
    "print(rv.pmf(5)) # 5 kişinin tıklama olasılığı\n",
    "print(rv.pmf(10)) # 10 kişinin tıklama olasılığı"
   ]
  },
  {
   "cell_type": "markdown",
   "metadata": {},
   "source": [
    "## Poison Dağılımı"
   ]
  },
  {
   "cell_type": "markdown",
   "metadata": {},
   "source": [
    "${\\displaystyle f(x,\\lambda )={\\frac {\\lambda ^{x}e^{-\\lambda }}{x!}}\\,\\!}$,  x = 0,1,2,...,n"
   ]
  },
  {
   "cell_type": "markdown",
   "metadata": {},
   "source": [
    "### İş Uygulaması: İlan Girişi Hata Olasılıklarının Hesaplanması"
   ]
  },
  {
   "cell_type": "markdown",
   "metadata": {},
   "source": [
    "<img src=\"https://i.ibb.co/SQYR7Dc/Screenshot-1.jpg\" alt=\"Screenshot-1\" border=\"0\">"
   ]
  },
  {
   "cell_type": "code",
   "execution_count": 1,
   "metadata": {},
   "outputs": [],
   "source": [
    "from scipy.stats import poisson"
   ]
  },
  {
   "cell_type": "code",
   "execution_count": 2,
   "metadata": {},
   "outputs": [],
   "source": [
    "lambda_ = 0.1 #ortalama hata sayısı"
   ]
  },
  {
   "cell_type": "code",
   "execution_count": 4,
   "metadata": {},
   "outputs": [
    {
     "name": "stdout",
     "output_type": "stream",
     "text": [
      "0.9048374180359595\n",
      "0.00015080623633932676\n",
      "7.54031181696634e-08\n"
     ]
    }
   ],
   "source": [
    "rv = poisson(mu = lambda_) #poisson fonksiyonunda mu parametresine lambda değerini veriyoruz.\n",
    "\n",
    "print(rv.pmf(k = 0)) #hiç hata olmaması olasılığı\n",
    "print(rv.pmf(k = 3)) #3 hata olması olasılığı\n",
    "print(rv.pmf(k = 5)) #5 hata olması olasılığı"
   ]
  },
  {
   "cell_type": "markdown",
   "metadata": {},
   "source": [
    "## Normal Dağılım"
   ]
  },
  {
   "cell_type": "markdown",
   "metadata": {},
   "source": [
    "${\\displaystyle f(x\\mid \\mu ,\\sigma ^{2})={\\frac {1}{\\sqrt {2\\pi \\sigma ^{2}}}}e^{-{\\frac {(x-\\mu )^{2}}{2\\sigma ^{2}}}}}$\n",
    "\n",
    "* $\\mu$  ortalama ya da dağılımın beklenen değeri\n",
    "\n",
    "* ${\\displaystyle \\sigma }$  standart sapma\n",
    "\n",
    "* ${\\displaystyle \\sigma ^{2}}$ varyans"
   ]
  },
  {
   "cell_type": "markdown",
   "metadata": {},
   "source": [
    "### İş Uygulaması: Ürün Satış Olasılıklarının Hesaplanması"
   ]
  },
  {
   "cell_type": "code",
   "execution_count": 1,
   "metadata": {},
   "outputs": [],
   "source": [
    "from scipy.stats import norm"
   ]
  },
  {
   "cell_type": "code",
   "execution_count": 2,
   "metadata": {},
   "outputs": [
    {
     "data": {
      "text/plain": [
       "0.02275013194817921"
      ]
     },
     "execution_count": 2,
     "metadata": {},
     "output_type": "execute_result"
    }
   ],
   "source": [
    "#90'dan fazla olması olasılığı\n",
    "1-norm.cdf(90, 80, 5)\n",
    "#cdf = kümülatif yoğunluk fonksiyonu\n",
    "#cdf(hedef, ortalama, std)"
   ]
  },
  {
   "cell_type": "code",
   "execution_count": 3,
   "metadata": {},
   "outputs": [
    {
     "data": {
      "text/plain": [
       "0.9772498680518208"
      ]
     },
     "execution_count": 3,
     "metadata": {},
     "output_type": "execute_result"
    }
   ],
   "source": [
    "#70'den fazla olması olasılığı\n",
    "1-norm.cdf(70,80,5)"
   ]
  },
  {
   "cell_type": "code",
   "execution_count": 4,
   "metadata": {},
   "outputs": [
    {
     "data": {
      "text/plain": [
       "0.08075665923377107"
      ]
     },
     "execution_count": 4,
     "metadata": {},
     "output_type": "execute_result"
    }
   ],
   "source": [
    "#73'den az olması\n",
    "norm.cdf(73,80,5)"
   ]
  },
  {
   "cell_type": "code",
   "execution_count": 6,
   "metadata": {},
   "outputs": [
    {
     "data": {
      "text/plain": [
       "0.13590512198327787"
      ]
     },
     "execution_count": 6,
     "metadata": {},
     "output_type": "execute_result"
    }
   ],
   "source": [
    "#85 ile 90 arasında olması olasılığı\n",
    "norm.cdf(90,80,5)-norm.cdf(85,80,5)"
   ]
  },
  {
   "cell_type": "markdown",
   "metadata": {},
   "source": [
    "# Tek Örneklem T Testi\n",
    "\n",
    "Örnek ortalamasına ilişkin test yapmak için kullanılır.\n",
    "\n",
    "**Hipotezler:**\n",
    "\n",
    "<d><i>H</i><sub>0</sub>: <i>μ</i> = <i>50</i></d>   \n",
    "<d><i>H</i><sub>1</sub>: <i>μ</i> ≠ <i>50</i></d><br><br>\n",
    "\n",
    "<d><i>H</i><sub>0</sub>: <i>μ</i> <= <i>50</i></d><br>\n",
    "<d><i>H</i><sub>1</sub>: <i>μ</i> > <i>50</i></d><br><br>\n",
    "\n",
    "<d><i>H</i><sub>0</sub>: <i>μ</i> >= <i>50</i></d><br>\n",
    "<d><i>H</i><sub>1</sub>: <i>μ</i> < <i>50</i></d><br><br>\n",
    "\n",
    "\n",
    "\n",
    "\n",
    "<table></table>\n",
    "\n",
    "**Test İstatistiği:**\n",
    "\n",
    "${\\displaystyle t={\\frac {{\\bar {x}}-\\mu _{0}}{\\frac {s}{\\sqrt {n}}}}}$\n"
   ]
  },
  {
   "cell_type": "markdown",
   "metadata": {},
   "source": [
    "### İş Uygulaması: Web Sitesinde Geçirilen Sürenin Testi"
   ]
  },
  {
   "cell_type": "code",
   "execution_count": 2,
   "metadata": {},
   "outputs": [],
   "source": [
    "import numpy as np\n",
    "\n",
    "olcumler = np.array([17, 160, 234, 149, 145, 107, 197, 75, 201, 225, 211, 119, \n",
    "              157, 145, 127, 244, 163, 114, 145,  65, 112, 185, 202, 146,\n",
    "              203, 224, 203, 114, 188, 156, 187, 154, 177, 95, 165, 50, 110, \n",
    "              216, 138, 151, 166, 135, 155, 84, 251, 173, 131, 207, 121, 120])"
   ]
  },
  {
   "cell_type": "code",
   "execution_count": 2,
   "metadata": {},
   "outputs": [
    {
     "data": {
      "text/plain": [
       "array([ 17, 160, 234, 149, 145, 107, 197,  75, 201, 225])"
      ]
     },
     "execution_count": 2,
     "metadata": {},
     "output_type": "execute_result"
    }
   ],
   "source": [
    "olcumler[0:10]"
   ]
  },
  {
   "cell_type": "code",
   "execution_count": 4,
   "metadata": {},
   "outputs": [],
   "source": [
    "import scipy.stats as stats"
   ]
  },
  {
   "cell_type": "code",
   "execution_count": 5,
   "metadata": {},
   "outputs": [
    {
     "data": {
      "text/plain": [
       "DescribeResult(nobs=50, minmax=(17, 251), mean=154.38, variance=2578.0363265306123, skewness=-0.32398897278694483, kurtosis=-0.05849823498415985)"
      ]
     },
     "execution_count": 5,
     "metadata": {},
     "output_type": "execute_result"
    }
   ],
   "source": [
    "stats.describe(olcumler)"
   ]
  },
  {
   "cell_type": "markdown",
   "metadata": {},
   "source": [
    "### Varsayımlarımız\n",
    "#### Normallik varsayımı"
   ]
  },
  {
   "cell_type": "code",
   "execution_count": 10,
   "metadata": {},
   "outputs": [
    {
     "data": {
      "image/png": "[encoded data removed]",
      "text/plain": [
       "<Figure size 432x288 with 1 Axes>"
      ]
     },
     "metadata": {
      "needs_background": "light"
     },
     "output_type": "display_data"
    }
   ],
   "source": [
    "#histogram\n",
    "import pandas as pd\n",
    "pd.DataFrame(olcumler).plot.hist();"
   ]
  },
  {
   "cell_type": "markdown",
   "metadata": {},
   "source": [
    "**qqplot**"
   ]
  },
  {
   "cell_type": "code",
   "execution_count": 11,
   "metadata": {},
   "outputs": [
    {
     "data": {
      "image/png": "[encoded data removed]",
      "text/plain": [
       "<Figure size 432x288 with 1 Axes>"
      ]
     },
     "metadata": {
      "needs_background": "light"
     },
     "output_type": "display_data"
    }
   ],
   "source": [
    "##qqplot\n",
    "import pylab\n",
    "stats.probplot(olcumler, dist=\"norm\", plot=pylab)\n",
    "pylab.show()"
   ]
  },
  {
   "cell_type": "markdown",
   "metadata": {},
   "source": [
    "**Shapiro-Wilks Testi**"
   ]
  },
  {
   "cell_type": "markdown",
   "metadata": {},
   "source": [
    "**H0:** Örnek dağılımı ile teorik normal dağılım arasında istatistiksel olarak anlamlı bir farklılık yoktur.  \n",
    "**H1:** Örnek dağılımı ile teorik normal dağılım arasında istatistiksel olarak anlamlı bir farklılık vardır."
   ]
  },
  {
   "cell_type": "code",
   "execution_count": 12,
   "metadata": {},
   "outputs": [],
   "source": [
    "from scipy.stats import shapiro"
   ]
  },
  {
   "cell_type": "code",
   "execution_count": 13,
   "metadata": {},
   "outputs": [
    {
     "data": {
      "text/plain": [
       "(0.9853105545043945, 0.7848747968673706)"
      ]
     },
     "execution_count": 13,
     "metadata": {},
     "output_type": "execute_result"
    }
   ],
   "source": [
    "shapiro(olcumler)"
   ]
  },
  {
   "cell_type": "markdown",
   "metadata": {},
   "source": [
    "Sol tarafta görmüş olduğumuz değer test istatistiğini ifade ediyor,  \n",
    "sağ tarafta görmüş olduğumuz değer ise p-value değerini ifade ediyor.\n",
    "\n",
    "p-value değerimiz 0.05(alpha)'dan büyük olduğundan **H0** hipotezi reddedilemez."
   ]
  },
  {
   "cell_type": "code",
   "execution_count": 15,
   "metadata": {},
   "outputs": [
    {
     "name": "stdout",
     "output_type": "stream",
     "text": [
      "T Hesap İstatistiği: 0.9853105545043945\n",
      "Hesaplanan p-value: 0.7848747968673706\n"
     ]
    }
   ],
   "source": [
    "print(\"T Hesap İstatistiği: \"+str(shapiro(olcumler)[0]))\n",
    "print(\"Hesaplanan p-value: \"+str(shapiro(olcumler)[1]))"
   ]
  },
  {
   "cell_type": "markdown",
   "metadata": {},
   "source": [
    "#### **Tek Örneklem T Testi Uygulaması**"
   ]
  },
  {
   "cell_type": "code",
   "execution_count": 16,
   "metadata": {},
   "outputs": [
    {
     "data": {
      "text/plain": [
       "Ttest_1sampResult(statistic=-2.1753117985877966, pvalue=0.034460415195071446)"
      ]
     },
     "execution_count": 16,
     "metadata": {},
     "output_type": "execute_result"
    }
   ],
   "source": [
    "#populasyon ortalamamiz gercekten 170 mi?\n",
    "stats.ttest_1samp(olcumler, popmean=170)"
   ]
  },
  {
   "cell_type": "markdown",
   "metadata": {},
   "source": [
    "**H0**: Web sitemizde geçirilen ortalama süre 170 saniyedir.  \n",
    "**H1**: Web sitemizde geçirilen ortalama süre 170 saniye değildir.\n",
    "\n",
    "**pvalue** değerimiz de 0.03 yani 0.05'den küçük olduğundan **H0** hipotezi reddedilir.  \n"
   ]
  },
  {
   "cell_type": "markdown",
   "metadata": {},
   "source": [
    "### **Nonparametrik Tek Örneklem Testi**"
   ]
  },
  {
   "cell_type": "code",
   "execution_count": 1,
   "metadata": {},
   "outputs": [],
   "source": [
    "from statsmodels.stats.descriptivestats import sign_test"
   ]
  },
  {
   "cell_type": "code",
   "execution_count": 3,
   "metadata": {},
   "outputs": [
    {
     "data": {
      "text/plain": [
       "(-7.0, 0.06490864707227219)"
      ]
     },
     "execution_count": 3,
     "metadata": {},
     "output_type": "execute_result"
    }
   ],
   "source": [
    "sign_test(olcumler, 170)"
   ]
  },
  {
   "cell_type": "markdown",
   "metadata": {},
   "source": [
    "### **Tek Örneklem Oran Testi**"
   ]
  },
  {
   "cell_type": "markdown",
   "metadata": {},
   "source": [
    "Oransal bir ifade test edilmek istenildiğinde kullanılır.  \n"
   ]
  },
  {
   "cell_type": "markdown",
   "metadata": {},
   "source": [
    "#### **İş Uygulaması: Dönüşüm Oranı Testi**"
   ]
  },
  {
   "cell_type": "markdown",
   "metadata": {},
   "source": [
    "HO: p = 0.125 \n",
    "\n",
    "H1: p != 0.125"
   ]
  },
  {
   "cell_type": "code",
   "execution_count": 5,
   "metadata": {},
   "outputs": [],
   "source": [
    "from statsmodels.stats.proportion import proportions_ztest"
   ]
  },
  {
   "cell_type": "code",
   "execution_count": 6,
   "metadata": {},
   "outputs": [],
   "source": [
    "count = 40 #başarı sayısı\n",
    "nobs = 500 #gözlem sayısı\n",
    "value = 0.125 #test etmek istediğimiz oran"
   ]
  },
  {
   "cell_type": "code",
   "execution_count": 7,
   "metadata": {},
   "outputs": [
    {
     "data": {
      "text/plain": [
       "(-3.7090151628513017, 0.0002080669689845979)"
      ]
     },
     "execution_count": 7,
     "metadata": {},
     "output_type": "execute_result"
    }
   ],
   "source": [
    "proportions_ztest(count, nobs, value)"
   ]
  },
  {
   "cell_type": "markdown",
   "metadata": {},
   "source": [
    "Burada p-value değerimiz (0.0002) < 0.05 olduğundan H0 hipotezimizi reddediyoruz.  \n",
    "%95 güven ile 0.125 değerinin yanlış olduğunu söyleyebiliriz."
   ]
  },
  {
   "cell_type": "markdown",
   "metadata": {},
   "source": [
    "## **Bağımsız İki Örneklem T Testi (AB Testi)**"
   ]
  },
  {
   "cell_type": "markdown",
   "metadata": {},
   "source": [
    "#### **İş Uygulaması: ML Modelinin Başarı Testi**"
   ]
  },
  {
   "cell_type": "markdown",
   "metadata": {},
   "source": [
    "H0: M1 = M2 \n",
    "\n",
    "H1: M1 != M2"
   ]
  },
  {
   "cell_type": "markdown",
   "metadata": {},
   "source": [
    "**Veri Tipi 1**"
   ]
  },
  {
   "cell_type": "code",
   "execution_count": 5,
   "metadata": {},
   "outputs": [
    {
     "data": {
      "text/html": [
       "<div>\n",
       "<style scoped>\n",
       "    .dataframe tbody tr th:only-of-type {\n",
       "        vertical-align: middle;\n",
       "    }\n",
       "\n",
       "    .dataframe tbody tr th {\n",
       "        vertical-align: top;\n",
       "    }\n",
       "\n",
       "    .dataframe thead th {\n",
       "        text-align: right;\n",
       "    }\n",
       "</style>\n",
       "<table border=\"1\" class=\"dataframe\">\n",
       "  <thead>\n",
       "    <tr style=\"text-align: right;\">\n",
       "      <th></th>\n",
       "      <th>A</th>\n",
       "      <th>B</th>\n",
       "    </tr>\n",
       "  </thead>\n",
       "  <tbody>\n",
       "    <tr>\n",
       "      <th>0</th>\n",
       "      <td>30</td>\n",
       "      <td>37</td>\n",
       "    </tr>\n",
       "    <tr>\n",
       "      <th>1</th>\n",
       "      <td>27</td>\n",
       "      <td>39</td>\n",
       "    </tr>\n",
       "    <tr>\n",
       "      <th>2</th>\n",
       "      <td>21</td>\n",
       "      <td>31</td>\n",
       "    </tr>\n",
       "    <tr>\n",
       "      <th>3</th>\n",
       "      <td>27</td>\n",
       "      <td>31</td>\n",
       "    </tr>\n",
       "    <tr>\n",
       "      <th>4</th>\n",
       "      <td>29</td>\n",
       "      <td>34</td>\n",
       "    </tr>\n",
       "  </tbody>\n",
       "</table>\n",
       "</div>"
      ],
      "text/plain": [
       "    A   B\n",
       "0  30  37\n",
       "1  27  39\n",
       "2  21  31\n",
       "3  27  31\n",
       "4  29  34"
      ]
     },
     "execution_count": 5,
     "metadata": {},
     "output_type": "execute_result"
    }
   ],
   "source": [
    "import pandas as pd\n",
    "A = pd.DataFrame([30,27,21,27,29,30,20,20,27,32,35,22,24,23,25,27,23,27,23,\n",
    "        25,21,18,24,26,33,26,27,28,19,25])\n",
    "\n",
    "B = pd.DataFrame([37,39,31,31,34,38,30,36,29,28,38,28,37,37,30,32,31,31,27,\n",
    "        32,33,33,33,31,32,33,26,32,33,29])\n",
    "\n",
    "A_B = pd.concat([A, B], axis=1)\n",
    "A_B.columns = [\"A\", \"B\"]\n",
    "\n",
    "A_B.head()"
   ]
  },
  {
   "cell_type": "markdown",
   "metadata": {},
   "source": [
    "**Veri Tipi 2**"
   ]
  },
  {
   "cell_type": "code",
   "execution_count": 10,
   "metadata": {},
   "outputs": [
    {
     "name": "stdout",
     "output_type": "stream",
     "text": [
      "   gelir Grup\n",
      "0     30    A\n",
      "1     27    A\n",
      "2     21    A\n",
      "3     27    A\n",
      "4     29    A\n",
      "    gelir Grup\n",
      "25     33    B\n",
      "26     26    B\n",
      "27     32    B\n",
      "28     33    B\n",
      "29     29    B\n"
     ]
    }
   ],
   "source": [
    "import numpy as np\n",
    "A = pd.DataFrame([30,27,21,27,29,30,20,20,27,32,35,22,24,23,25,27,23,27,23,\n",
    "        25,21,18,24,26,33,26,27,28,19,25])\n",
    "\n",
    "B = pd.DataFrame([37,39,31,31,34,38,30,36,29,28,38,28,37,37,30,32,31,31,27,\n",
    "        32,33,33,33,31,32,33,26,32,33,29])\n",
    "\n",
    "#A ve A'nın grubu\n",
    "Grup_A = np.arange(len(A))\n",
    "Grup_A = pd.DataFrame(Grup_A)\n",
    "Grup_A[:] = \"A\"\n",
    "A = pd.concat([A, Grup_A], axis = 1)\n",
    "\n",
    "#B ve B'nin grubu\n",
    "Grup_B = np.arange(len(B))\n",
    "Grup_B = pd.DataFrame(Grup_B)\n",
    "Grup_B[:] = \"B\"\n",
    "B = pd.concat([B, Grup_B], axis = 1)\n",
    "\n",
    "#Tum veri\n",
    "AB = pd.concat([A,B])\n",
    "AB.columns = [\"gelir\", \"Grup\"]\n",
    "print(AB.head())\n",
    "print(AB.tail())"
   ]
  },
  {
   "cell_type": "code",
   "execution_count": 14,
   "metadata": {},
   "outputs": [
    {
     "data": {
      "text/plain": [
       "<matplotlib.axes._subplots.AxesSubplot at 0x161f1790888>"
      ]
     },
     "execution_count": 14,
     "metadata": {},
     "output_type": "execute_result"
    },
    {
     "data": {
      "image/png": "[encoded data removed]",
      "text/plain": [
       "<Figure size 432x288 with 1 Axes>"
      ]
     },
     "metadata": {
      "needs_background": "light"
     },
     "output_type": "display_data"
    }
   ],
   "source": [
    "import seaborn as sns\n",
    "sns.boxplot(x=\"Grup\", y=\"gelir\", data=AB)"
   ]
  },
  {
   "cell_type": "markdown",
   "metadata": {},
   "source": [
    "#### **Varsayım Kontrolü**"
   ]
  },
  {
   "cell_type": "code",
   "execution_count": 19,
   "metadata": {},
   "outputs": [
    {
     "data": {
      "text/html": [
       "<div>\n",
       "<style scoped>\n",
       "    .dataframe tbody tr th:only-of-type {\n",
       "        vertical-align: middle;\n",
       "    }\n",
       "\n",
       "    .dataframe tbody tr th {\n",
       "        vertical-align: top;\n",
       "    }\n",
       "\n",
       "    .dataframe thead th {\n",
       "        text-align: right;\n",
       "    }\n",
       "</style>\n",
       "<table border=\"1\" class=\"dataframe\">\n",
       "  <thead>\n",
       "    <tr style=\"text-align: right;\">\n",
       "      <th></th>\n",
       "      <th>A</th>\n",
       "      <th>B</th>\n",
       "    </tr>\n",
       "  </thead>\n",
       "  <tbody>\n",
       "    <tr>\n",
       "      <th>0</th>\n",
       "      <td>30</td>\n",
       "      <td>37</td>\n",
       "    </tr>\n",
       "    <tr>\n",
       "      <th>1</th>\n",
       "      <td>27</td>\n",
       "      <td>39</td>\n",
       "    </tr>\n",
       "    <tr>\n",
       "      <th>2</th>\n",
       "      <td>21</td>\n",
       "      <td>31</td>\n",
       "    </tr>\n",
       "    <tr>\n",
       "      <th>3</th>\n",
       "      <td>27</td>\n",
       "      <td>31</td>\n",
       "    </tr>\n",
       "    <tr>\n",
       "      <th>4</th>\n",
       "      <td>29</td>\n",
       "      <td>34</td>\n",
       "    </tr>\n",
       "  </tbody>\n",
       "</table>\n",
       "</div>"
      ],
      "text/plain": [
       "    A   B\n",
       "0  30  37\n",
       "1  27  39\n",
       "2  21  31\n",
       "3  27  31\n",
       "4  29  34"
      ]
     },
     "execution_count": 19,
     "metadata": {},
     "output_type": "execute_result"
    }
   ],
   "source": [
    "A_B.head()"
   ]
  },
  {
   "cell_type": "code",
   "execution_count": 21,
   "metadata": {},
   "outputs": [
    {
     "data": {
      "text/html": [
       "<div>\n",
       "<style scoped>\n",
       "    .dataframe tbody tr th:only-of-type {\n",
       "        vertical-align: middle;\n",
       "    }\n",
       "\n",
       "    .dataframe tbody tr th {\n",
       "        vertical-align: top;\n",
       "    }\n",
       "\n",
       "    .dataframe thead th {\n",
       "        text-align: right;\n",
       "    }\n",
       "</style>\n",
       "<table border=\"1\" class=\"dataframe\">\n",
       "  <thead>\n",
       "    <tr style=\"text-align: right;\">\n",
       "      <th></th>\n",
       "      <th>gelir</th>\n",
       "      <th>Grup</th>\n",
       "    </tr>\n",
       "  </thead>\n",
       "  <tbody>\n",
       "    <tr>\n",
       "      <th>0</th>\n",
       "      <td>30</td>\n",
       "      <td>A</td>\n",
       "    </tr>\n",
       "    <tr>\n",
       "      <th>1</th>\n",
       "      <td>27</td>\n",
       "      <td>A</td>\n",
       "    </tr>\n",
       "    <tr>\n",
       "      <th>2</th>\n",
       "      <td>21</td>\n",
       "      <td>A</td>\n",
       "    </tr>\n",
       "    <tr>\n",
       "      <th>3</th>\n",
       "      <td>27</td>\n",
       "      <td>A</td>\n",
       "    </tr>\n",
       "    <tr>\n",
       "      <th>4</th>\n",
       "      <td>29</td>\n",
       "      <td>A</td>\n",
       "    </tr>\n",
       "  </tbody>\n",
       "</table>\n",
       "</div>"
      ],
      "text/plain": [
       "   gelir Grup\n",
       "0     30    A\n",
       "1     27    A\n",
       "2     21    A\n",
       "3     27    A\n",
       "4     29    A"
      ]
     },
     "execution_count": 21,
     "metadata": {},
     "output_type": "execute_result"
    }
   ],
   "source": [
    "AB.head()"
   ]
  },
  {
   "cell_type": "markdown",
   "metadata": {},
   "source": [
    "**Normallik Varsayımı**"
   ]
  },
  {
   "cell_type": "code",
   "execution_count": 22,
   "metadata": {},
   "outputs": [],
   "source": [
    "from scipy.stats import shapiro"
   ]
  },
  {
   "cell_type": "code",
   "execution_count": 23,
   "metadata": {},
   "outputs": [
    {
     "data": {
      "text/plain": [
       "(0.9789242148399353, 0.7962799668312073)"
      ]
     },
     "execution_count": 23,
     "metadata": {},
     "output_type": "execute_result"
    }
   ],
   "source": [
    "shapiro(A_B.A)"
   ]
  },
  {
   "cell_type": "code",
   "execution_count": 24,
   "metadata": {},
   "outputs": [
    {
     "data": {
      "text/plain": [
       "(0.9561260342597961, 0.24584221839904785)"
      ]
     },
     "execution_count": 24,
     "metadata": {},
     "output_type": "execute_result"
    }
   ],
   "source": [
    "shapiro(A_B.B)"
   ]
  },
  {
   "cell_type": "markdown",
   "metadata": {},
   "source": [
    "**Varyans Homojenliği Varsayımı**"
   ]
  },
  {
   "cell_type": "markdown",
   "metadata": {},
   "source": [
    "**H0:** Varyanslar Homojendir  \n",
    "**H1:** Varyanslar Homojen Değildir"
   ]
  },
  {
   "cell_type": "code",
   "execution_count": 26,
   "metadata": {},
   "outputs": [
    {
     "data": {
      "text/plain": [
       "LeveneResult(statistic=1.1101802757158004, pvalue=0.2964124900636569)"
      ]
     },
     "execution_count": 26,
     "metadata": {},
     "output_type": "execute_result"
    }
   ],
   "source": [
    "from scipy import stats\n",
    "stats.levene(A_B.A, A_B.B)"
   ]
  },
  {
   "cell_type": "markdown",
   "metadata": {},
   "source": [
    "### **Bağımsız İki Örneklem T Testi Uygulama**"
   ]
  },
  {
   "cell_type": "markdown",
   "metadata": {},
   "source": [
    "**Hipotez Testi**"
   ]
  },
  {
   "cell_type": "code",
   "execution_count": 31,
   "metadata": {},
   "outputs": [
    {
     "data": {
      "text/plain": [
       "Ttest_indResult(statistic=-7.028690967745927, pvalue=2.6233215605475075e-09)"
      ]
     },
     "execution_count": 31,
     "metadata": {},
     "output_type": "execute_result"
    }
   ],
   "source": [
    "stats.ttest_ind(A_B[\"A\"], A_B[\"B\"], equal_var = True)"
   ]
  },
  {
   "cell_type": "code",
   "execution_count": 32,
   "metadata": {},
   "outputs": [
    {
     "name": "stdout",
     "output_type": "stream",
     "text": [
      "Test İstatistiği = -7.0287, p-değeri = 0.0000\n"
     ]
    }
   ],
   "source": [
    "test_istatistigi, pvalue = stats.ttest_ind(A_B[\"A\"], A_B[\"B\"], equal_var=True)\n",
    "print('Test İstatistiği = %.4f, p-değeri = %.4f' % (test_istatistigi, pvalue))"
   ]
  },
  {
   "cell_type": "markdown",
   "metadata": {},
   "source": [
    "## Nonparametrik Bağımsız İki Örneklem Testi"
   ]
  },
  {
   "cell_type": "code",
   "execution_count": 33,
   "metadata": {},
   "outputs": [
    {
     "data": {
      "text/plain": [
       "MannwhitneyuResult(statistic=89.5, pvalue=4.778975189306267e-08)"
      ]
     },
     "execution_count": 33,
     "metadata": {},
     "output_type": "execute_result"
    }
   ],
   "source": [
    "stats.mannwhitneyu(A_B[\"A\"], A_B[\"B\"])"
   ]
  },
  {
   "cell_type": "code",
   "execution_count": 34,
   "metadata": {},
   "outputs": [
    {
     "name": "stdout",
     "output_type": "stream",
     "text": [
      "Test İstatistiği = 89.5000, p-değeri = 0.0000\n"
     ]
    }
   ],
   "source": [
    "test_istatistigi, pvalue = stats.mannwhitneyu(A_B[\"A\"], A_B[\"B\"])\n",
    "print('Test İstatistiği = %.4f, p-değeri = %.4f' % (test_istatistigi, pvalue))"
   ]
  },
  {
   "cell_type": "markdown",
   "metadata": {},
   "source": [
    "# Bağımlı İki Örneklem T Testi"
   ]
  },
  {
   "cell_type": "markdown",
   "metadata": {},
   "source": [
    "**İş Uygulaması: Şirket İçi Eğitimin Performans Etkisi Ölçümü**"
   ]
  },
  {
   "cell_type": "code",
   "execution_count": 1,
   "metadata": {},
   "outputs": [],
   "source": [
    "oncesi = pd.DataFrame([123,119,119,116,123,123,121,120,117,118,121,121,123,119,\n",
    "            121,118,124,121,125,115,115,119,118,121,117,117,120,120,\n",
    "            121,117,118,117,123,118,124,121,115,118,125,115])\n",
    "\n",
    "sonrasi = pd.DataFrame([118,127,122,132,129,123,129,132,128,130,128,138,140,130,\n",
    "             134,134,124,140,134,129,129,138,134,124,122,126,133,127,\n",
    "             130,130,130,132,117,130,125,129,133,120,127,123])"
   ]
  },
  {
   "cell_type": "code",
   "execution_count": 2,
   "metadata": {},
   "outputs": [
    {
     "data": {
      "text/html": [
       "<div>\n",
       "<style scoped>\n",
       "    .dataframe tbody tr th:only-of-type {\n",
       "        vertical-align: middle;\n",
       "    }\n",
       "\n",
       "    .dataframe tbody tr th {\n",
       "        vertical-align: top;\n",
       "    }\n",
       "\n",
       "    .dataframe thead th {\n",
       "        text-align: right;\n",
       "    }\n",
       "</style>\n",
       "<table border=\"1\" class=\"dataframe\">\n",
       "  <thead>\n",
       "    <tr style=\"text-align: right;\">\n",
       "      <th></th>\n",
       "      <th>0</th>\n",
       "    </tr>\n",
       "  </thead>\n",
       "  <tbody>\n",
       "    <tr>\n",
       "      <th>0</th>\n",
       "      <td>123</td>\n",
       "    </tr>\n",
       "    <tr>\n",
       "      <th>1</th>\n",
       "      <td>119</td>\n",
       "    </tr>\n",
       "    <tr>\n",
       "      <th>2</th>\n",
       "      <td>119</td>\n",
       "    </tr>\n",
       "    <tr>\n",
       "      <th>3</th>\n",
       "      <td>116</td>\n",
       "    </tr>\n",
       "    <tr>\n",
       "      <th>4</th>\n",
       "      <td>123</td>\n",
       "    </tr>\n",
       "  </tbody>\n",
       "</table>\n",
       "</div>"
      ],
      "text/plain": [
       "     0\n",
       "0  123\n",
       "1  119\n",
       "2  119\n",
       "3  116\n",
       "4  123"
      ]
     },
     "execution_count": 2,
     "metadata": {},
     "output_type": "execute_result"
    }
   ],
   "source": [
    "oncesi[0:5]"
   ]
  },
  {
   "cell_type": "code",
   "execution_count": 3,
   "metadata": {},
   "outputs": [
    {
     "data": {
      "text/html": [
       "<div>\n",
       "<style scoped>\n",
       "    .dataframe tbody tr th:only-of-type {\n",
       "        vertical-align: middle;\n",
       "    }\n",
       "\n",
       "    .dataframe tbody tr th {\n",
       "        vertical-align: top;\n",
       "    }\n",
       "\n",
       "    .dataframe thead th {\n",
       "        text-align: right;\n",
       "    }\n",
       "</style>\n",
       "<table border=\"1\" class=\"dataframe\">\n",
       "  <thead>\n",
       "    <tr style=\"text-align: right;\">\n",
       "      <th></th>\n",
       "      <th>0</th>\n",
       "    </tr>\n",
       "  </thead>\n",
       "  <tbody>\n",
       "    <tr>\n",
       "      <th>0</th>\n",
       "      <td>118</td>\n",
       "    </tr>\n",
       "    <tr>\n",
       "      <th>1</th>\n",
       "      <td>127</td>\n",
       "    </tr>\n",
       "    <tr>\n",
       "      <th>2</th>\n",
       "      <td>122</td>\n",
       "    </tr>\n",
       "    <tr>\n",
       "      <th>3</th>\n",
       "      <td>132</td>\n",
       "    </tr>\n",
       "    <tr>\n",
       "      <th>4</th>\n",
       "      <td>129</td>\n",
       "    </tr>\n",
       "  </tbody>\n",
       "</table>\n",
       "</div>"
      ],
      "text/plain": [
       "     0\n",
       "0  118\n",
       "1  127\n",
       "2  122\n",
       "3  132\n",
       "4  129"
      ]
     },
     "execution_count": 3,
     "metadata": {},
     "output_type": "execute_result"
    }
   ],
   "source": [
    "sonrasi[0:5]"
   ]
  },
  {
   "cell_type": "code",
   "execution_count": 5,
   "metadata": {},
   "outputs": [
    {
     "data": {
      "text/plain": [
       "array([ 0,  1,  2,  3,  4,  5,  6,  7,  8,  9, 10, 11, 12, 13, 14, 15, 16,\n",
       "       17, 18, 19, 20, 21, 22, 23, 24, 25, 26, 27, 28, 29, 30, 31, 32, 33,\n",
       "       34, 35, 36, 37, 38, 39])"
      ]
     },
     "execution_count": 5,
     "metadata": {},
     "output_type": "execute_result"
    }
   ],
   "source": [
    " np.arange(len(oncesi))"
   ]
  },
  {
   "cell_type": "code",
   "execution_count": 4,
   "metadata": {},
   "outputs": [
    {
     "name": "stdout",
     "output_type": "stream",
     "text": [
      "'AYRIK' Veri Seti: \n",
      "\n",
      "     ONCESI  SONRASI\n",
      "0     123      118\n",
      "1     119      127\n",
      "2     119      122\n",
      "3     116      132\n",
      "4     123      129 \n",
      "\n",
      "\n",
      "'BIRLIKTE' Veri Seti: \n",
      "\n",
      "    PERFORMANS ONCESI_SONRASI\n",
      "0         123         ONCESI\n",
      "1         119         ONCESI\n",
      "2         119         ONCESI\n",
      "3         116         ONCESI\n",
      "4         123         ONCESI \n",
      "\n"
     ]
    }
   ],
   "source": [
    "#BIRINCI VERI SETI\n",
    "AYRIK = pd.concat([oncesi, sonrasi], axis = 1)\n",
    "AYRIK.columns = [\"ONCESI\",\"SONRASI\"]\n",
    "print(\"'AYRIK' Veri Seti: \\n\\n \", AYRIK.head(), \"\\n\\n\")\n",
    "\n",
    "\n",
    "#IKINCI VERI SETI\n",
    "#ONCESI FLAG/TAG'INI OLUSTURMA\n",
    "GRUP_ONCESI = np.arange(len(oncesi))\n",
    "GRUP_ONCESI = pd.DataFrame(GRUP_ONCESI)\n",
    "GRUP_ONCESI[:] = \"ONCESI\"\n",
    "#FLAG VE ONCESI DEGERLERINI BIR ARAYA GETIRME\n",
    "A = pd.concat([oncesi, GRUP_ONCESI], axis = 1)\n",
    "#SONRASI FLAG/TAG'INI OLUSTURMA\n",
    "GRUP_SONRASI = np.arange(len(sonrasi))\n",
    "GRUP_SONRASI = pd.DataFrame(GRUP_SONRASI)\n",
    "GRUP_SONRASI[:] = \"SONRASI\"\n",
    "\n",
    "#FLAG VE SONRASI DEGERLERINI BIR ARAYA GETIRME\n",
    "B = pd.concat([sonrasi, GRUP_SONRASI], axis = 1)\n",
    "\n",
    "#TUM VERIYI BIR ARAYA GETIRME\n",
    "BIRLIKTE = pd.concat([A,B])\n",
    "BIRLIKTE\n",
    "\n",
    "#ISIMLENDIRME\n",
    "BIRLIKTE.columns = [\"PERFORMANS\",\"ONCESI_SONRASI\"]\n",
    "print(\"'BIRLIKTE' Veri Seti: \\n\\n\", BIRLIKTE.head(), \"\\n\")"
   ]
  },
  {
   "cell_type": "code",
   "execution_count": 7,
   "metadata": {},
   "outputs": [
    {
     "data": {
      "image/png": "[encoded data removed]",
      "text/plain": [
       "<Figure size 432x288 with 1 Axes>"
      ]
     },
     "metadata": {
      "needs_background": "light"
     },
     "output_type": "display_data"
    }
   ],
   "source": [
    "import seaborn as sns\n",
    "sns.boxplot(x = \"ONCESI_SONRASI\", y = \"PERFORMANS\", data = BIRLIKTE);"
   ]
  },
  {
   "cell_type": "markdown",
   "metadata": {},
   "source": [
    "## Varsayım Kontrolleri "
   ]
  },
  {
   "cell_type": "code",
   "execution_count": 8,
   "metadata": {},
   "outputs": [],
   "source": [
    "from scipy.stats import shapiro"
   ]
  },
  {
   "cell_type": "code",
   "execution_count": 10,
   "metadata": {},
   "outputs": [
    {
     "data": {
      "text/plain": [
       "(0.9543654918670654, 0.10722342133522034)"
      ]
     },
     "execution_count": 10,
     "metadata": {},
     "output_type": "execute_result"
    }
   ],
   "source": [
    "shapiro(AYRIK.ONCESI)"
   ]
  },
  {
   "cell_type": "code",
   "execution_count": 11,
   "metadata": {},
   "outputs": [
    {
     "data": {
      "text/plain": [
       "(0.9780087471008301, 0.6159457564353943)"
      ]
     },
     "execution_count": 11,
     "metadata": {},
     "output_type": "execute_result"
    }
   ],
   "source": [
    "shapiro(AYRIK.SONRASI)"
   ]
  },
  {
   "cell_type": "code",
   "execution_count": 13,
   "metadata": {},
   "outputs": [
    {
     "data": {
      "text/plain": [
       "LeveneResult(statistic=8.31303288672351, pvalue=0.0050844511807370246)"
      ]
     },
     "execution_count": 13,
     "metadata": {},
     "output_type": "execute_result"
    }
   ],
   "source": [
    "import scipy.stats as stats\n",
    "stats.levene(AYRIK.ONCESI, AYRIK.SONRASI)"
   ]
  },
  {
   "cell_type": "markdown",
   "metadata": {},
   "source": [
    "## Hipotez Testi"
   ]
  },
  {
   "cell_type": "code",
   "execution_count": 14,
   "metadata": {},
   "outputs": [
    {
     "data": {
      "text/plain": [
       "Ttest_relResult(statistic=-9.281533480429937, pvalue=2.0235251764440722e-11)"
      ]
     },
     "execution_count": 14,
     "metadata": {},
     "output_type": "execute_result"
    }
   ],
   "source": [
    "stats.ttest_rel(AYRIK.ONCESI, AYRIK.SONRASI)"
   ]
  },
  {
   "cell_type": "code",
   "execution_count": 16,
   "metadata": {},
   "outputs": [
    {
     "name": "stdout",
     "output_type": "stream",
     "text": [
      "Test İstatistiği = -9.28153, p-değeri = 0.00000\n"
     ]
    }
   ],
   "source": [
    "test_istatistigi, pvalue = stats.ttest_rel(AYRIK[\"ONCESI\"], AYRIK[\"SONRASI\"])\n",
    "print('Test İstatistiği = %.5f, p-değeri = %.5f' % (test_istatistigi, pvalue))"
   ]
  },
  {
   "cell_type": "markdown",
   "metadata": {},
   "source": [
    "## Nonparametrik Bağımlı İki Örneklem Testi"
   ]
  },
  {
   "cell_type": "code",
   "execution_count": 17,
   "metadata": {},
   "outputs": [
    {
     "data": {
      "text/plain": [
       "WilcoxonResult(statistic=15.0, pvalue=2.491492033374464e-07)"
      ]
     },
     "execution_count": 17,
     "metadata": {},
     "output_type": "execute_result"
    }
   ],
   "source": [
    "stats.wilcoxon(AYRIK.ONCESI, AYRIK.SONRASI)"
   ]
  },
  {
   "cell_type": "code",
   "execution_count": 18,
   "metadata": {},
   "outputs": [
    {
     "name": "stdout",
     "output_type": "stream",
     "text": [
      "Test İstatistiği = 15.0000, p-değeri = 0.0000\n"
     ]
    }
   ],
   "source": [
    "test_istatistigi, pvalue = stats.wilcoxon(AYRIK[\"ONCESI\"], AYRIK[\"SONRASI\"])\n",
    "\n",
    "print('Test İstatistiği = %.4f, p-değeri = %.4f' % (test_istatistigi, pvalue))"
   ]
  },
  {
   "cell_type": "markdown",
   "metadata": {},
   "source": [
    "## İki Örneklem Oran Testi"
   ]
  },
  {
   "cell_type": "markdown",
   "metadata": {},
   "source": [
    "#### **İş Uygulaması: Kullanıcı Arayüz Deneyi (AB Testi)**"
   ]
  },
  {
   "cell_type": "code",
   "execution_count": 19,
   "metadata": {},
   "outputs": [],
   "source": [
    "from statsmodels.stats.proportion import proportions_ztest"
   ]
  },
  {
   "cell_type": "code",
   "execution_count": 20,
   "metadata": {},
   "outputs": [],
   "source": [
    "import numpy as np\n",
    "basari_sayisi = np.array([300, 250])\n",
    "gozlem_sayilari = np.array([1000, 1100])"
   ]
  },
  {
   "cell_type": "code",
   "execution_count": 22,
   "metadata": {},
   "outputs": [
    {
     "data": {
      "text/plain": [
       "(3.7857863233209255, 0.0001532232957772221)"
      ]
     },
     "execution_count": 22,
     "metadata": {},
     "output_type": "execute_result"
    }
   ],
   "source": [
    "proportions_ztest(count = basari_sayisi, nobs = gozlem_sayilari)"
   ]
  },
  {
   "cell_type": "markdown",
   "metadata": {},
   "source": [
    "# Varyans Analizi"
   ]
  },
  {
   "cell_type": "markdown",
   "metadata": {},
   "source": [
    "H0: M1 = M2 = M3 (grup ortalamalari arasinda ist anl. farklilik yoktur) \n",
    "\n",
    "H1: Fark vardir."
   ]
  },
  {
   "cell_type": "markdown",
   "metadata": {},
   "source": [
    "#### **İş Uygulaması: Anasayfa İçerik Stratejisi Belirleme**"
   ]
  },
  {
   "cell_type": "code",
   "execution_count": 24,
   "metadata": {},
   "outputs": [
    {
     "data": {
      "text/html": [
       "<div>\n",
       "<style scoped>\n",
       "    .dataframe tbody tr th:only-of-type {\n",
       "        vertical-align: middle;\n",
       "    }\n",
       "\n",
       "    .dataframe tbody tr th {\n",
       "        vertical-align: top;\n",
       "    }\n",
       "\n",
       "    .dataframe thead th {\n",
       "        text-align: right;\n",
       "    }\n",
       "</style>\n",
       "<table border=\"1\" class=\"dataframe\">\n",
       "  <thead>\n",
       "    <tr style=\"text-align: right;\">\n",
       "      <th></th>\n",
       "      <th>GRUP_A</th>\n",
       "      <th>GRUP_B</th>\n",
       "      <th>GRUP_C</th>\n",
       "    </tr>\n",
       "  </thead>\n",
       "  <tbody>\n",
       "    <tr>\n",
       "      <th>0</th>\n",
       "      <td>28</td>\n",
       "      <td>31</td>\n",
       "      <td>40</td>\n",
       "    </tr>\n",
       "    <tr>\n",
       "      <th>1</th>\n",
       "      <td>33</td>\n",
       "      <td>32</td>\n",
       "      <td>33</td>\n",
       "    </tr>\n",
       "    <tr>\n",
       "      <th>2</th>\n",
       "      <td>30</td>\n",
       "      <td>30</td>\n",
       "      <td>38</td>\n",
       "    </tr>\n",
       "    <tr>\n",
       "      <th>3</th>\n",
       "      <td>29</td>\n",
       "      <td>30</td>\n",
       "      <td>41</td>\n",
       "    </tr>\n",
       "    <tr>\n",
       "      <th>4</th>\n",
       "      <td>28</td>\n",
       "      <td>33</td>\n",
       "      <td>42</td>\n",
       "    </tr>\n",
       "  </tbody>\n",
       "</table>\n",
       "</div>"
      ],
      "text/plain": [
       "   GRUP_A  GRUP_B  GRUP_C\n",
       "0      28      31      40\n",
       "1      33      32      33\n",
       "2      30      30      38\n",
       "3      29      30      41\n",
       "4      28      33      42"
      ]
     },
     "execution_count": 24,
     "metadata": {},
     "output_type": "execute_result"
    }
   ],
   "source": [
    "A = pd.DataFrame([28,33,30,29,28,29,27,31,30,32,28,33,25,29,27,31,31,30,31,34,30,32,31,34,28,32,31,28,33,29])\n",
    "\n",
    "B = pd.DataFrame([31,32,30,30,33,32,34,27,36,30,31,30,38,29,30,34,34,31,35,35,33,30,28,29,26,37,31,28,34,33])\n",
    "\n",
    "C = pd.DataFrame([40,33,38,41,42,43,38,35,39,39,36,34,35,40,38,36,39,36,33,35,38,35,40,40,39,38,38,43,40,42])\n",
    "\n",
    "dfs = [A, B, C]\n",
    "\n",
    "ABC = pd.concat(dfs, axis = 1)\n",
    "ABC.columns = [\"GRUP_A\",\"GRUP_B\",\"GRUP_C\"]\n",
    "ABC.head()"
   ]
  },
  {
   "cell_type": "markdown",
   "metadata": {},
   "source": [
    "## Varsayım Kontrolü"
   ]
  },
  {
   "cell_type": "code",
   "execution_count": 25,
   "metadata": {},
   "outputs": [],
   "source": [
    "from scipy.stats import shapiro"
   ]
  },
  {
   "cell_type": "code",
   "execution_count": 26,
   "metadata": {},
   "outputs": [
    {
     "data": {
      "text/plain": [
       "(0.9697431921958923, 0.5321715474128723)"
      ]
     },
     "execution_count": 26,
     "metadata": {},
     "output_type": "execute_result"
    }
   ],
   "source": [
    "shapiro(ABC[\"GRUP_A\"])"
   ]
  },
  {
   "cell_type": "code",
   "execution_count": 27,
   "metadata": {},
   "outputs": [
    {
     "data": {
      "text/plain": [
       "(0.9789854884147644, 0.7979801297187805)"
      ]
     },
     "execution_count": 27,
     "metadata": {},
     "output_type": "execute_result"
    }
   ],
   "source": [
    "shapiro(ABC[\"GRUP_B\"])"
   ]
  },
  {
   "cell_type": "code",
   "execution_count": 28,
   "metadata": {},
   "outputs": [
    {
     "data": {
      "text/plain": [
       "(0.9579201340675354, 0.273820161819458)"
      ]
     },
     "execution_count": 28,
     "metadata": {},
     "output_type": "execute_result"
    }
   ],
   "source": [
    "shapiro(ABC[\"GRUP_C\"])"
   ]
  },
  {
   "cell_type": "code",
   "execution_count": 29,
   "metadata": {},
   "outputs": [
    {
     "data": {
      "text/plain": [
       "LeveneResult(statistic=1.0267403645055275, pvalue=0.36247110117417064)"
      ]
     },
     "execution_count": 29,
     "metadata": {},
     "output_type": "execute_result"
    }
   ],
   "source": [
    "stats.levene(ABC[\"GRUP_A\"], ABC[\"GRUP_B\"],ABC[\"GRUP_C\"])"
   ]
  },
  {
   "cell_type": "markdown",
   "metadata": {},
   "source": [
    "## Hipotez Testi"
   ]
  },
  {
   "cell_type": "code",
   "execution_count": 32,
   "metadata": {},
   "outputs": [],
   "source": [
    "from scipy.stats import f_oneway"
   ]
  },
  {
   "cell_type": "code",
   "execution_count": 33,
   "metadata": {},
   "outputs": [
    {
     "data": {
      "text/plain": [
       "F_onewayResult(statistic=74.69278140730431, pvalue=1.3079050746811477e-19)"
      ]
     },
     "execution_count": 33,
     "metadata": {},
     "output_type": "execute_result"
    }
   ],
   "source": [
    "f_oneway(ABC[\"GRUP_A\"], ABC[\"GRUP_B\"],ABC[\"GRUP_C\"])"
   ]
  },
  {
   "cell_type": "code",
   "execution_count": 34,
   "metadata": {},
   "outputs": [
    {
     "name": "stdout",
     "output_type": "stream",
     "text": [
      "0.00000\n"
     ]
    }
   ],
   "source": [
    "print('{:.5f}'.format(f_oneway(ABC[\"GRUP_A\"], ABC[\"GRUP_B\"],ABC[\"GRUP_C\"])[1]))"
   ]
  },
  {
   "cell_type": "code",
   "execution_count": 36,
   "metadata": {},
   "outputs": [
    {
     "data": {
      "text/html": [
       "<div>\n",
       "<style scoped>\n",
       "    .dataframe tbody tr th:only-of-type {\n",
       "        vertical-align: middle;\n",
       "    }\n",
       "\n",
       "    .dataframe tbody tr th {\n",
       "        vertical-align: top;\n",
       "    }\n",
       "\n",
       "    .dataframe thead th {\n",
       "        text-align: right;\n",
       "    }\n",
       "</style>\n",
       "<table border=\"1\" class=\"dataframe\">\n",
       "  <thead>\n",
       "    <tr style=\"text-align: right;\">\n",
       "      <th></th>\n",
       "      <th>count</th>\n",
       "      <th>mean</th>\n",
       "      <th>std</th>\n",
       "      <th>min</th>\n",
       "      <th>25%</th>\n",
       "      <th>50%</th>\n",
       "      <th>75%</th>\n",
       "      <th>max</th>\n",
       "    </tr>\n",
       "  </thead>\n",
       "  <tbody>\n",
       "    <tr>\n",
       "      <th>GRUP_A</th>\n",
       "      <td>30.0</td>\n",
       "      <td>30.133333</td>\n",
       "      <td>2.224214</td>\n",
       "      <td>25.0</td>\n",
       "      <td>28.25</td>\n",
       "      <td>30.0</td>\n",
       "      <td>31.75</td>\n",
       "      <td>34.0</td>\n",
       "    </tr>\n",
       "    <tr>\n",
       "      <th>GRUP_B</th>\n",
       "      <td>30.0</td>\n",
       "      <td>31.700000</td>\n",
       "      <td>2.937862</td>\n",
       "      <td>26.0</td>\n",
       "      <td>30.00</td>\n",
       "      <td>31.0</td>\n",
       "      <td>34.00</td>\n",
       "      <td>38.0</td>\n",
       "    </tr>\n",
       "    <tr>\n",
       "      <th>GRUP_C</th>\n",
       "      <td>30.0</td>\n",
       "      <td>38.100000</td>\n",
       "      <td>2.808239</td>\n",
       "      <td>33.0</td>\n",
       "      <td>36.00</td>\n",
       "      <td>38.0</td>\n",
       "      <td>40.00</td>\n",
       "      <td>43.0</td>\n",
       "    </tr>\n",
       "  </tbody>\n",
       "</table>\n",
       "</div>"
      ],
      "text/plain": [
       "        count       mean       std   min    25%   50%    75%   max\n",
       "GRUP_A   30.0  30.133333  2.224214  25.0  28.25  30.0  31.75  34.0\n",
       "GRUP_B   30.0  31.700000  2.937862  26.0  30.00  31.0  34.00  38.0\n",
       "GRUP_C   30.0  38.100000  2.808239  33.0  36.00  38.0  40.00  43.0"
      ]
     },
     "execution_count": 36,
     "metadata": {},
     "output_type": "execute_result"
    }
   ],
   "source": [
    "ABC.describe().T"
   ]
  },
  {
   "cell_type": "markdown",
   "metadata": {},
   "source": [
    "## Nonparametrik Hipotez Testi"
   ]
  },
  {
   "cell_type": "code",
   "execution_count": 39,
   "metadata": {},
   "outputs": [],
   "source": [
    "from scipy.stats import kruskal"
   ]
  },
  {
   "cell_type": "code",
   "execution_count": 40,
   "metadata": {},
   "outputs": [
    {
     "data": {
      "text/plain": [
       "KruskalResult(statistic=54.19819735523783, pvalue=1.7022015426175926e-12)"
      ]
     },
     "execution_count": 40,
     "metadata": {},
     "output_type": "execute_result"
    }
   ],
   "source": [
    "kruskal(ABC[\"GRUP_A\"], ABC[\"GRUP_B\"],ABC[\"GRUP_C\"])"
   ]
  },
  {
   "cell_type": "markdown",
   "metadata": {},
   "source": [
    "## Korelasyon Analizi"
   ]
  },
  {
   "cell_type": "markdown",
   "metadata": {},
   "source": [
    "#### **İş Uygulaması: Bahşiş ile Ödenen Hesap Arasındaki İlişkinin İncelenmesi**"
   ]
  },
  {
   "cell_type": "markdown",
   "metadata": {},
   "source": [
    "**Bahşiş veri seti:**\n",
    "\n",
    "**total_bill:** yemeğin toplam fiyatı (bahşiş ve vergi dahil)\n",
    "\n",
    "**tip:** bahşiş\n",
    "\n",
    "**sex:** ücreti ödeyen kişinin cinsiyeti (0=male, 1=female)\n",
    "\n",
    "**smoker:** grupta sigara içen var mı? (0=No, 1=Yes)\n",
    "\n",
    "**day:** gün (3=Thur, 4=Fri, 5=Sat, 6=Sun)\n",
    "\n",
    "**time:** ne zaman? (0=Day, 1=Night)\n",
    "\n",
    "**size:** grupta kaç kişi var?"
   ]
  },
  {
   "cell_type": "code",
   "execution_count": 1,
   "metadata": {},
   "outputs": [
    {
     "data": {
      "text/html": [
       "<div>\n",
       "<style scoped>\n",
       "    .dataframe tbody tr th:only-of-type {\n",
       "        vertical-align: middle;\n",
       "    }\n",
       "\n",
       "    .dataframe tbody tr th {\n",
       "        vertical-align: top;\n",
       "    }\n",
       "\n",
       "    .dataframe thead th {\n",
       "        text-align: right;\n",
       "    }\n",
       "</style>\n",
       "<table border=\"1\" class=\"dataframe\">\n",
       "  <thead>\n",
       "    <tr style=\"text-align: right;\">\n",
       "      <th></th>\n",
       "      <th>total_bill</th>\n",
       "      <th>tip</th>\n",
       "      <th>sex</th>\n",
       "      <th>smoker</th>\n",
       "      <th>day</th>\n",
       "      <th>time</th>\n",
       "      <th>size</th>\n",
       "    </tr>\n",
       "  </thead>\n",
       "  <tbody>\n",
       "    <tr>\n",
       "      <th>0</th>\n",
       "      <td>16.99</td>\n",
       "      <td>1.01</td>\n",
       "      <td>Female</td>\n",
       "      <td>No</td>\n",
       "      <td>Sun</td>\n",
       "      <td>Dinner</td>\n",
       "      <td>2</td>\n",
       "    </tr>\n",
       "    <tr>\n",
       "      <th>1</th>\n",
       "      <td>10.34</td>\n",
       "      <td>1.66</td>\n",
       "      <td>Male</td>\n",
       "      <td>No</td>\n",
       "      <td>Sun</td>\n",
       "      <td>Dinner</td>\n",
       "      <td>3</td>\n",
       "    </tr>\n",
       "    <tr>\n",
       "      <th>2</th>\n",
       "      <td>21.01</td>\n",
       "      <td>3.50</td>\n",
       "      <td>Male</td>\n",
       "      <td>No</td>\n",
       "      <td>Sun</td>\n",
       "      <td>Dinner</td>\n",
       "      <td>3</td>\n",
       "    </tr>\n",
       "    <tr>\n",
       "      <th>3</th>\n",
       "      <td>23.68</td>\n",
       "      <td>3.31</td>\n",
       "      <td>Male</td>\n",
       "      <td>No</td>\n",
       "      <td>Sun</td>\n",
       "      <td>Dinner</td>\n",
       "      <td>2</td>\n",
       "    </tr>\n",
       "    <tr>\n",
       "      <th>4</th>\n",
       "      <td>24.59</td>\n",
       "      <td>3.61</td>\n",
       "      <td>Female</td>\n",
       "      <td>No</td>\n",
       "      <td>Sun</td>\n",
       "      <td>Dinner</td>\n",
       "      <td>4</td>\n",
       "    </tr>\n",
       "  </tbody>\n",
       "</table>\n",
       "</div>"
      ],
      "text/plain": [
       "   total_bill   tip     sex smoker  day    time  size\n",
       "0       16.99  1.01  Female     No  Sun  Dinner     2\n",
       "1       10.34  1.66    Male     No  Sun  Dinner     3\n",
       "2       21.01  3.50    Male     No  Sun  Dinner     3\n",
       "3       23.68  3.31    Male     No  Sun  Dinner     2\n",
       "4       24.59  3.61  Female     No  Sun  Dinner     4"
      ]
     },
     "execution_count": 1,
     "metadata": {},
     "output_type": "execute_result"
    }
   ],
   "source": [
    "import seaborn as sns\n",
    "tips = sns.load_dataset('tips')\n",
    "df = tips.copy()\n",
    "df.head()"
   ]
  },
  {
   "cell_type": "code",
   "execution_count": 2,
   "metadata": {},
   "outputs": [],
   "source": [
    "df[\"total_bill\"] = df[\"total_bill\"] - df[\"tip\"]"
   ]
  },
  {
   "cell_type": "code",
   "execution_count": 3,
   "metadata": {},
   "outputs": [
    {
     "data": {
      "text/html": [
       "<div>\n",
       "<style scoped>\n",
       "    .dataframe tbody tr th:only-of-type {\n",
       "        vertical-align: middle;\n",
       "    }\n",
       "\n",
       "    .dataframe tbody tr th {\n",
       "        vertical-align: top;\n",
       "    }\n",
       "\n",
       "    .dataframe thead th {\n",
       "        text-align: right;\n",
       "    }\n",
       "</style>\n",
       "<table border=\"1\" class=\"dataframe\">\n",
       "  <thead>\n",
       "    <tr style=\"text-align: right;\">\n",
       "      <th></th>\n",
       "      <th>total_bill</th>\n",
       "      <th>tip</th>\n",
       "      <th>sex</th>\n",
       "      <th>smoker</th>\n",
       "      <th>day</th>\n",
       "      <th>time</th>\n",
       "      <th>size</th>\n",
       "    </tr>\n",
       "  </thead>\n",
       "  <tbody>\n",
       "    <tr>\n",
       "      <th>0</th>\n",
       "      <td>15.98</td>\n",
       "      <td>1.01</td>\n",
       "      <td>Female</td>\n",
       "      <td>No</td>\n",
       "      <td>Sun</td>\n",
       "      <td>Dinner</td>\n",
       "      <td>2</td>\n",
       "    </tr>\n",
       "    <tr>\n",
       "      <th>1</th>\n",
       "      <td>8.68</td>\n",
       "      <td>1.66</td>\n",
       "      <td>Male</td>\n",
       "      <td>No</td>\n",
       "      <td>Sun</td>\n",
       "      <td>Dinner</td>\n",
       "      <td>3</td>\n",
       "    </tr>\n",
       "    <tr>\n",
       "      <th>2</th>\n",
       "      <td>17.51</td>\n",
       "      <td>3.50</td>\n",
       "      <td>Male</td>\n",
       "      <td>No</td>\n",
       "      <td>Sun</td>\n",
       "      <td>Dinner</td>\n",
       "      <td>3</td>\n",
       "    </tr>\n",
       "    <tr>\n",
       "      <th>3</th>\n",
       "      <td>20.37</td>\n",
       "      <td>3.31</td>\n",
       "      <td>Male</td>\n",
       "      <td>No</td>\n",
       "      <td>Sun</td>\n",
       "      <td>Dinner</td>\n",
       "      <td>2</td>\n",
       "    </tr>\n",
       "    <tr>\n",
       "      <th>4</th>\n",
       "      <td>20.98</td>\n",
       "      <td>3.61</td>\n",
       "      <td>Female</td>\n",
       "      <td>No</td>\n",
       "      <td>Sun</td>\n",
       "      <td>Dinner</td>\n",
       "      <td>4</td>\n",
       "    </tr>\n",
       "  </tbody>\n",
       "</table>\n",
       "</div>"
      ],
      "text/plain": [
       "   total_bill   tip     sex smoker  day    time  size\n",
       "0       15.98  1.01  Female     No  Sun  Dinner     2\n",
       "1        8.68  1.66    Male     No  Sun  Dinner     3\n",
       "2       17.51  3.50    Male     No  Sun  Dinner     3\n",
       "3       20.37  3.31    Male     No  Sun  Dinner     2\n",
       "4       20.98  3.61  Female     No  Sun  Dinner     4"
      ]
     },
     "execution_count": 3,
     "metadata": {},
     "output_type": "execute_result"
    }
   ],
   "source": [
    "df.head()"
   ]
  },
  {
   "cell_type": "code",
   "execution_count": 5,
   "metadata": {},
   "outputs": [
    {
     "data": {
      "image/png": "[encoded data removed]",
      "text/plain": [
       "<Figure size 432x288 with 1 Axes>"
      ]
     },
     "metadata": {
      "needs_background": "light"
     },
     "output_type": "display_data"
    }
   ],
   "source": [
    "df.plot.scatter(\"tip\",\"total_bill\");"
   ]
  },
  {
   "cell_type": "markdown",
   "metadata": {},
   "source": [
    "# Varsayım Kontrolü"
   ]
  },
  {
   "cell_type": "code",
   "execution_count": 6,
   "metadata": {},
   "outputs": [],
   "source": [
    "from scipy.stats import shapiro"
   ]
  },
  {
   "cell_type": "code",
   "execution_count": 7,
   "metadata": {},
   "outputs": [
    {
     "name": "stdout",
     "output_type": "stream",
     "text": [
      "Test İstatistiği = 0.8978, p-değeri = 0.0000\n",
      "Test İstatistiği = 0.9136, p-değeri = 0.0000\n"
     ]
    }
   ],
   "source": [
    "test_istatistigi, pvalue = shapiro(df[\"tip\"])\n",
    "print('Test İstatistiği = %.4f, p-değeri = %.4f' % (test_istatistigi, pvalue))\n",
    "\n",
    "test_istatistigi, pvalue = shapiro(df[\"total_bill\"])\n",
    "print('Test İstatistiği = %.4f, p-değeri = %.4f' % (test_istatistigi, pvalue))"
   ]
  },
  {
   "cell_type": "markdown",
   "metadata": {},
   "source": [
    "# Hipotez Testi"
   ]
  },
  {
   "cell_type": "markdown",
   "metadata": {},
   "source": [
    "### Korelasyon Katsayısı"
   ]
  },
  {
   "cell_type": "code",
   "execution_count": 8,
   "metadata": {},
   "outputs": [
    {
     "data": {
      "text/plain": [
       "0.5766634471096374"
      ]
     },
     "execution_count": 8,
     "metadata": {},
     "output_type": "execute_result"
    }
   ],
   "source": [
    "df[\"tip\"].corr(df[\"total_bill\"])"
   ]
  },
  {
   "cell_type": "code",
   "execution_count": 9,
   "metadata": {},
   "outputs": [
    {
     "data": {
      "text/plain": [
       "0.593691939408997"
      ]
     },
     "execution_count": 9,
     "metadata": {},
     "output_type": "execute_result"
    }
   ],
   "source": [
    "df[\"tip\"].corr(df[\"total_bill\"], method = \"spearman\")"
   ]
  },
  {
   "cell_type": "markdown",
   "metadata": {},
   "source": [
    "### Korelasyonun Anlamlılığının Testi"
   ]
  },
  {
   "cell_type": "code",
   "execution_count": 10,
   "metadata": {},
   "outputs": [],
   "source": [
    "from scipy.stats.stats import pearsonr"
   ]
  },
  {
   "cell_type": "code",
   "execution_count": 16,
   "metadata": {},
   "outputs": [
    {
     "name": "stdout",
     "output_type": "stream",
     "text": [
      "Korelasyon Katsayısı = 0.5767, p-değeri = 0.0000\n"
     ]
    }
   ],
   "source": [
    "test_istatistigi, pvalue = pearsonr(df[\"tip\"],df[\"total_bill\"])\n",
    "\n",
    "print('Korelasyon Katsayısı = %.4f, p-değeri = %.4f' % (test_istatistigi, pvalue))"
   ]
  },
  {
   "cell_type": "markdown",
   "metadata": {},
   "source": [
    "## Nonparametrik Hipotez Testi"
   ]
  },
  {
   "cell_type": "code",
   "execution_count": 13,
   "metadata": {},
   "outputs": [
    {
     "data": {
      "text/plain": [
       "SpearmanrResult(correlation=0.593691939408997, pvalue=1.2452285137560276e-24)"
      ]
     },
     "execution_count": 13,
     "metadata": {},
     "output_type": "execute_result"
    }
   ],
   "source": [
    "from scipy.stats import stats\n",
    "stats.spearmanr(df[\"tip\"],df[\"total_bill\"])"
   ]
  },
  {
   "cell_type": "code",
   "execution_count": 15,
   "metadata": {},
   "outputs": [
    {
     "name": "stdout",
     "output_type": "stream",
     "text": [
      "Korelasyon Katsayısı = 0.5937, p-değeri = 0.0000\n"
     ]
    }
   ],
   "source": [
    "test_istatistigi, pvalue = stats.spearmanr(df[\"tip\"],df[\"total_bill\"])\n",
    "\n",
    "print('Korelasyon Katsayısı = %.4f, p-değeri = %.4f' % (test_istatistigi, pvalue))"
   ]
  },
  {
   "cell_type": "code",
   "execution_count": 17,
   "metadata": {},
   "outputs": [
    {
     "name": "stdout",
     "output_type": "stream",
     "text": [
      "Korelasyon Katsayısı = 0.4401, p-değeri = 0.0000\n"
     ]
    }
   ],
   "source": [
    "test_istatistigi, pvalue = stats.kendalltau(df[\"tip\"],df[\"total_bill\"])\n",
    "\n",
    "print('Korelasyon Katsayısı = %.4f, p-değeri = %.4f' % (test_istatistigi, pvalue))"
   ]
  },
  {
   "cell_type": "code",
   "execution_count": null,
   "metadata": {},
   "outputs": [],
   "source": []
  }
 ],
 "metadata": {
  "colab": {
   "name": "Statistic.ipynb",
   "provenance": []
  },
  "kernelspec": {
   "display_name": "Python 3",
   "language": "python",
   "name": "python3"
  },
  "language_info": {
   "codemirror_mode": {
    "name": "ipython",
    "version": 3
   },
   "file_extension": ".py",
   "mimetype": "text/x-python",
   "name": "python",
   "nbconvert_exporter": "python",
   "pygments_lexer": "ipython3",
   "version": "3.7.6"
  }
 },
 "nbformat": 4,
 "nbformat_minor": 4
}
